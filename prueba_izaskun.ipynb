{
 "cells": [
  {
   "cell_type": "code",
   "execution_count": 6,
   "metadata": {},
   "outputs": [],
   "source": [
    "import pandas as pd\n",
    "import os\n",
    "import seaborn as sns\n",
    "import matplotlib.pyplot as plt\n",
    "import plotly.express as px"
   ]
  },
  {
   "cell_type": "code",
   "execution_count": 9,
   "metadata": {},
   "outputs": [],
   "source": [
    "CARPETA_DATOS_LIMPIOS = 'Datos/Limpios/'\n",
    "df= pd.read_csv(os.path.join(CARPETA_DATOS_LIMPIOS, 'DF_ADQUISICION.csv'))"
   ]
  },
  {
   "cell_type": "code",
   "execution_count": 12,
   "metadata": {},
   "outputs": [
    {
     "data": {
      "text/plain": [
       "Index(['startup', 'growth_stage', 'revenue_models', 'b2b_b2c', 'Nombre_sabi',\n",
       "       'growth_stage.1', 'startup.1', 'Anos en Mercado',\n",
       "       'Cash flow mil EUR_2021', 'EBITDA mil EUR_2021',\n",
       "       'Inmovilizado mil EUR_2021', 'Fondos propios mil EUR_2021',\n",
       "       'Valor agregado mil EUR_2021', 'Total pasivo_ratio',\n",
       "       'Inmovilizado mil EUR_ratio', 'Capital suscrito mil EUR_2021',\n",
       "       'Capital social mil EUR', 'Gastos financieros mil EUR_ratio',\n",
       "       'Gastos de personal mil EUR_2021', 'Resultado financiero mil EUR_ratio',\n",
       "       'Total pasivo y capital propio mil EUR_2021',\n",
       "       'Total activo mil EUR_2021', 'Gastos financieros mil EUR_2021',\n",
       "       'Pasivo fijo mil EUR_2021', 'total_funding',\n",
       "       'Porcentaje_adquisicion_cat'],\n",
       "      dtype='object')"
      ]
     },
     "execution_count": 12,
     "metadata": {},
     "output_type": "execute_result"
    }
   ],
   "source": [
    "df.columns"
   ]
  }
 ],
 "metadata": {
  "kernelspec": {
   "display_name": "Reto07",
   "language": "python",
   "name": "python3"
  },
  "language_info": {
   "codemirror_mode": {
    "name": "ipython",
    "version": 3
   },
   "file_extension": ".py",
   "mimetype": "text/x-python",
   "name": "python",
   "nbconvert_exporter": "python",
   "pygments_lexer": "ipython3",
   "version": "3.9.16"
  },
  "orig_nbformat": 4
 },
 "nbformat": 4,
 "nbformat_minor": 2
}
