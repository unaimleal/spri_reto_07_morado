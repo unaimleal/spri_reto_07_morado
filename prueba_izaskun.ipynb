{
 "cells": [
  {
   "cell_type": "code",
   "execution_count": 2,
   "metadata": {},
   "outputs": [],
   "source": [
    "import pandas as pd\n",
    "import os\n",
    "import seaborn as sns\n",
    "import matplotlib.pyplot as plt\n",
    "import plotly.express as px"
   ]
  },
  {
   "cell_type": "code",
   "execution_count": 3,
   "metadata": {},
   "outputs": [],
   "source": [
    "CARPETA_DATOS_LIMPIOS = 'Datos/Limpios/'\n",
    "df= pd.read_csv(os.path.join(CARPETA_DATOS_LIMPIOS, 'df_adquisicion.csv'))\n",
    "df2= pd.read_csv(os.path.join(CARPETA_DATOS_LIMPIOS, 'df_valoracion.csv'))\n"
   ]
  },
  {
   "cell_type": "code",
   "execution_count": 12,
   "metadata": {},
   "outputs": [
    {
     "data": {
      "text/plain": [
       "Index(['b2b_b2c', 'Nombre_sabi', 'growth_stage', 'startup', 'Anos en Mercado',\n",
       "       'Cash flow mil EUR_2021', 'EBITDA mil EUR_2021',\n",
       "       'Inmovilizado mil EUR_2021', 'Fondos propios mil EUR_2021',\n",
       "       'Valor agregado mil EUR_2021', 'Total pasivo_ratio',\n",
       "       'Inmovilizado mil EUR_ratio', 'Capital suscrito mil EUR_2021',\n",
       "       'Capital social mil EUR', 'Gastos financieros mil EUR_ratio',\n",
       "       'Gastos de personal mil EUR_2021', 'Resultado financiero mil EUR_ratio',\n",
       "       'Total pasivo y capital propio mil EUR_2021',\n",
       "       'Total activo mil EUR_2021', 'Gastos financieros mil EUR_2021',\n",
       "       'Pasivo fijo mil EUR_2021', 'total_funding',\n",
       "       'Porcentaje_adquisicion_cat'],\n",
       "      dtype='object')"
      ]
     },
     "execution_count": 12,
     "metadata": {},
     "output_type": "execute_result"
    }
   ],
   "source": [
    "df.columns"
   ]
  },
  {
   "cell_type": "code",
   "execution_count": 4,
   "metadata": {},
   "outputs": [
    {
     "data": {
      "text/plain": [
       "Index(['startup', 'growth_stage', 'b2b_b2c', 'Nombre_sabi', 'valuation_2022',\n",
       "       'Precio/Venta', 'Activo circulante mil EUR_2021',\n",
       "       'Fondos propios mil EUR_2021', 'Total activo mil EUR_2021',\n",
       "       'Total pasivo y capital propio mil EUR_2021',\n",
       "       'Fondo de maniobra mil EUR_2021', 'Deudores mil EUR_2021',\n",
       "       'Beneficio neto mil EUR', 'Ingresos de explotacion mil EUR_2021',\n",
       "       'Importe neto Cifra de Ventas mil EUR_2021',\n",
       "       'Pasivo liquido mil EUR_2021', 'Total pasivo_2021', 'total_funding',\n",
       "       'Pasivo fijo mil EUR_2021', 'Gastos financieros mil EUR_2021',\n",
       "       'Resultado Explotacion mil EUR_2021', 'EBIT mil EUR_2021', 'PER',\n",
       "       'Resultado del Ejercicio mil EUR_2021',\n",
       "       'Result. ordinarios antes Impuestos mil EUR_2021',\n",
       "       'Importe neto Cifra de Ventas mil EUR_ratio'],\n",
       "      dtype='object')"
      ]
     },
     "execution_count": 4,
     "metadata": {},
     "output_type": "execute_result"
    }
   ],
   "source": [
    "df2.columns"
   ]
  },
  {
   "cell_type": "code",
   "execution_count": null,
   "metadata": {},
   "outputs": [],
   "source": []
  }
 ],
 "metadata": {
  "kernelspec": {
   "display_name": "Reto07",
   "language": "python",
   "name": "python3"
  },
  "language_info": {
   "codemirror_mode": {
    "name": "ipython",
    "version": 3
   },
   "file_extension": ".py",
   "mimetype": "text/x-python",
   "name": "python",
   "nbconvert_exporter": "python",
   "pygments_lexer": "ipython3",
   "version": "3.9.16"
  },
  "orig_nbformat": 4
 },
 "nbformat": 4,
 "nbformat_minor": 2
}
