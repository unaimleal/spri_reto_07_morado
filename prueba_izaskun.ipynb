{
 "cells": [
  {
   "cell_type": "code",
   "execution_count": 10,
   "metadata": {},
   "outputs": [],
   "source": [
    "import pandas as pd\n",
    "import os\n",
    "import seaborn as sns\n",
    "import matplotlib.pyplot as plt\n",
    "import plotly.express as px"
   ]
  },
  {
   "cell_type": "code",
   "execution_count": 11,
   "metadata": {},
   "outputs": [],
   "source": [
    "CARPETA_DATOS_LIMPIOS = 'Datos/Limpios/'\n",
    "df= pd.read_csv(os.path.join(CARPETA_DATOS_LIMPIOS, 'df_adquisicion.csv'))\n",
    "df2= pd.read_csv(os.path.join(CARPETA_DATOS_LIMPIOS, 'df_valoracion.csv'))\n"
   ]
  },
  {
   "cell_type": "code",
   "execution_count": 15,
   "metadata": {},
   "outputs": [
    {
     "data": {
      "text/plain": [
       "['b2b_b2c',\n",
       " 'Nombre_sabi',\n",
       " 'growth_stage',\n",
       " 'startup',\n",
       " 'Anos en Mercado',\n",
       " 'Cash flow mil EUR_2021',\n",
       " 'EBITDA mil EUR_2021',\n",
       " 'Inmovilizado mil EUR_2021',\n",
       " 'Fondos propios mil EUR_2021',\n",
       " 'Valor agregado mil EUR_2021',\n",
       " 'Total pasivo_ratio',\n",
       " 'Inmovilizado mil EUR_ratio',\n",
       " 'Capital suscrito mil EUR_2021',\n",
       " 'Capital social mil EUR',\n",
       " 'Gastos financieros mil EUR_ratio',\n",
       " 'Gastos de personal mil EUR_2021',\n",
       " 'Resultado financiero mil EUR_ratio',\n",
       " 'Total pasivo y capital propio mil EUR_2021',\n",
       " 'Total activo mil EUR_2021',\n",
       " 'Gastos financieros mil EUR_2021',\n",
       " 'Pasivo fijo mil EUR_2021',\n",
       " 'total_funding',\n",
       " 'Porcentaje_adquisicion_cat']"
      ]
     },
     "execution_count": 15,
     "metadata": {},
     "output_type": "execute_result"
    }
   ],
   "source": [
    "list(df.columns)"
   ]
  },
  {
   "cell_type": "code",
   "execution_count": 6,
   "metadata": {},
   "outputs": [],
   "source": [
    "columnas_valoracion=list(df2.columns)"
   ]
  },
  {
   "cell_type": "code",
   "execution_count": 8,
   "metadata": {},
   "outputs": [
    {
     "data": {
      "text/plain": [
       "['startup',\n",
       " 'growth_stage',\n",
       " 'b2b_b2c',\n",
       " 'Nombre_sabi',\n",
       " 'valuation_2022',\n",
       " 'Precio/Venta',\n",
       " 'Activo circulante mil EUR_2021',\n",
       " 'Fondos propios mil EUR_2021',\n",
       " 'Total activo mil EUR_2021',\n",
       " 'Total pasivo y capital propio mil EUR_2021',\n",
       " 'Fondo de maniobra mil EUR_2021',\n",
       " 'Deudores mil EUR_2021',\n",
       " 'Beneficio neto mil EUR',\n",
       " 'Ingresos de explotacion mil EUR_2021',\n",
       " 'Importe neto Cifra de Ventas mil EUR_2021',\n",
       " 'Pasivo liquido mil EUR_2021',\n",
       " 'Total pasivo_2021',\n",
       " 'total_funding',\n",
       " 'Pasivo fijo mil EUR_2021',\n",
       " 'Gastos financieros mil EUR_2021',\n",
       " 'Resultado Explotacion mil EUR_2021',\n",
       " 'EBIT mil EUR_2021',\n",
       " 'PER',\n",
       " 'Resultado del Ejercicio mil EUR_2021',\n",
       " 'Result. ordinarios antes Impuestos mil EUR_2021',\n",
       " 'Importe neto Cifra de Ventas mil EUR_ratio']"
      ]
     },
     "execution_count": 8,
     "metadata": {},
     "output_type": "execute_result"
    }
   ],
   "source": [
    "columnas_valoracion"
   ]
  },
  {
   "cell_type": "code",
   "execution_count": 14,
   "metadata": {},
   "outputs": [
    {
     "name": "stdout",
     "output_type": "stream",
     "text": [
      "0      2.151838\n",
      "1      2.151838\n",
      "2      2.151838\n",
      "3      2.151838\n",
      "4      2.151838\n",
      "         ...   \n",
      "111    8.065771\n",
      "112    8.065771\n",
      "113    8.065771\n",
      "114    9.211500\n",
      "115    1.000000\n",
      "Name: Importe neto Cifra de Ventas mil EUR_ratio, Length: 116, dtype: float64\n"
     ]
    }
   ],
   "source": []
  }
 ],
 "metadata": {
  "kernelspec": {
   "display_name": "Reto07",
   "language": "python",
   "name": "python3"
  },
  "language_info": {
   "codemirror_mode": {
    "name": "ipython",
    "version": 3
   },
   "file_extension": ".py",
   "mimetype": "text/x-python",
   "name": "python",
   "nbconvert_exporter": "python",
   "pygments_lexer": "ipython3",
   "version": "3.9.16"
  },
  "orig_nbformat": 4
 },
 "nbformat": 4,
 "nbformat_minor": 2
}
