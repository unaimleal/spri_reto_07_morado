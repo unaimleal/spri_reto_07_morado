{
 "cells": [
  {
   "attachments": {},
   "cell_type": "markdown",
   "metadata": {},
   "source": [
    "## **ANÁLISIS DESCRIPTIVO** ##"
   ]
  },
  {
   "cell_type": "code",
   "execution_count": 1,
   "metadata": {},
   "outputs": [],
   "source": [
    "%matplotlib notebook\n",
    "%matplotlib inline"
   ]
  },
  {
   "cell_type": "code",
   "execution_count": 2,
   "metadata": {},
   "outputs": [],
   "source": [
    "import pandas as pd\n",
    "import os\n",
    "import seaborn as sns\n",
    "import matplotlib.pyplot as plt\n",
    "import plotly.graph_objects as go\n",
    "import plotly.express as px\n",
    "import plotly.io as pio\n",
    "from plotly.subplots import make_subplots\n",
    "from geopy.geocoders import Nominatim \n",
    "import numpy as np"
   ]
  },
  {
   "cell_type": "code",
   "execution_count": 3,
   "metadata": {},
   "outputs": [],
   "source": [
    "CARPETA_DATOS_LIMPIOS = 'Datos/Limpios/'\n",
    "df_adquisicion_final = pd.read_csv(os.path.join(CARPETA_DATOS_LIMPIOS, 'df_adquisicion.csv'))\n",
    "df_graficos= pd.read_csv(os.path.join(CARPETA_DATOS_LIMPIOS, 'df_graficos.csv'))\n",
    "df_valoracion= pd.read_csv(os.path.join(CARPETA_DATOS_LIMPIOS, 'df_valoracion.csv'))"
   ]
  },
  {
   "cell_type": "code",
   "execution_count": 4,
   "metadata": {},
   "outputs": [
    {
     "data": {
      "text/plain": [
       "(412, 23)"
      ]
     },
     "execution_count": 4,
     "metadata": {},
     "output_type": "execute_result"
    }
   ],
   "source": [
    "df_adquisicion_final.shape"
   ]
  },
  {
   "cell_type": "code",
   "execution_count": 5,
   "metadata": {},
   "outputs": [
    {
     "data": {
      "text/plain": [
       "(412, 110)"
      ]
     },
     "execution_count": 5,
     "metadata": {},
     "output_type": "execute_result"
    }
   ],
   "source": [
    "df_graficos.shape"
   ]
  },
  {
   "cell_type": "code",
   "execution_count": 6,
   "metadata": {},
   "outputs": [
    {
     "data": {
      "text/plain": [
       "(116, 26)"
      ]
     },
     "execution_count": 6,
     "metadata": {},
     "output_type": "execute_result"
    }
   ],
   "source": [
    "df_valoracion.shape"
   ]
  },
  {
   "attachments": {},
   "cell_type": "markdown",
   "metadata": {},
   "source": [
    "##### **ANÁLISIS DE LA VARIABLE GROWTH_STAGE** #####"
   ]
  },
  {
   "attachments": {},
   "cell_type": "markdown",
   "metadata": {},
   "source": [
    "###### PIE PLOT DE LA DISTRIBUCIÓN DE LAS EMPRESAS DEPENDIENDO DEL GROWTH_STAGE #####"
   ]
  },
  {
   "cell_type": "code",
   "execution_count": 7,
   "metadata": {},
   "outputs": [],
   "source": [
    "mapping = {0: 'seed', 1: 'early growth', 2: 'late growth'}\n",
    "df_graficos['growth_stage'] = df_graficos['growth_stage'].map(mapping)"
   ]
  },
  {
   "cell_type": "code",
   "execution_count": 8,
   "metadata": {},
   "outputs": [
    {
     "data": {
      "text/html": [
       "<div>\n",
       "<style scoped>\n",
       "    .dataframe tbody tr th:only-of-type {\n",
       "        vertical-align: middle;\n",
       "    }\n",
       "\n",
       "    .dataframe tbody tr th {\n",
       "        vertical-align: top;\n",
       "    }\n",
       "\n",
       "    .dataframe thead th {\n",
       "        text-align: right;\n",
       "    }\n",
       "</style>\n",
       "<table border=\"1\" class=\"dataframe\">\n",
       "  <thead>\n",
       "    <tr style=\"text-align: right;\">\n",
       "      <th></th>\n",
       "      <th>growth_stage</th>\n",
       "      <th>Codigo_NIF</th>\n",
       "    </tr>\n",
       "  </thead>\n",
       "  <tbody>\n",
       "    <tr>\n",
       "      <th>0</th>\n",
       "      <td>early growth</td>\n",
       "      <td>120</td>\n",
       "    </tr>\n",
       "    <tr>\n",
       "      <th>1</th>\n",
       "      <td>late growth</td>\n",
       "      <td>29</td>\n",
       "    </tr>\n",
       "    <tr>\n",
       "      <th>2</th>\n",
       "      <td>seed</td>\n",
       "      <td>263</td>\n",
       "    </tr>\n",
       "  </tbody>\n",
       "</table>\n",
       "</div>"
      ],
      "text/plain": [
       "   growth_stage  Codigo_NIF\n",
       "0  early growth         120\n",
       "1   late growth          29\n",
       "2          seed         263"
      ]
     },
     "execution_count": 8,
     "metadata": {},
     "output_type": "execute_result"
    }
   ],
   "source": [
    "n_empresas = df_graficos.groupby('growth_stage')['Codigo_NIF'].count().reset_index()\n",
    "n_empresas"
   ]
  },
  {
   "cell_type": "code",
   "execution_count": 9,
   "metadata": {},
   "outputs": [
    {
     "data": {
      "application/vnd.plotly.v1+json": {
       "config": {
        "plotlyServerURL": "https://plot.ly"
       },
       "data": [
        {
         "labels": [
          "early growth",
          "late growth",
          "seed"
         ],
         "marker": {
          "colors": [
           "#81b29a",
           "#3d405b",
           "#f2cc8f"
          ]
         },
         "type": "pie",
         "values": [
          120,
          29,
          263
         ]
        }
       ],
       "layout": {
        "legend": {
         "bordercolor": "Black",
         "borderwidth": 1,
         "x": 0.65,
         "y": 0.5
        },
        "template": {
         "data": {
          "bar": [
           {
            "error_x": {
             "color": "#2a3f5f"
            },
            "error_y": {
             "color": "#2a3f5f"
            },
            "marker": {
             "line": {
              "color": "#E5ECF6",
              "width": 0.5
             },
             "pattern": {
              "fillmode": "overlay",
              "size": 10,
              "solidity": 0.2
             }
            },
            "type": "bar"
           }
          ],
          "barpolar": [
           {
            "marker": {
             "line": {
              "color": "#E5ECF6",
              "width": 0.5
             },
             "pattern": {
              "fillmode": "overlay",
              "size": 10,
              "solidity": 0.2
             }
            },
            "type": "barpolar"
           }
          ],
          "carpet": [
           {
            "aaxis": {
             "endlinecolor": "#2a3f5f",
             "gridcolor": "white",
             "linecolor": "white",
             "minorgridcolor": "white",
             "startlinecolor": "#2a3f5f"
            },
            "baxis": {
             "endlinecolor": "#2a3f5f",
             "gridcolor": "white",
             "linecolor": "white",
             "minorgridcolor": "white",
             "startlinecolor": "#2a3f5f"
            },
            "type": "carpet"
           }
          ],
          "choropleth": [
           {
            "colorbar": {
             "outlinewidth": 0,
             "ticks": ""
            },
            "type": "choropleth"
           }
          ],
          "contour": [
           {
            "colorbar": {
             "outlinewidth": 0,
             "ticks": ""
            },
            "colorscale": [
             [
              0,
              "#0d0887"
             ],
             [
              0.1111111111111111,
              "#46039f"
             ],
             [
              0.2222222222222222,
              "#7201a8"
             ],
             [
              0.3333333333333333,
              "#9c179e"
             ],
             [
              0.4444444444444444,
              "#bd3786"
             ],
             [
              0.5555555555555556,
              "#d8576b"
             ],
             [
              0.6666666666666666,
              "#ed7953"
             ],
             [
              0.7777777777777778,
              "#fb9f3a"
             ],
             [
              0.8888888888888888,
              "#fdca26"
             ],
             [
              1,
              "#f0f921"
             ]
            ],
            "type": "contour"
           }
          ],
          "contourcarpet": [
           {
            "colorbar": {
             "outlinewidth": 0,
             "ticks": ""
            },
            "type": "contourcarpet"
           }
          ],
          "heatmap": [
           {
            "colorbar": {
             "outlinewidth": 0,
             "ticks": ""
            },
            "colorscale": [
             [
              0,
              "#0d0887"
             ],
             [
              0.1111111111111111,
              "#46039f"
             ],
             [
              0.2222222222222222,
              "#7201a8"
             ],
             [
              0.3333333333333333,
              "#9c179e"
             ],
             [
              0.4444444444444444,
              "#bd3786"
             ],
             [
              0.5555555555555556,
              "#d8576b"
             ],
             [
              0.6666666666666666,
              "#ed7953"
             ],
             [
              0.7777777777777778,
              "#fb9f3a"
             ],
             [
              0.8888888888888888,
              "#fdca26"
             ],
             [
              1,
              "#f0f921"
             ]
            ],
            "type": "heatmap"
           }
          ],
          "heatmapgl": [
           {
            "colorbar": {
             "outlinewidth": 0,
             "ticks": ""
            },
            "colorscale": [
             [
              0,
              "#0d0887"
             ],
             [
              0.1111111111111111,
              "#46039f"
             ],
             [
              0.2222222222222222,
              "#7201a8"
             ],
             [
              0.3333333333333333,
              "#9c179e"
             ],
             [
              0.4444444444444444,
              "#bd3786"
             ],
             [
              0.5555555555555556,
              "#d8576b"
             ],
             [
              0.6666666666666666,
              "#ed7953"
             ],
             [
              0.7777777777777778,
              "#fb9f3a"
             ],
             [
              0.8888888888888888,
              "#fdca26"
             ],
             [
              1,
              "#f0f921"
             ]
            ],
            "type": "heatmapgl"
           }
          ],
          "histogram": [
           {
            "marker": {
             "pattern": {
              "fillmode": "overlay",
              "size": 10,
              "solidity": 0.2
             }
            },
            "type": "histogram"
           }
          ],
          "histogram2d": [
           {
            "colorbar": {
             "outlinewidth": 0,
             "ticks": ""
            },
            "colorscale": [
             [
              0,
              "#0d0887"
             ],
             [
              0.1111111111111111,
              "#46039f"
             ],
             [
              0.2222222222222222,
              "#7201a8"
             ],
             [
              0.3333333333333333,
              "#9c179e"
             ],
             [
              0.4444444444444444,
              "#bd3786"
             ],
             [
              0.5555555555555556,
              "#d8576b"
             ],
             [
              0.6666666666666666,
              "#ed7953"
             ],
             [
              0.7777777777777778,
              "#fb9f3a"
             ],
             [
              0.8888888888888888,
              "#fdca26"
             ],
             [
              1,
              "#f0f921"
             ]
            ],
            "type": "histogram2d"
           }
          ],
          "histogram2dcontour": [
           {
            "colorbar": {
             "outlinewidth": 0,
             "ticks": ""
            },
            "colorscale": [
             [
              0,
              "#0d0887"
             ],
             [
              0.1111111111111111,
              "#46039f"
             ],
             [
              0.2222222222222222,
              "#7201a8"
             ],
             [
              0.3333333333333333,
              "#9c179e"
             ],
             [
              0.4444444444444444,
              "#bd3786"
             ],
             [
              0.5555555555555556,
              "#d8576b"
             ],
             [
              0.6666666666666666,
              "#ed7953"
             ],
             [
              0.7777777777777778,
              "#fb9f3a"
             ],
             [
              0.8888888888888888,
              "#fdca26"
             ],
             [
              1,
              "#f0f921"
             ]
            ],
            "type": "histogram2dcontour"
           }
          ],
          "mesh3d": [
           {
            "colorbar": {
             "outlinewidth": 0,
             "ticks": ""
            },
            "type": "mesh3d"
           }
          ],
          "parcoords": [
           {
            "line": {
             "colorbar": {
              "outlinewidth": 0,
              "ticks": ""
             }
            },
            "type": "parcoords"
           }
          ],
          "pie": [
           {
            "automargin": true,
            "type": "pie"
           }
          ],
          "scatter": [
           {
            "fillpattern": {
             "fillmode": "overlay",
             "size": 10,
             "solidity": 0.2
            },
            "type": "scatter"
           }
          ],
          "scatter3d": [
           {
            "line": {
             "colorbar": {
              "outlinewidth": 0,
              "ticks": ""
             }
            },
            "marker": {
             "colorbar": {
              "outlinewidth": 0,
              "ticks": ""
             }
            },
            "type": "scatter3d"
           }
          ],
          "scattercarpet": [
           {
            "marker": {
             "colorbar": {
              "outlinewidth": 0,
              "ticks": ""
             }
            },
            "type": "scattercarpet"
           }
          ],
          "scattergeo": [
           {
            "marker": {
             "colorbar": {
              "outlinewidth": 0,
              "ticks": ""
             }
            },
            "type": "scattergeo"
           }
          ],
          "scattergl": [
           {
            "marker": {
             "colorbar": {
              "outlinewidth": 0,
              "ticks": ""
             }
            },
            "type": "scattergl"
           }
          ],
          "scattermapbox": [
           {
            "marker": {
             "colorbar": {
              "outlinewidth": 0,
              "ticks": ""
             }
            },
            "type": "scattermapbox"
           }
          ],
          "scatterpolar": [
           {
            "marker": {
             "colorbar": {
              "outlinewidth": 0,
              "ticks": ""
             }
            },
            "type": "scatterpolar"
           }
          ],
          "scatterpolargl": [
           {
            "marker": {
             "colorbar": {
              "outlinewidth": 0,
              "ticks": ""
             }
            },
            "type": "scatterpolargl"
           }
          ],
          "scatterternary": [
           {
            "marker": {
             "colorbar": {
              "outlinewidth": 0,
              "ticks": ""
             }
            },
            "type": "scatterternary"
           }
          ],
          "surface": [
           {
            "colorbar": {
             "outlinewidth": 0,
             "ticks": ""
            },
            "colorscale": [
             [
              0,
              "#0d0887"
             ],
             [
              0.1111111111111111,
              "#46039f"
             ],
             [
              0.2222222222222222,
              "#7201a8"
             ],
             [
              0.3333333333333333,
              "#9c179e"
             ],
             [
              0.4444444444444444,
              "#bd3786"
             ],
             [
              0.5555555555555556,
              "#d8576b"
             ],
             [
              0.6666666666666666,
              "#ed7953"
             ],
             [
              0.7777777777777778,
              "#fb9f3a"
             ],
             [
              0.8888888888888888,
              "#fdca26"
             ],
             [
              1,
              "#f0f921"
             ]
            ],
            "type": "surface"
           }
          ],
          "table": [
           {
            "cells": {
             "fill": {
              "color": "#EBF0F8"
             },
             "line": {
              "color": "white"
             }
            },
            "header": {
             "fill": {
              "color": "#C8D4E3"
             },
             "line": {
              "color": "white"
             }
            },
            "type": "table"
           }
          ]
         },
         "layout": {
          "annotationdefaults": {
           "arrowcolor": "#2a3f5f",
           "arrowhead": 0,
           "arrowwidth": 1
          },
          "autotypenumbers": "strict",
          "coloraxis": {
           "colorbar": {
            "outlinewidth": 0,
            "ticks": ""
           }
          },
          "colorscale": {
           "diverging": [
            [
             0,
             "#8e0152"
            ],
            [
             0.1,
             "#c51b7d"
            ],
            [
             0.2,
             "#de77ae"
            ],
            [
             0.3,
             "#f1b6da"
            ],
            [
             0.4,
             "#fde0ef"
            ],
            [
             0.5,
             "#f7f7f7"
            ],
            [
             0.6,
             "#e6f5d0"
            ],
            [
             0.7,
             "#b8e186"
            ],
            [
             0.8,
             "#7fbc41"
            ],
            [
             0.9,
             "#4d9221"
            ],
            [
             1,
             "#276419"
            ]
           ],
           "sequential": [
            [
             0,
             "#0d0887"
            ],
            [
             0.1111111111111111,
             "#46039f"
            ],
            [
             0.2222222222222222,
             "#7201a8"
            ],
            [
             0.3333333333333333,
             "#9c179e"
            ],
            [
             0.4444444444444444,
             "#bd3786"
            ],
            [
             0.5555555555555556,
             "#d8576b"
            ],
            [
             0.6666666666666666,
             "#ed7953"
            ],
            [
             0.7777777777777778,
             "#fb9f3a"
            ],
            [
             0.8888888888888888,
             "#fdca26"
            ],
            [
             1,
             "#f0f921"
            ]
           ],
           "sequentialminus": [
            [
             0,
             "#0d0887"
            ],
            [
             0.1111111111111111,
             "#46039f"
            ],
            [
             0.2222222222222222,
             "#7201a8"
            ],
            [
             0.3333333333333333,
             "#9c179e"
            ],
            [
             0.4444444444444444,
             "#bd3786"
            ],
            [
             0.5555555555555556,
             "#d8576b"
            ],
            [
             0.6666666666666666,
             "#ed7953"
            ],
            [
             0.7777777777777778,
             "#fb9f3a"
            ],
            [
             0.8888888888888888,
             "#fdca26"
            ],
            [
             1,
             "#f0f921"
            ]
           ]
          },
          "colorway": [
           "#636efa",
           "#EF553B",
           "#00cc96",
           "#ab63fa",
           "#FFA15A",
           "#19d3f3",
           "#FF6692",
           "#B6E880",
           "#FF97FF",
           "#FECB52"
          ],
          "font": {
           "color": "#2a3f5f"
          },
          "geo": {
           "bgcolor": "white",
           "lakecolor": "white",
           "landcolor": "#E5ECF6",
           "showlakes": true,
           "showland": true,
           "subunitcolor": "white"
          },
          "hoverlabel": {
           "align": "left"
          },
          "hovermode": "closest",
          "mapbox": {
           "style": "light"
          },
          "paper_bgcolor": "white",
          "plot_bgcolor": "#E5ECF6",
          "polar": {
           "angularaxis": {
            "gridcolor": "white",
            "linecolor": "white",
            "ticks": ""
           },
           "bgcolor": "#E5ECF6",
           "radialaxis": {
            "gridcolor": "white",
            "linecolor": "white",
            "ticks": ""
           }
          },
          "scene": {
           "xaxis": {
            "backgroundcolor": "#E5ECF6",
            "gridcolor": "white",
            "gridwidth": 2,
            "linecolor": "white",
            "showbackground": true,
            "ticks": "",
            "zerolinecolor": "white"
           },
           "yaxis": {
            "backgroundcolor": "#E5ECF6",
            "gridcolor": "white",
            "gridwidth": 2,
            "linecolor": "white",
            "showbackground": true,
            "ticks": "",
            "zerolinecolor": "white"
           },
           "zaxis": {
            "backgroundcolor": "#E5ECF6",
            "gridcolor": "white",
            "gridwidth": 2,
            "linecolor": "white",
            "showbackground": true,
            "ticks": "",
            "zerolinecolor": "white"
           }
          },
          "shapedefaults": {
           "line": {
            "color": "#2a3f5f"
           }
          },
          "ternary": {
           "aaxis": {
            "gridcolor": "white",
            "linecolor": "white",
            "ticks": ""
           },
           "baxis": {
            "gridcolor": "white",
            "linecolor": "white",
            "ticks": ""
           },
           "bgcolor": "#E5ECF6",
           "caxis": {
            "gridcolor": "white",
            "linecolor": "white",
            "ticks": ""
           }
          },
          "title": {
           "x": 0.05
          },
          "xaxis": {
           "automargin": true,
           "gridcolor": "white",
           "linecolor": "white",
           "ticks": "",
           "title": {
            "standoff": 15
           },
           "zerolinecolor": "white",
           "zerolinewidth": 2
          },
          "yaxis": {
           "automargin": true,
           "gridcolor": "white",
           "linecolor": "white",
           "ticks": "",
           "title": {
            "standoff": 15
           },
           "zerolinecolor": "white",
           "zerolinewidth": 2
          }
         }
        },
        "title": {
         "text": "Distribución de las empresas por etapa de crecimiento",
         "x": 0.5
        }
       }
      }
     },
     "metadata": {},
     "output_type": "display_data"
    }
   ],
   "source": [
    "colores = ['#81b29a', '#3d405b', '#f2cc8f']\n",
    "fig = go.Figure(data=[go.Pie(labels=n_empresas['growth_stage'], values=n_empresas['Codigo_NIF'], marker=dict(colors=colores))])\n",
    "fig.update_layout(title='Distribución de las empresas por etapa de crecimiento', title_x=0.5,\n",
    "                  legend=dict(bordercolor=\"Black\", borderwidth=1, x=0.65, y=0.5))\n",
    "fig.show(width=500, height=500)"
   ]
  },
  {
   "attachments": {},
   "cell_type": "markdown",
   "metadata": {},
   "source": [
    "###### BOXPLOT DEL NÚMERO DE EMPLEADOS #####"
   ]
  },
  {
   "cell_type": "code",
   "execution_count": 10,
   "metadata": {},
   "outputs": [
    {
     "data": {
      "application/vnd.plotly.v1+json": {
       "config": {
        "plotlyServerURL": "https://plot.ly"
       },
       "data": [
        {
         "marker": {
          "color": "#f2cc8f"
         },
         "name": "Seed",
         "type": "box",
         "x": [
          6,
          10,
          2,
          3,
          6,
          4,
          5,
          1,
          5,
          10,
          4,
          4,
          2,
          2,
          6,
          3,
          1,
          8,
          4,
          2,
          1,
          4,
          2,
          4,
          2,
          17,
          1,
          6,
          2,
          6,
          2,
          1,
          1,
          1,
          2,
          1,
          1,
          1,
          2,
          3,
          2,
          2,
          1,
          2,
          1,
          4,
          2,
          2,
          2,
          1,
          2,
          1,
          1,
          3,
          4,
          3,
          5,
          3,
          1,
          12,
          6,
          6,
          4,
          5,
          1,
          1,
          46,
          12,
          1,
          4,
          1,
          2,
          3,
          10,
          3,
          28,
          27,
          5,
          7,
          5,
          5,
          2,
          5,
          2,
          9,
          4,
          1,
          5,
          1,
          4,
          8,
          7,
          27,
          4,
          34,
          3,
          10,
          4,
          1,
          1,
          4,
          5,
          1,
          4,
          4,
          4,
          6,
          2,
          5,
          2,
          4,
          2,
          4,
          2,
          2,
          5,
          10,
          3,
          3,
          3,
          4,
          1,
          5,
          1,
          5,
          1,
          7,
          4,
          3,
          2,
          2,
          2,
          15,
          2,
          1,
          5,
          7,
          2,
          2,
          10,
          3,
          3,
          9,
          1,
          15,
          3,
          3,
          24,
          1,
          2,
          3,
          3,
          3,
          1,
          2,
          62,
          2,
          26,
          1,
          2,
          1,
          1,
          26,
          1,
          19,
          10,
          1,
          3,
          4,
          28,
          2,
          11,
          1,
          3,
          1,
          2,
          1,
          11,
          27,
          2,
          14,
          32,
          1,
          1,
          50,
          18,
          2,
          1,
          8,
          5,
          2,
          3,
          5,
          8,
          26,
          12,
          2,
          5,
          20,
          14,
          8,
          4,
          3,
          1,
          8,
          5,
          2,
          7,
          10,
          1,
          1,
          4,
          3,
          3,
          6,
          2,
          6,
          6,
          2,
          1,
          1,
          6,
          5,
          5,
          16,
          11,
          2,
          6,
          1,
          3,
          1,
          1,
          3,
          2,
          1,
          2,
          5,
          7,
          3,
          2,
          7,
          1,
          6,
          4,
          1,
          3,
          1,
          1,
          5,
          6,
          1,
          5,
          3,
          4,
          2,
          1,
          5,
          3,
          3,
          1,
          26,
          9,
          1
         ]
        },
        {
         "marker": {
          "color": "#81b29a"
         },
         "name": "Early growth",
         "type": "box",
         "x": [
          919,
          39,
          10,
          37,
          49,
          8,
          11,
          10,
          9,
          11,
          6,
          5,
          1,
          2,
          6,
          3,
          7,
          21,
          24,
          18,
          3,
          22,
          13,
          11,
          3,
          57,
          10,
          40,
          27,
          27,
          7,
          16,
          18,
          22,
          17,
          14,
          8,
          9,
          21,
          4,
          9,
          12,
          6,
          5,
          21,
          14,
          9,
          17,
          6,
          8,
          8,
          11,
          20,
          8,
          25,
          18,
          1,
          6,
          7,
          3,
          2,
          16,
          27,
          3,
          46,
          3,
          6,
          17,
          4,
          8,
          19,
          18,
          17,
          5,
          7,
          12,
          9,
          19,
          10,
          16,
          7,
          27,
          44,
          18,
          42,
          23,
          22,
          3,
          22,
          9,
          8,
          5,
          11,
          2,
          2,
          10,
          19,
          23,
          17,
          29,
          8,
          17,
          22,
          26,
          9,
          2,
          13,
          4,
          8,
          3,
          14,
          4,
          5,
          4,
          5,
          10,
          3,
          9,
          8,
          9
         ]
        },
        {
         "marker": {
          "color": "#3d405b"
         },
         "name": "Late growth",
         "type": "box",
         "x": [
          69,
          32,
          61,
          1,
          82,
          26,
          57,
          84,
          3,
          27,
          203,
          27,
          3,
          3,
          2,
          30,
          42,
          66,
          3,
          33,
          7,
          76,
          9,
          85,
          1,
          338,
          1,
          19,
          37
         ]
        }
       ],
       "layout": {
        "legend": {
         "bordercolor": "Black",
         "borderwidth": 1,
         "x": 0.8,
         "y": 0.2
        },
        "template": {
         "data": {
          "bar": [
           {
            "error_x": {
             "color": "rgb(36,36,36)"
            },
            "error_y": {
             "color": "rgb(36,36,36)"
            },
            "marker": {
             "line": {
              "color": "white",
              "width": 0.5
             },
             "pattern": {
              "fillmode": "overlay",
              "size": 10,
              "solidity": 0.2
             }
            },
            "type": "bar"
           }
          ],
          "barpolar": [
           {
            "marker": {
             "line": {
              "color": "white",
              "width": 0.5
             },
             "pattern": {
              "fillmode": "overlay",
              "size": 10,
              "solidity": 0.2
             }
            },
            "type": "barpolar"
           }
          ],
          "carpet": [
           {
            "aaxis": {
             "endlinecolor": "rgb(36,36,36)",
             "gridcolor": "white",
             "linecolor": "white",
             "minorgridcolor": "white",
             "startlinecolor": "rgb(36,36,36)"
            },
            "baxis": {
             "endlinecolor": "rgb(36,36,36)",
             "gridcolor": "white",
             "linecolor": "white",
             "minorgridcolor": "white",
             "startlinecolor": "rgb(36,36,36)"
            },
            "type": "carpet"
           }
          ],
          "choropleth": [
           {
            "colorbar": {
             "outlinewidth": 1,
             "tickcolor": "rgb(36,36,36)",
             "ticks": "outside"
            },
            "type": "choropleth"
           }
          ],
          "contour": [
           {
            "colorbar": {
             "outlinewidth": 1,
             "tickcolor": "rgb(36,36,36)",
             "ticks": "outside"
            },
            "colorscale": [
             [
              0,
              "#440154"
             ],
             [
              0.1111111111111111,
              "#482878"
             ],
             [
              0.2222222222222222,
              "#3e4989"
             ],
             [
              0.3333333333333333,
              "#31688e"
             ],
             [
              0.4444444444444444,
              "#26828e"
             ],
             [
              0.5555555555555556,
              "#1f9e89"
             ],
             [
              0.6666666666666666,
              "#35b779"
             ],
             [
              0.7777777777777778,
              "#6ece58"
             ],
             [
              0.8888888888888888,
              "#b5de2b"
             ],
             [
              1,
              "#fde725"
             ]
            ],
            "type": "contour"
           }
          ],
          "contourcarpet": [
           {
            "colorbar": {
             "outlinewidth": 1,
             "tickcolor": "rgb(36,36,36)",
             "ticks": "outside"
            },
            "type": "contourcarpet"
           }
          ],
          "heatmap": [
           {
            "colorbar": {
             "outlinewidth": 1,
             "tickcolor": "rgb(36,36,36)",
             "ticks": "outside"
            },
            "colorscale": [
             [
              0,
              "#440154"
             ],
             [
              0.1111111111111111,
              "#482878"
             ],
             [
              0.2222222222222222,
              "#3e4989"
             ],
             [
              0.3333333333333333,
              "#31688e"
             ],
             [
              0.4444444444444444,
              "#26828e"
             ],
             [
              0.5555555555555556,
              "#1f9e89"
             ],
             [
              0.6666666666666666,
              "#35b779"
             ],
             [
              0.7777777777777778,
              "#6ece58"
             ],
             [
              0.8888888888888888,
              "#b5de2b"
             ],
             [
              1,
              "#fde725"
             ]
            ],
            "type": "heatmap"
           }
          ],
          "heatmapgl": [
           {
            "colorbar": {
             "outlinewidth": 1,
             "tickcolor": "rgb(36,36,36)",
             "ticks": "outside"
            },
            "colorscale": [
             [
              0,
              "#440154"
             ],
             [
              0.1111111111111111,
              "#482878"
             ],
             [
              0.2222222222222222,
              "#3e4989"
             ],
             [
              0.3333333333333333,
              "#31688e"
             ],
             [
              0.4444444444444444,
              "#26828e"
             ],
             [
              0.5555555555555556,
              "#1f9e89"
             ],
             [
              0.6666666666666666,
              "#35b779"
             ],
             [
              0.7777777777777778,
              "#6ece58"
             ],
             [
              0.8888888888888888,
              "#b5de2b"
             ],
             [
              1,
              "#fde725"
             ]
            ],
            "type": "heatmapgl"
           }
          ],
          "histogram": [
           {
            "marker": {
             "line": {
              "color": "white",
              "width": 0.6
             }
            },
            "type": "histogram"
           }
          ],
          "histogram2d": [
           {
            "colorbar": {
             "outlinewidth": 1,
             "tickcolor": "rgb(36,36,36)",
             "ticks": "outside"
            },
            "colorscale": [
             [
              0,
              "#440154"
             ],
             [
              0.1111111111111111,
              "#482878"
             ],
             [
              0.2222222222222222,
              "#3e4989"
             ],
             [
              0.3333333333333333,
              "#31688e"
             ],
             [
              0.4444444444444444,
              "#26828e"
             ],
             [
              0.5555555555555556,
              "#1f9e89"
             ],
             [
              0.6666666666666666,
              "#35b779"
             ],
             [
              0.7777777777777778,
              "#6ece58"
             ],
             [
              0.8888888888888888,
              "#b5de2b"
             ],
             [
              1,
              "#fde725"
             ]
            ],
            "type": "histogram2d"
           }
          ],
          "histogram2dcontour": [
           {
            "colorbar": {
             "outlinewidth": 1,
             "tickcolor": "rgb(36,36,36)",
             "ticks": "outside"
            },
            "colorscale": [
             [
              0,
              "#440154"
             ],
             [
              0.1111111111111111,
              "#482878"
             ],
             [
              0.2222222222222222,
              "#3e4989"
             ],
             [
              0.3333333333333333,
              "#31688e"
             ],
             [
              0.4444444444444444,
              "#26828e"
             ],
             [
              0.5555555555555556,
              "#1f9e89"
             ],
             [
              0.6666666666666666,
              "#35b779"
             ],
             [
              0.7777777777777778,
              "#6ece58"
             ],
             [
              0.8888888888888888,
              "#b5de2b"
             ],
             [
              1,
              "#fde725"
             ]
            ],
            "type": "histogram2dcontour"
           }
          ],
          "mesh3d": [
           {
            "colorbar": {
             "outlinewidth": 1,
             "tickcolor": "rgb(36,36,36)",
             "ticks": "outside"
            },
            "type": "mesh3d"
           }
          ],
          "parcoords": [
           {
            "line": {
             "colorbar": {
              "outlinewidth": 1,
              "tickcolor": "rgb(36,36,36)",
              "ticks": "outside"
             }
            },
            "type": "parcoords"
           }
          ],
          "pie": [
           {
            "automargin": true,
            "type": "pie"
           }
          ],
          "scatter": [
           {
            "fillpattern": {
             "fillmode": "overlay",
             "size": 10,
             "solidity": 0.2
            },
            "type": "scatter"
           }
          ],
          "scatter3d": [
           {
            "line": {
             "colorbar": {
              "outlinewidth": 1,
              "tickcolor": "rgb(36,36,36)",
              "ticks": "outside"
             }
            },
            "marker": {
             "colorbar": {
              "outlinewidth": 1,
              "tickcolor": "rgb(36,36,36)",
              "ticks": "outside"
             }
            },
            "type": "scatter3d"
           }
          ],
          "scattercarpet": [
           {
            "marker": {
             "colorbar": {
              "outlinewidth": 1,
              "tickcolor": "rgb(36,36,36)",
              "ticks": "outside"
             }
            },
            "type": "scattercarpet"
           }
          ],
          "scattergeo": [
           {
            "marker": {
             "colorbar": {
              "outlinewidth": 1,
              "tickcolor": "rgb(36,36,36)",
              "ticks": "outside"
             }
            },
            "type": "scattergeo"
           }
          ],
          "scattergl": [
           {
            "marker": {
             "colorbar": {
              "outlinewidth": 1,
              "tickcolor": "rgb(36,36,36)",
              "ticks": "outside"
             }
            },
            "type": "scattergl"
           }
          ],
          "scattermapbox": [
           {
            "marker": {
             "colorbar": {
              "outlinewidth": 1,
              "tickcolor": "rgb(36,36,36)",
              "ticks": "outside"
             }
            },
            "type": "scattermapbox"
           }
          ],
          "scatterpolar": [
           {
            "marker": {
             "colorbar": {
              "outlinewidth": 1,
              "tickcolor": "rgb(36,36,36)",
              "ticks": "outside"
             }
            },
            "type": "scatterpolar"
           }
          ],
          "scatterpolargl": [
           {
            "marker": {
             "colorbar": {
              "outlinewidth": 1,
              "tickcolor": "rgb(36,36,36)",
              "ticks": "outside"
             }
            },
            "type": "scatterpolargl"
           }
          ],
          "scatterternary": [
           {
            "marker": {
             "colorbar": {
              "outlinewidth": 1,
              "tickcolor": "rgb(36,36,36)",
              "ticks": "outside"
             }
            },
            "type": "scatterternary"
           }
          ],
          "surface": [
           {
            "colorbar": {
             "outlinewidth": 1,
             "tickcolor": "rgb(36,36,36)",
             "ticks": "outside"
            },
            "colorscale": [
             [
              0,
              "#440154"
             ],
             [
              0.1111111111111111,
              "#482878"
             ],
             [
              0.2222222222222222,
              "#3e4989"
             ],
             [
              0.3333333333333333,
              "#31688e"
             ],
             [
              0.4444444444444444,
              "#26828e"
             ],
             [
              0.5555555555555556,
              "#1f9e89"
             ],
             [
              0.6666666666666666,
              "#35b779"
             ],
             [
              0.7777777777777778,
              "#6ece58"
             ],
             [
              0.8888888888888888,
              "#b5de2b"
             ],
             [
              1,
              "#fde725"
             ]
            ],
            "type": "surface"
           }
          ],
          "table": [
           {
            "cells": {
             "fill": {
              "color": "rgb(237,237,237)"
             },
             "line": {
              "color": "white"
             }
            },
            "header": {
             "fill": {
              "color": "rgb(217,217,217)"
             },
             "line": {
              "color": "white"
             }
            },
            "type": "table"
           }
          ]
         },
         "layout": {
          "annotationdefaults": {
           "arrowhead": 0,
           "arrowwidth": 1
          },
          "autotypenumbers": "strict",
          "coloraxis": {
           "colorbar": {
            "outlinewidth": 1,
            "tickcolor": "rgb(36,36,36)",
            "ticks": "outside"
           }
          },
          "colorscale": {
           "diverging": [
            [
             0,
             "rgb(103,0,31)"
            ],
            [
             0.1,
             "rgb(178,24,43)"
            ],
            [
             0.2,
             "rgb(214,96,77)"
            ],
            [
             0.3,
             "rgb(244,165,130)"
            ],
            [
             0.4,
             "rgb(253,219,199)"
            ],
            [
             0.5,
             "rgb(247,247,247)"
            ],
            [
             0.6,
             "rgb(209,229,240)"
            ],
            [
             0.7,
             "rgb(146,197,222)"
            ],
            [
             0.8,
             "rgb(67,147,195)"
            ],
            [
             0.9,
             "rgb(33,102,172)"
            ],
            [
             1,
             "rgb(5,48,97)"
            ]
           ],
           "sequential": [
            [
             0,
             "#440154"
            ],
            [
             0.1111111111111111,
             "#482878"
            ],
            [
             0.2222222222222222,
             "#3e4989"
            ],
            [
             0.3333333333333333,
             "#31688e"
            ],
            [
             0.4444444444444444,
             "#26828e"
            ],
            [
             0.5555555555555556,
             "#1f9e89"
            ],
            [
             0.6666666666666666,
             "#35b779"
            ],
            [
             0.7777777777777778,
             "#6ece58"
            ],
            [
             0.8888888888888888,
             "#b5de2b"
            ],
            [
             1,
             "#fde725"
            ]
           ],
           "sequentialminus": [
            [
             0,
             "#440154"
            ],
            [
             0.1111111111111111,
             "#482878"
            ],
            [
             0.2222222222222222,
             "#3e4989"
            ],
            [
             0.3333333333333333,
             "#31688e"
            ],
            [
             0.4444444444444444,
             "#26828e"
            ],
            [
             0.5555555555555556,
             "#1f9e89"
            ],
            [
             0.6666666666666666,
             "#35b779"
            ],
            [
             0.7777777777777778,
             "#6ece58"
            ],
            [
             0.8888888888888888,
             "#b5de2b"
            ],
            [
             1,
             "#fde725"
            ]
           ]
          },
          "colorway": [
           "#1F77B4",
           "#FF7F0E",
           "#2CA02C",
           "#D62728",
           "#9467BD",
           "#8C564B",
           "#E377C2",
           "#7F7F7F",
           "#BCBD22",
           "#17BECF"
          ],
          "font": {
           "color": "rgb(36,36,36)"
          },
          "geo": {
           "bgcolor": "white",
           "lakecolor": "white",
           "landcolor": "white",
           "showlakes": true,
           "showland": true,
           "subunitcolor": "white"
          },
          "hoverlabel": {
           "align": "left"
          },
          "hovermode": "closest",
          "mapbox": {
           "style": "light"
          },
          "paper_bgcolor": "white",
          "plot_bgcolor": "white",
          "polar": {
           "angularaxis": {
            "gridcolor": "rgb(232,232,232)",
            "linecolor": "rgb(36,36,36)",
            "showgrid": false,
            "showline": true,
            "ticks": "outside"
           },
           "bgcolor": "white",
           "radialaxis": {
            "gridcolor": "rgb(232,232,232)",
            "linecolor": "rgb(36,36,36)",
            "showgrid": false,
            "showline": true,
            "ticks": "outside"
           }
          },
          "scene": {
           "xaxis": {
            "backgroundcolor": "white",
            "gridcolor": "rgb(232,232,232)",
            "gridwidth": 2,
            "linecolor": "rgb(36,36,36)",
            "showbackground": true,
            "showgrid": false,
            "showline": true,
            "ticks": "outside",
            "zeroline": false,
            "zerolinecolor": "rgb(36,36,36)"
           },
           "yaxis": {
            "backgroundcolor": "white",
            "gridcolor": "rgb(232,232,232)",
            "gridwidth": 2,
            "linecolor": "rgb(36,36,36)",
            "showbackground": true,
            "showgrid": false,
            "showline": true,
            "ticks": "outside",
            "zeroline": false,
            "zerolinecolor": "rgb(36,36,36)"
           },
           "zaxis": {
            "backgroundcolor": "white",
            "gridcolor": "rgb(232,232,232)",
            "gridwidth": 2,
            "linecolor": "rgb(36,36,36)",
            "showbackground": true,
            "showgrid": false,
            "showline": true,
            "ticks": "outside",
            "zeroline": false,
            "zerolinecolor": "rgb(36,36,36)"
           }
          },
          "shapedefaults": {
           "fillcolor": "black",
           "line": {
            "width": 0
           },
           "opacity": 0.3
          },
          "ternary": {
           "aaxis": {
            "gridcolor": "rgb(232,232,232)",
            "linecolor": "rgb(36,36,36)",
            "showgrid": false,
            "showline": true,
            "ticks": "outside"
           },
           "baxis": {
            "gridcolor": "rgb(232,232,232)",
            "linecolor": "rgb(36,36,36)",
            "showgrid": false,
            "showline": true,
            "ticks": "outside"
           },
           "bgcolor": "white",
           "caxis": {
            "gridcolor": "rgb(232,232,232)",
            "linecolor": "rgb(36,36,36)",
            "showgrid": false,
            "showline": true,
            "ticks": "outside"
           }
          },
          "title": {
           "x": 0.05
          },
          "xaxis": {
           "automargin": true,
           "gridcolor": "rgb(232,232,232)",
           "linecolor": "rgb(36,36,36)",
           "showgrid": false,
           "showline": true,
           "ticks": "outside",
           "title": {
            "standoff": 15
           },
           "zeroline": false,
           "zerolinecolor": "rgb(36,36,36)"
          },
          "yaxis": {
           "automargin": true,
           "gridcolor": "rgb(232,232,232)",
           "linecolor": "rgb(36,36,36)",
           "showgrid": false,
           "showline": true,
           "ticks": "outside",
           "title": {
            "standoff": 15
           },
           "zeroline": false,
           "zerolinecolor": "rgb(36,36,36)"
          }
         }
        },
        "title": {
         "text": "Número de empleados en base a la etapa de crecimiento",
         "x": 0.5
        },
        "xaxis": {
         "range": [
          0,
          90
         ]
        }
       }
      }
     },
     "metadata": {},
     "output_type": "display_data"
    }
   ],
   "source": [
    "fig = go.Figure()\n",
    "fig.add_trace(go.Box(x=df_graficos['Numero empleados_2021'][df_graficos['growth_stage'] == 'seed'], name = 'Seed',marker_color = '#f2cc8f'))\n",
    "fig.add_trace(go.Box(x=df_graficos['Numero empleados_2021'][df_graficos['growth_stage'] == 'early growth'], name= 'Early growth', marker_color = '#81b29a'))\n",
    "fig.add_trace(go.Box(x=df_graficos['Numero empleados_2021'][df_graficos['growth_stage'] == 'late growth'], name = 'Late growth',marker_color = '#3d405b'))\n",
    "fig.update_xaxes(range=[0, 90])\n",
    "fig.update_layout(title='Número de empleados en base a la etapa de crecimiento', title_x=0.5, template='simple_white',\n",
    "                  legend=dict(bordercolor=\"Black\", borderwidth=1, x=0.8, y=0.2))\n",
    "fig.show()"
   ]
  },
  {
   "attachments": {},
   "cell_type": "markdown",
   "metadata": {},
   "source": [
    "###### NÚMERO DE RONDAS Y FINANCIACIÓN TOTAL ######"
   ]
  },
  {
   "cell_type": "code",
   "execution_count": 11,
   "metadata": {},
   "outputs": [
    {
     "data": {
      "application/vnd.plotly.v1+json": {
       "config": {
        "plotlyServerURL": "https://plot.ly"
       },
       "data": [
        {
         "marker": {
          "color": "#f2cc8f"
         },
         "name": "Seed",
         "showlegend": false,
         "type": "box",
         "xaxis": "x",
         "y": [
          70000,
          850000,
          80000,
          110000,
          0,
          20000,
          30000,
          2000,
          50000,
          150000,
          140000,
          20000,
          10000,
          20000,
          50000,
          60000,
          60000,
          40000,
          40000,
          60000,
          30000,
          180000,
          30000,
          30000,
          30000,
          70000,
          90000,
          168000,
          30000,
          50000,
          20000,
          40000,
          50000,
          20000,
          50000,
          40000,
          5000,
          30000,
          130000,
          60000,
          50000,
          40000,
          30000,
          40000,
          60000,
          40000,
          60000,
          80000,
          40000,
          80000,
          0,
          30000,
          50000,
          40000,
          40000,
          0,
          10000,
          0,
          40000,
          30000,
          120000,
          80000,
          50000,
          369998.0627200034,
          20000,
          90000,
          0,
          20000,
          0,
          90000,
          0,
          0,
          0,
          510000,
          40000,
          0,
          0,
          0,
          330000,
          20000,
          40000,
          20000,
          3580000,
          30000,
          20000,
          20000,
          20000,
          540000,
          30000,
          30000,
          20000,
          160000,
          0,
          40000,
          1840000,
          230000,
          50000,
          30000,
          120000,
          30000,
          40000,
          20000,
          50000,
          310000,
          30000,
          40000,
          40000,
          20000,
          670000,
          50000,
          40000,
          386962.4527466675,
          50000,
          20000,
          30000,
          30000,
          0,
          0,
          20000,
          930000,
          30000,
          30000,
          30000,
          20000,
          40000,
          20000,
          30000,
          40000,
          60000,
          40000,
          30000,
          20000,
          785776.5408055811,
          30000,
          40000,
          0,
          0,
          50000,
          30000,
          0,
          250000,
          50000,
          50000,
          0,
          220000,
          0,
          40000,
          28770000,
          20000,
          10000,
          50000,
          0,
          368519.7990076865,
          0,
          368277.6819698306,
          310000,
          386137.7363138871,
          730000,
          0,
          30000,
          20000,
          10000,
          100000,
          20000,
          250000,
          60000,
          370083.43639328214,
          40000,
          374270.3739214453,
          240000,
          30000,
          340000,
          140000,
          368644.8225094644,
          0,
          40000,
          40000,
          100000,
          360000,
          50000,
          40000,
          180000,
          30000,
          440000,
          514411.9334993227,
          270000,
          70000,
          40000,
          200000,
          260000,
          20000,
          60000,
          890000,
          40000,
          90000,
          40000,
          0,
          80000,
          190000,
          30000,
          10000,
          120000,
          60000,
          50000,
          395777.53759671707,
          130000,
          50000,
          10000,
          240000,
          50000,
          30000,
          30000,
          140000,
          60000,
          70000,
          80000,
          120000,
          30000,
          80000,
          0,
          369713.42756818247,
          40000,
          70000,
          473784.3571017476,
          100000,
          300000,
          80000,
          40000,
          50000,
          50000,
          40000,
          50000,
          60000,
          40000,
          50000,
          40000,
          10000,
          50000,
          120000,
          60000,
          90000,
          70000,
          50000,
          70000,
          30000,
          50000,
          130000,
          80000,
          30000,
          20000,
          50000,
          50000,
          30000,
          20000,
          50000,
          90000,
          30000,
          120000,
          100000,
          30000,
          150000,
          40000,
          40000
         ],
         "yaxis": "y"
        },
        {
         "marker": {
          "color": "#81b29a"
         },
         "name": "Early growth",
         "showlegend": false,
         "type": "box",
         "xaxis": "x",
         "y": [
          0,
          605560.3933956848,
          375569.4541534813,
          0,
          20000,
          60000,
          30000,
          442664.6408555718,
          860000,
          60000,
          70000,
          180000,
          368277.6819698306,
          0,
          250000,
          40000,
          1650000,
          922417.8557042304,
          230000,
          1540000,
          0,
          0,
          0,
          20000,
          0,
          20000,
          150000,
          0,
          400000,
          5200000,
          50000,
          4220000,
          1280000,
          40000,
          1940000,
          960000,
          376110.54777048755,
          2180000,
          571805.9882264152,
          320000,
          880000,
          100000,
          40000,
          40000,
          0,
          469511.2866482707,
          820000,
          1000000,
          240000,
          10440000,
          580000,
          1440000,
          6270000,
          340000,
          20000,
          280000,
          30000,
          10000,
          40000,
          20000,
          30000,
          426510.6258343586,
          0,
          1040000,
          3170000,
          350000,
          0,
          80000,
          10000,
          50000,
          0,
          420000,
          490000,
          90000,
          270000,
          550000,
          8460000,
          350000,
          120000,
          260000,
          230000,
          850000,
          0,
          0,
          220000,
          60000,
          20000,
          1020000,
          414008.9505472691,
          39140748.27381239,
          371132.3852604253,
          10000,
          170000,
          30000,
          120000,
          70000,
          40000,
          940000,
          40000,
          170000,
          40000,
          610000,
          30000,
          80000,
          60000,
          310000,
          100000,
          20000,
          340000,
          60000,
          170000,
          50000,
          80000,
          120000,
          320000,
          100000,
          0,
          1600000,
          200000,
          3850000
         ],
         "yaxis": "y"
        },
        {
         "marker": {
          "color": "#3d405b"
         },
         "name": "Late growth",
         "showlegend": false,
         "type": "box",
         "xaxis": "x",
         "y": [
          30000,
          560000,
          100000000,
          0,
          110000,
          18960000,
          30000,
          4620000,
          368277.6819698306,
          483041.6640815675,
          8703734.585320465,
          12590000,
          0,
          391285.21202777413,
          371653.40087917034,
          8710000,
          0,
          130000,
          0,
          150000,
          0,
          150000,
          110000,
          51350000,
          368277.6819698306,
          0,
          0,
          1960000,
          170000
         ],
         "yaxis": "y"
        },
        {
         "marker": {
          "color": "#f2cc8f"
         },
         "name": "Seed",
         "type": "box",
         "xaxis": "x2",
         "y": [
          1,
          5,
          4,
          4,
          0,
          3,
          3,
          1,
          4,
          6,
          4,
          2,
          3,
          2,
          3,
          4,
          3,
          3,
          4,
          4,
          3,
          5,
          3,
          3,
          3,
          3,
          4,
          6,
          3,
          3,
          2,
          5,
          4,
          2,
          4,
          4,
          1,
          2,
          5,
          4,
          3,
          3,
          3,
          3,
          3,
          3,
          3,
          5,
          3,
          4,
          0,
          4,
          3,
          2,
          3,
          0,
          2,
          0,
          3,
          2,
          4,
          5,
          3,
          1,
          3,
          4,
          0,
          2,
          0,
          4,
          0,
          0,
          0,
          5,
          3,
          0,
          0,
          0,
          4,
          3,
          3,
          3,
          6,
          3,
          3,
          3,
          3,
          4,
          4,
          3,
          3,
          5,
          0,
          3,
          4,
          6,
          4,
          3,
          4,
          3,
          4,
          4,
          3,
          3,
          3,
          4,
          3,
          3,
          6,
          3,
          4,
          1,
          3,
          3,
          3,
          4,
          0,
          0,
          3,
          4,
          4,
          3,
          3,
          3,
          3,
          3,
          3,
          3,
          6,
          3,
          4,
          3,
          1,
          3,
          3,
          0,
          0,
          3,
          3,
          0,
          3,
          3,
          2,
          0,
          12,
          0,
          3,
          8,
          1,
          1,
          5,
          0,
          2,
          0,
          1,
          3,
          1,
          4,
          0,
          3,
          3,
          2,
          4,
          3,
          16,
          3,
          1,
          3,
          1,
          4,
          2,
          14,
          5,
          1,
          0,
          7,
          3,
          4,
          6,
          5,
          3,
          7,
          4,
          5,
          1,
          21,
          4,
          3,
          14,
          5,
          4,
          3,
          11,
          2,
          6,
          3,
          0,
          3,
          6,
          1,
          2,
          7,
          7,
          4,
          1,
          6,
          5,
          2,
          6,
          2,
          3,
          3,
          6,
          4,
          3,
          6,
          5,
          2,
          4,
          0,
          1,
          8,
          4,
          1,
          4,
          7,
          6,
          3,
          4,
          3,
          3,
          3,
          4,
          4,
          3,
          4,
          2,
          3,
          4,
          4,
          5,
          4,
          3,
          6,
          3,
          3,
          5,
          4,
          4,
          2,
          3,
          5,
          4,
          4,
          4,
          4,
          4,
          7,
          6,
          3,
          6,
          3,
          5
         ],
         "yaxis": "y2"
        },
        {
         "marker": {
          "color": "#81b29a"
         },
         "name": "Early growth",
         "type": "box",
         "xaxis": "x2",
         "y": [
          0,
          1,
          1,
          0,
          3,
          6,
          2,
          1,
          7,
          4,
          4,
          4,
          1,
          0,
          4,
          2,
          17,
          1,
          2,
          3,
          0,
          0,
          0,
          2,
          0,
          2,
          4,
          0,
          2,
          4,
          1,
          8,
          5,
          3,
          7,
          5,
          1,
          5,
          1,
          4,
          7,
          3,
          4,
          5,
          0,
          1,
          6,
          1,
          5,
          8,
          5,
          7,
          11,
          4,
          3,
          5,
          3,
          4,
          5,
          3,
          3,
          1,
          0,
          4,
          8,
          2,
          0,
          7,
          3,
          4,
          0,
          12,
          4,
          6,
          8,
          10,
          9,
          18,
          4,
          7,
          10,
          17,
          0,
          0,
          5,
          3,
          2,
          4,
          3,
          1,
          1,
          2,
          8,
          4,
          6,
          5,
          4,
          7,
          4,
          4,
          3,
          9,
          2,
          7,
          7,
          9,
          5,
          3,
          7,
          3,
          4,
          3,
          4,
          6,
          5,
          5,
          0,
          9,
          7,
          8
         ],
         "yaxis": "y2"
        },
        {
         "marker": {
          "color": "#3d405b"
         },
         "name": "Late growth",
         "type": "box",
         "xaxis": "x2",
         "y": [
          1,
          24,
          1,
          0,
          3,
          6,
          3,
          3,
          1,
          1,
          1,
          2,
          0,
          1,
          1,
          10,
          0,
          8,
          0,
          9,
          0,
          6,
          5,
          8,
          1,
          0,
          0,
          8,
          7
         ],
         "yaxis": "y2"
        }
       ],
       "layout": {
        "annotations": [
         {
          "font": {
           "size": 16
          },
          "showarrow": false,
          "text": "Financiación total recibida, en €",
          "x": 0.225,
          "xanchor": "center",
          "xref": "paper",
          "y": 1,
          "yanchor": "bottom",
          "yref": "paper"
         },
         {
          "font": {
           "size": 16
          },
          "showarrow": false,
          "text": "Nº total de rondas realizadas",
          "x": 0.775,
          "xanchor": "center",
          "xref": "paper",
          "y": 1,
          "yanchor": "bottom",
          "yref": "paper"
         }
        ],
        "height": 600,
        "legend": {
         "bordercolor": "Black",
         "borderwidth": 1,
         "orientation": "h",
         "x": 0.25,
         "y": -0.1
        },
        "template": {
         "data": {
          "bar": [
           {
            "error_x": {
             "color": "rgb(36,36,36)"
            },
            "error_y": {
             "color": "rgb(36,36,36)"
            },
            "marker": {
             "line": {
              "color": "white",
              "width": 0.5
             },
             "pattern": {
              "fillmode": "overlay",
              "size": 10,
              "solidity": 0.2
             }
            },
            "type": "bar"
           }
          ],
          "barpolar": [
           {
            "marker": {
             "line": {
              "color": "white",
              "width": 0.5
             },
             "pattern": {
              "fillmode": "overlay",
              "size": 10,
              "solidity": 0.2
             }
            },
            "type": "barpolar"
           }
          ],
          "carpet": [
           {
            "aaxis": {
             "endlinecolor": "rgb(36,36,36)",
             "gridcolor": "white",
             "linecolor": "white",
             "minorgridcolor": "white",
             "startlinecolor": "rgb(36,36,36)"
            },
            "baxis": {
             "endlinecolor": "rgb(36,36,36)",
             "gridcolor": "white",
             "linecolor": "white",
             "minorgridcolor": "white",
             "startlinecolor": "rgb(36,36,36)"
            },
            "type": "carpet"
           }
          ],
          "choropleth": [
           {
            "colorbar": {
             "outlinewidth": 1,
             "tickcolor": "rgb(36,36,36)",
             "ticks": "outside"
            },
            "type": "choropleth"
           }
          ],
          "contour": [
           {
            "colorbar": {
             "outlinewidth": 1,
             "tickcolor": "rgb(36,36,36)",
             "ticks": "outside"
            },
            "colorscale": [
             [
              0,
              "#440154"
             ],
             [
              0.1111111111111111,
              "#482878"
             ],
             [
              0.2222222222222222,
              "#3e4989"
             ],
             [
              0.3333333333333333,
              "#31688e"
             ],
             [
              0.4444444444444444,
              "#26828e"
             ],
             [
              0.5555555555555556,
              "#1f9e89"
             ],
             [
              0.6666666666666666,
              "#35b779"
             ],
             [
              0.7777777777777778,
              "#6ece58"
             ],
             [
              0.8888888888888888,
              "#b5de2b"
             ],
             [
              1,
              "#fde725"
             ]
            ],
            "type": "contour"
           }
          ],
          "contourcarpet": [
           {
            "colorbar": {
             "outlinewidth": 1,
             "tickcolor": "rgb(36,36,36)",
             "ticks": "outside"
            },
            "type": "contourcarpet"
           }
          ],
          "heatmap": [
           {
            "colorbar": {
             "outlinewidth": 1,
             "tickcolor": "rgb(36,36,36)",
             "ticks": "outside"
            },
            "colorscale": [
             [
              0,
              "#440154"
             ],
             [
              0.1111111111111111,
              "#482878"
             ],
             [
              0.2222222222222222,
              "#3e4989"
             ],
             [
              0.3333333333333333,
              "#31688e"
             ],
             [
              0.4444444444444444,
              "#26828e"
             ],
             [
              0.5555555555555556,
              "#1f9e89"
             ],
             [
              0.6666666666666666,
              "#35b779"
             ],
             [
              0.7777777777777778,
              "#6ece58"
             ],
             [
              0.8888888888888888,
              "#b5de2b"
             ],
             [
              1,
              "#fde725"
             ]
            ],
            "type": "heatmap"
           }
          ],
          "heatmapgl": [
           {
            "colorbar": {
             "outlinewidth": 1,
             "tickcolor": "rgb(36,36,36)",
             "ticks": "outside"
            },
            "colorscale": [
             [
              0,
              "#440154"
             ],
             [
              0.1111111111111111,
              "#482878"
             ],
             [
              0.2222222222222222,
              "#3e4989"
             ],
             [
              0.3333333333333333,
              "#31688e"
             ],
             [
              0.4444444444444444,
              "#26828e"
             ],
             [
              0.5555555555555556,
              "#1f9e89"
             ],
             [
              0.6666666666666666,
              "#35b779"
             ],
             [
              0.7777777777777778,
              "#6ece58"
             ],
             [
              0.8888888888888888,
              "#b5de2b"
             ],
             [
              1,
              "#fde725"
             ]
            ],
            "type": "heatmapgl"
           }
          ],
          "histogram": [
           {
            "marker": {
             "line": {
              "color": "white",
              "width": 0.6
             }
            },
            "type": "histogram"
           }
          ],
          "histogram2d": [
           {
            "colorbar": {
             "outlinewidth": 1,
             "tickcolor": "rgb(36,36,36)",
             "ticks": "outside"
            },
            "colorscale": [
             [
              0,
              "#440154"
             ],
             [
              0.1111111111111111,
              "#482878"
             ],
             [
              0.2222222222222222,
              "#3e4989"
             ],
             [
              0.3333333333333333,
              "#31688e"
             ],
             [
              0.4444444444444444,
              "#26828e"
             ],
             [
              0.5555555555555556,
              "#1f9e89"
             ],
             [
              0.6666666666666666,
              "#35b779"
             ],
             [
              0.7777777777777778,
              "#6ece58"
             ],
             [
              0.8888888888888888,
              "#b5de2b"
             ],
             [
              1,
              "#fde725"
             ]
            ],
            "type": "histogram2d"
           }
          ],
          "histogram2dcontour": [
           {
            "colorbar": {
             "outlinewidth": 1,
             "tickcolor": "rgb(36,36,36)",
             "ticks": "outside"
            },
            "colorscale": [
             [
              0,
              "#440154"
             ],
             [
              0.1111111111111111,
              "#482878"
             ],
             [
              0.2222222222222222,
              "#3e4989"
             ],
             [
              0.3333333333333333,
              "#31688e"
             ],
             [
              0.4444444444444444,
              "#26828e"
             ],
             [
              0.5555555555555556,
              "#1f9e89"
             ],
             [
              0.6666666666666666,
              "#35b779"
             ],
             [
              0.7777777777777778,
              "#6ece58"
             ],
             [
              0.8888888888888888,
              "#b5de2b"
             ],
             [
              1,
              "#fde725"
             ]
            ],
            "type": "histogram2dcontour"
           }
          ],
          "mesh3d": [
           {
            "colorbar": {
             "outlinewidth": 1,
             "tickcolor": "rgb(36,36,36)",
             "ticks": "outside"
            },
            "type": "mesh3d"
           }
          ],
          "parcoords": [
           {
            "line": {
             "colorbar": {
              "outlinewidth": 1,
              "tickcolor": "rgb(36,36,36)",
              "ticks": "outside"
             }
            },
            "type": "parcoords"
           }
          ],
          "pie": [
           {
            "automargin": true,
            "type": "pie"
           }
          ],
          "scatter": [
           {
            "fillpattern": {
             "fillmode": "overlay",
             "size": 10,
             "solidity": 0.2
            },
            "type": "scatter"
           }
          ],
          "scatter3d": [
           {
            "line": {
             "colorbar": {
              "outlinewidth": 1,
              "tickcolor": "rgb(36,36,36)",
              "ticks": "outside"
             }
            },
            "marker": {
             "colorbar": {
              "outlinewidth": 1,
              "tickcolor": "rgb(36,36,36)",
              "ticks": "outside"
             }
            },
            "type": "scatter3d"
           }
          ],
          "scattercarpet": [
           {
            "marker": {
             "colorbar": {
              "outlinewidth": 1,
              "tickcolor": "rgb(36,36,36)",
              "ticks": "outside"
             }
            },
            "type": "scattercarpet"
           }
          ],
          "scattergeo": [
           {
            "marker": {
             "colorbar": {
              "outlinewidth": 1,
              "tickcolor": "rgb(36,36,36)",
              "ticks": "outside"
             }
            },
            "type": "scattergeo"
           }
          ],
          "scattergl": [
           {
            "marker": {
             "colorbar": {
              "outlinewidth": 1,
              "tickcolor": "rgb(36,36,36)",
              "ticks": "outside"
             }
            },
            "type": "scattergl"
           }
          ],
          "scattermapbox": [
           {
            "marker": {
             "colorbar": {
              "outlinewidth": 1,
              "tickcolor": "rgb(36,36,36)",
              "ticks": "outside"
             }
            },
            "type": "scattermapbox"
           }
          ],
          "scatterpolar": [
           {
            "marker": {
             "colorbar": {
              "outlinewidth": 1,
              "tickcolor": "rgb(36,36,36)",
              "ticks": "outside"
             }
            },
            "type": "scatterpolar"
           }
          ],
          "scatterpolargl": [
           {
            "marker": {
             "colorbar": {
              "outlinewidth": 1,
              "tickcolor": "rgb(36,36,36)",
              "ticks": "outside"
             }
            },
            "type": "scatterpolargl"
           }
          ],
          "scatterternary": [
           {
            "marker": {
             "colorbar": {
              "outlinewidth": 1,
              "tickcolor": "rgb(36,36,36)",
              "ticks": "outside"
             }
            },
            "type": "scatterternary"
           }
          ],
          "surface": [
           {
            "colorbar": {
             "outlinewidth": 1,
             "tickcolor": "rgb(36,36,36)",
             "ticks": "outside"
            },
            "colorscale": [
             [
              0,
              "#440154"
             ],
             [
              0.1111111111111111,
              "#482878"
             ],
             [
              0.2222222222222222,
              "#3e4989"
             ],
             [
              0.3333333333333333,
              "#31688e"
             ],
             [
              0.4444444444444444,
              "#26828e"
             ],
             [
              0.5555555555555556,
              "#1f9e89"
             ],
             [
              0.6666666666666666,
              "#35b779"
             ],
             [
              0.7777777777777778,
              "#6ece58"
             ],
             [
              0.8888888888888888,
              "#b5de2b"
             ],
             [
              1,
              "#fde725"
             ]
            ],
            "type": "surface"
           }
          ],
          "table": [
           {
            "cells": {
             "fill": {
              "color": "rgb(237,237,237)"
             },
             "line": {
              "color": "white"
             }
            },
            "header": {
             "fill": {
              "color": "rgb(217,217,217)"
             },
             "line": {
              "color": "white"
             }
            },
            "type": "table"
           }
          ]
         },
         "layout": {
          "annotationdefaults": {
           "arrowhead": 0,
           "arrowwidth": 1
          },
          "autotypenumbers": "strict",
          "coloraxis": {
           "colorbar": {
            "outlinewidth": 1,
            "tickcolor": "rgb(36,36,36)",
            "ticks": "outside"
           }
          },
          "colorscale": {
           "diverging": [
            [
             0,
             "rgb(103,0,31)"
            ],
            [
             0.1,
             "rgb(178,24,43)"
            ],
            [
             0.2,
             "rgb(214,96,77)"
            ],
            [
             0.3,
             "rgb(244,165,130)"
            ],
            [
             0.4,
             "rgb(253,219,199)"
            ],
            [
             0.5,
             "rgb(247,247,247)"
            ],
            [
             0.6,
             "rgb(209,229,240)"
            ],
            [
             0.7,
             "rgb(146,197,222)"
            ],
            [
             0.8,
             "rgb(67,147,195)"
            ],
            [
             0.9,
             "rgb(33,102,172)"
            ],
            [
             1,
             "rgb(5,48,97)"
            ]
           ],
           "sequential": [
            [
             0,
             "#440154"
            ],
            [
             0.1111111111111111,
             "#482878"
            ],
            [
             0.2222222222222222,
             "#3e4989"
            ],
            [
             0.3333333333333333,
             "#31688e"
            ],
            [
             0.4444444444444444,
             "#26828e"
            ],
            [
             0.5555555555555556,
             "#1f9e89"
            ],
            [
             0.6666666666666666,
             "#35b779"
            ],
            [
             0.7777777777777778,
             "#6ece58"
            ],
            [
             0.8888888888888888,
             "#b5de2b"
            ],
            [
             1,
             "#fde725"
            ]
           ],
           "sequentialminus": [
            [
             0,
             "#440154"
            ],
            [
             0.1111111111111111,
             "#482878"
            ],
            [
             0.2222222222222222,
             "#3e4989"
            ],
            [
             0.3333333333333333,
             "#31688e"
            ],
            [
             0.4444444444444444,
             "#26828e"
            ],
            [
             0.5555555555555556,
             "#1f9e89"
            ],
            [
             0.6666666666666666,
             "#35b779"
            ],
            [
             0.7777777777777778,
             "#6ece58"
            ],
            [
             0.8888888888888888,
             "#b5de2b"
            ],
            [
             1,
             "#fde725"
            ]
           ]
          },
          "colorway": [
           "#1F77B4",
           "#FF7F0E",
           "#2CA02C",
           "#D62728",
           "#9467BD",
           "#8C564B",
           "#E377C2",
           "#7F7F7F",
           "#BCBD22",
           "#17BECF"
          ],
          "font": {
           "color": "rgb(36,36,36)"
          },
          "geo": {
           "bgcolor": "white",
           "lakecolor": "white",
           "landcolor": "white",
           "showlakes": true,
           "showland": true,
           "subunitcolor": "white"
          },
          "hoverlabel": {
           "align": "left"
          },
          "hovermode": "closest",
          "mapbox": {
           "style": "light"
          },
          "paper_bgcolor": "white",
          "plot_bgcolor": "white",
          "polar": {
           "angularaxis": {
            "gridcolor": "rgb(232,232,232)",
            "linecolor": "rgb(36,36,36)",
            "showgrid": false,
            "showline": true,
            "ticks": "outside"
           },
           "bgcolor": "white",
           "radialaxis": {
            "gridcolor": "rgb(232,232,232)",
            "linecolor": "rgb(36,36,36)",
            "showgrid": false,
            "showline": true,
            "ticks": "outside"
           }
          },
          "scene": {
           "xaxis": {
            "backgroundcolor": "white",
            "gridcolor": "rgb(232,232,232)",
            "gridwidth": 2,
            "linecolor": "rgb(36,36,36)",
            "showbackground": true,
            "showgrid": false,
            "showline": true,
            "ticks": "outside",
            "zeroline": false,
            "zerolinecolor": "rgb(36,36,36)"
           },
           "yaxis": {
            "backgroundcolor": "white",
            "gridcolor": "rgb(232,232,232)",
            "gridwidth": 2,
            "linecolor": "rgb(36,36,36)",
            "showbackground": true,
            "showgrid": false,
            "showline": true,
            "ticks": "outside",
            "zeroline": false,
            "zerolinecolor": "rgb(36,36,36)"
           },
           "zaxis": {
            "backgroundcolor": "white",
            "gridcolor": "rgb(232,232,232)",
            "gridwidth": 2,
            "linecolor": "rgb(36,36,36)",
            "showbackground": true,
            "showgrid": false,
            "showline": true,
            "ticks": "outside",
            "zeroline": false,
            "zerolinecolor": "rgb(36,36,36)"
           }
          },
          "shapedefaults": {
           "fillcolor": "black",
           "line": {
            "width": 0
           },
           "opacity": 0.3
          },
          "ternary": {
           "aaxis": {
            "gridcolor": "rgb(232,232,232)",
            "linecolor": "rgb(36,36,36)",
            "showgrid": false,
            "showline": true,
            "ticks": "outside"
           },
           "baxis": {
            "gridcolor": "rgb(232,232,232)",
            "linecolor": "rgb(36,36,36)",
            "showgrid": false,
            "showline": true,
            "ticks": "outside"
           },
           "bgcolor": "white",
           "caxis": {
            "gridcolor": "rgb(232,232,232)",
            "linecolor": "rgb(36,36,36)",
            "showgrid": false,
            "showline": true,
            "ticks": "outside"
           }
          },
          "title": {
           "x": 0.05
          },
          "xaxis": {
           "automargin": true,
           "gridcolor": "rgb(232,232,232)",
           "linecolor": "rgb(36,36,36)",
           "showgrid": false,
           "showline": true,
           "ticks": "outside",
           "title": {
            "standoff": 15
           },
           "zeroline": false,
           "zerolinecolor": "rgb(36,36,36)"
          },
          "yaxis": {
           "automargin": true,
           "gridcolor": "rgb(232,232,232)",
           "linecolor": "rgb(36,36,36)",
           "showgrid": false,
           "showline": true,
           "ticks": "outside",
           "title": {
            "standoff": 15
           },
           "zeroline": false,
           "zerolinecolor": "rgb(36,36,36)"
          }
         }
        },
        "width": 800,
        "xaxis": {
         "anchor": "y",
         "domain": [
          0,
          0.45
         ]
        },
        "xaxis2": {
         "anchor": "y2",
         "domain": [
          0.55,
          1
         ]
        },
        "yaxis": {
         "anchor": "x",
         "domain": [
          0,
          1
         ],
         "range": [
          0,
          5000000
         ]
        },
        "yaxis2": {
         "anchor": "x2",
         "domain": [
          0,
          1
         ]
        }
       }
      }
     },
     "metadata": {},
     "output_type": "display_data"
    }
   ],
   "source": [
    "fig = make_subplots(rows=1, cols=2, subplot_titles=(\"Financiación total recibida, en €\", \"Nº total de rondas realizadas\"))\n",
    "\n",
    "fig.add_trace(go.Box(y=df_graficos['total_funding'][df_graficos['growth_stage'] == 'seed']*1000000,  name = 'Seed', marker_color = '#f2cc8f', showlegend=False),row=1, col=1)\n",
    "fig.add_trace(go.Box(y=df_graficos['total_funding'][df_graficos['growth_stage'] == 'early growth']*1000000,  name= 'Early growth', marker_color = '#81b29a', showlegend=False),row=1, col=1)\n",
    "fig.add_trace(go.Box(y=df_graficos['total_funding'][df_graficos['growth_stage'] == 'late growth']*1000000,  name= 'Late growth', marker_color = '#3d405b', showlegend=False),row=1, col=1)\n",
    "\n",
    "fig.add_trace(go.Box(y=df_graficos['total_rounds'][df_graficos['growth_stage'] == 'seed'],  name = 'Seed', marker_color = '#f2cc8f'),row=1, col=2)\n",
    "fig.add_trace(go.Box(y=df_graficos['total_rounds'][df_graficos['growth_stage'] == 'early growth'],  name= 'Early growth', marker_color = '#81b29a'),row=1, col=2)\n",
    "fig.add_trace(go.Box(y=df_graficos['total_rounds'][df_graficos['growth_stage'] == 'late growth'],  name= 'Late growth', marker_color = '#3d405b'),row=1, col=2)\n",
    "\n",
    "fig.update_layout(height=600, width=800, template='simple_white',\n",
    "                  legend=dict(bordercolor=\"Black\", borderwidth=1, x=0.25, y=-0.1,  orientation=\"h\"))\n",
    "\n",
    "fig['layout']['yaxis1'].update(range=[0, 5000000])\n",
    "fig.show()"
   ]
  },
  {
   "attachments": {},
   "cell_type": "markdown",
   "metadata": {},
   "source": [
    "En cada fase cuantos total de financiacion y en la media en milllones"
   ]
  },
  {
   "cell_type": "code",
   "execution_count": 13,
   "metadata": {},
   "outputs": [],
   "source": [
    "n_total_fund=df_graficos.groupby('growth_stage')['total_funding'].count().reset_index()"
   ]
  },
  {
   "cell_type": "code",
   "execution_count": 14,
   "metadata": {},
   "outputs": [
    {
     "data": {
      "text/html": [
       "<div>\n",
       "<style scoped>\n",
       "    .dataframe tbody tr th:only-of-type {\n",
       "        vertical-align: middle;\n",
       "    }\n",
       "\n",
       "    .dataframe tbody tr th {\n",
       "        vertical-align: top;\n",
       "    }\n",
       "\n",
       "    .dataframe thead th {\n",
       "        text-align: right;\n",
       "    }\n",
       "</style>\n",
       "<table border=\"1\" class=\"dataframe\">\n",
       "  <thead>\n",
       "    <tr style=\"text-align: right;\">\n",
       "      <th></th>\n",
       "      <th>growth_stage</th>\n",
       "      <th>total_funding</th>\n",
       "    </tr>\n",
       "  </thead>\n",
       "  <tbody>\n",
       "    <tr>\n",
       "      <th>0</th>\n",
       "      <td>early growth</td>\n",
       "      <td>0.972619</td>\n",
       "    </tr>\n",
       "    <tr>\n",
       "      <th>1</th>\n",
       "      <td>late growth</td>\n",
       "      <td>7.252285</td>\n",
       "    </tr>\n",
       "    <tr>\n",
       "      <th>2</th>\n",
       "      <td>seed</td>\n",
       "      <td>0.227480</td>\n",
       "    </tr>\n",
       "  </tbody>\n",
       "</table>\n",
       "</div>"
      ],
      "text/plain": [
       "   growth_stage  total_funding\n",
       "0  early growth       0.972619\n",
       "1   late growth       7.252285\n",
       "2          seed       0.227480"
      ]
     },
     "execution_count": 14,
     "metadata": {},
     "output_type": "execute_result"
    }
   ],
   "source": [
    "df_graficos.groupby('growth_stage')['total_funding'].mean().reset_index()"
   ]
  },
  {
   "attachments": {},
   "cell_type": "markdown",
   "metadata": {},
   "source": [
    "#### **ANÁLISIS GENERAL** ####"
   ]
  },
  {
   "cell_type": "code",
   "execution_count": 15,
   "metadata": {},
   "outputs": [
    {
     "data": {
      "text/html": [
       "<div>\n",
       "<style scoped>\n",
       "    .dataframe tbody tr th:only-of-type {\n",
       "        vertical-align: middle;\n",
       "    }\n",
       "\n",
       "    .dataframe tbody tr th {\n",
       "        vertical-align: top;\n",
       "    }\n",
       "\n",
       "    .dataframe thead th {\n",
       "        text-align: right;\n",
       "    }\n",
       "</style>\n",
       "<table border=\"1\" class=\"dataframe\">\n",
       "  <thead>\n",
       "    <tr style=\"text-align: right;\">\n",
       "      <th></th>\n",
       "      <th>index</th>\n",
       "      <th>Localidad</th>\n",
       "    </tr>\n",
       "  </thead>\n",
       "  <tbody>\n",
       "    <tr>\n",
       "      <th>0</th>\n",
       "      <td>BILBAO</td>\n",
       "      <td>80</td>\n",
       "    </tr>\n",
       "    <tr>\n",
       "      <th>1</th>\n",
       "      <td>DONOSTIA/SAN SEBASTIAN</td>\n",
       "      <td>76</td>\n",
       "    </tr>\n",
       "    <tr>\n",
       "      <th>2</th>\n",
       "      <td>VITORIA-GASTEIZ</td>\n",
       "      <td>54</td>\n",
       "    </tr>\n",
       "    <tr>\n",
       "      <th>3</th>\n",
       "      <td>DERIO</td>\n",
       "      <td>26</td>\n",
       "    </tr>\n",
       "    <tr>\n",
       "      <th>4</th>\n",
       "      <td>BARAKALDO</td>\n",
       "      <td>16</td>\n",
       "    </tr>\n",
       "    <tr>\n",
       "      <th>5</th>\n",
       "      <td>ERANDIO</td>\n",
       "      <td>14</td>\n",
       "    </tr>\n",
       "    <tr>\n",
       "      <th>6</th>\n",
       "      <td>ZAMUDIO</td>\n",
       "      <td>10</td>\n",
       "    </tr>\n",
       "    <tr>\n",
       "      <th>7</th>\n",
       "      <td>AMOREBIETA-ETXANO</td>\n",
       "      <td>10</td>\n",
       "    </tr>\n",
       "    <tr>\n",
       "      <th>8</th>\n",
       "      <td>GETXO</td>\n",
       "      <td>8</td>\n",
       "    </tr>\n",
       "    <tr>\n",
       "      <th>9</th>\n",
       "      <td>ARRASATE/MONDRAGON</td>\n",
       "      <td>8</td>\n",
       "    </tr>\n",
       "    <tr>\n",
       "      <th>10</th>\n",
       "      <td>LEIOA</td>\n",
       "      <td>6</td>\n",
       "    </tr>\n",
       "    <tr>\n",
       "      <th>11</th>\n",
       "      <td>MADRID</td>\n",
       "      <td>6</td>\n",
       "    </tr>\n",
       "    <tr>\n",
       "      <th>12</th>\n",
       "      <td>ERMUA</td>\n",
       "      <td>6</td>\n",
       "    </tr>\n",
       "    <tr>\n",
       "      <th>13</th>\n",
       "      <td>ELGOIBAR</td>\n",
       "      <td>6</td>\n",
       "    </tr>\n",
       "    <tr>\n",
       "      <th>14</th>\n",
       "      <td>BASAURI</td>\n",
       "      <td>4</td>\n",
       "    </tr>\n",
       "    <tr>\n",
       "      <th>15</th>\n",
       "      <td>IRUN</td>\n",
       "      <td>4</td>\n",
       "    </tr>\n",
       "    <tr>\n",
       "      <th>16</th>\n",
       "      <td>ABADIÑO</td>\n",
       "      <td>4</td>\n",
       "    </tr>\n",
       "    <tr>\n",
       "      <th>17</th>\n",
       "      <td>ORTUELLA</td>\n",
       "      <td>4</td>\n",
       "    </tr>\n",
       "    <tr>\n",
       "      <th>18</th>\n",
       "      <td>DURANGO</td>\n",
       "      <td>4</td>\n",
       "    </tr>\n",
       "    <tr>\n",
       "      <th>19</th>\n",
       "      <td>ASTEASU</td>\n",
       "      <td>4</td>\n",
       "    </tr>\n",
       "    <tr>\n",
       "      <th>20</th>\n",
       "      <td>IURRETA</td>\n",
       "      <td>4</td>\n",
       "    </tr>\n",
       "    <tr>\n",
       "      <th>21</th>\n",
       "      <td>MUNGIA</td>\n",
       "      <td>4</td>\n",
       "    </tr>\n",
       "    <tr>\n",
       "      <th>22</th>\n",
       "      <td>ZALLA</td>\n",
       "      <td>4</td>\n",
       "    </tr>\n",
       "    <tr>\n",
       "      <th>23</th>\n",
       "      <td>BERGARA</td>\n",
       "      <td>4</td>\n",
       "    </tr>\n",
       "    <tr>\n",
       "      <th>24</th>\n",
       "      <td>LOIU</td>\n",
       "      <td>4</td>\n",
       "    </tr>\n",
       "    <tr>\n",
       "      <th>25</th>\n",
       "      <td>EL BOALO</td>\n",
       "      <td>2</td>\n",
       "    </tr>\n",
       "    <tr>\n",
       "      <th>26</th>\n",
       "      <td>BARRIKA</td>\n",
       "      <td>2</td>\n",
       "    </tr>\n",
       "    <tr>\n",
       "      <th>27</th>\n",
       "      <td>LEGUTIO</td>\n",
       "      <td>2</td>\n",
       "    </tr>\n",
       "    <tr>\n",
       "      <th>28</th>\n",
       "      <td>URDULIZ</td>\n",
       "      <td>2</td>\n",
       "    </tr>\n",
       "    <tr>\n",
       "      <th>29</th>\n",
       "      <td>ABANTO CIERVANA/ABANTO ZIERBENA</td>\n",
       "      <td>2</td>\n",
       "    </tr>\n",
       "    <tr>\n",
       "      <th>30</th>\n",
       "      <td>OIARTZUN</td>\n",
       "      <td>2</td>\n",
       "    </tr>\n",
       "    <tr>\n",
       "      <th>31</th>\n",
       "      <td>ZARAUTZ</td>\n",
       "      <td>2</td>\n",
       "    </tr>\n",
       "    <tr>\n",
       "      <th>32</th>\n",
       "      <td>TOLOSA</td>\n",
       "      <td>2</td>\n",
       "    </tr>\n",
       "    <tr>\n",
       "      <th>33</th>\n",
       "      <td>IBARRA</td>\n",
       "      <td>2</td>\n",
       "    </tr>\n",
       "    <tr>\n",
       "      <th>34</th>\n",
       "      <td>BERRIZ</td>\n",
       "      <td>2</td>\n",
       "    </tr>\n",
       "    <tr>\n",
       "      <th>35</th>\n",
       "      <td>GALDAMES</td>\n",
       "      <td>2</td>\n",
       "    </tr>\n",
       "    <tr>\n",
       "      <th>36</th>\n",
       "      <td>ERRENTERIA</td>\n",
       "      <td>2</td>\n",
       "    </tr>\n",
       "    <tr>\n",
       "      <th>37</th>\n",
       "      <td>ADUNA</td>\n",
       "      <td>2</td>\n",
       "    </tr>\n",
       "    <tr>\n",
       "      <th>38</th>\n",
       "      <td>ORDIZIA</td>\n",
       "      <td>2</td>\n",
       "    </tr>\n",
       "    <tr>\n",
       "      <th>39</th>\n",
       "      <td>IGORRE</td>\n",
       "      <td>2</td>\n",
       "    </tr>\n",
       "    <tr>\n",
       "      <th>40</th>\n",
       "      <td>LEZAMA</td>\n",
       "      <td>2</td>\n",
       "    </tr>\n",
       "    <tr>\n",
       "      <th>41</th>\n",
       "      <td>GALDAKAO</td>\n",
       "      <td>2</td>\n",
       "    </tr>\n",
       "    <tr>\n",
       "      <th>42</th>\n",
       "      <td>AIZARNAZABAL</td>\n",
       "      <td>2</td>\n",
       "    </tr>\n",
       "    <tr>\n",
       "      <th>43</th>\n",
       "      <td>SANTURTZI</td>\n",
       "      <td>2</td>\n",
       "    </tr>\n",
       "    <tr>\n",
       "      <th>44</th>\n",
       "      <td>ZIERBENA</td>\n",
       "      <td>2</td>\n",
       "    </tr>\n",
       "    <tr>\n",
       "      <th>45</th>\n",
       "      <td>ASTIGARRAGA</td>\n",
       "      <td>2</td>\n",
       "    </tr>\n",
       "  </tbody>\n",
       "</table>\n",
       "</div>"
      ],
      "text/plain": [
       "                              index  Localidad\n",
       "0                            BILBAO         80\n",
       "1            DONOSTIA/SAN SEBASTIAN         76\n",
       "2                   VITORIA-GASTEIZ         54\n",
       "3                             DERIO         26\n",
       "4                         BARAKALDO         16\n",
       "5                           ERANDIO         14\n",
       "6                           ZAMUDIO         10\n",
       "7                 AMOREBIETA-ETXANO         10\n",
       "8                             GETXO          8\n",
       "9                ARRASATE/MONDRAGON          8\n",
       "10                            LEIOA          6\n",
       "11                           MADRID          6\n",
       "12                            ERMUA          6\n",
       "13                         ELGOIBAR          6\n",
       "14                          BASAURI          4\n",
       "15                             IRUN          4\n",
       "16                          ABADIÑO          4\n",
       "17                         ORTUELLA          4\n",
       "18                          DURANGO          4\n",
       "19                          ASTEASU          4\n",
       "20                          IURRETA          4\n",
       "21                           MUNGIA          4\n",
       "22                            ZALLA          4\n",
       "23                          BERGARA          4\n",
       "24                             LOIU          4\n",
       "25                         EL BOALO          2\n",
       "26                          BARRIKA          2\n",
       "27                          LEGUTIO          2\n",
       "28                          URDULIZ          2\n",
       "29  ABANTO CIERVANA/ABANTO ZIERBENA          2\n",
       "30                         OIARTZUN          2\n",
       "31                          ZARAUTZ          2\n",
       "32                           TOLOSA          2\n",
       "33                           IBARRA          2\n",
       "34                           BERRIZ          2\n",
       "35                         GALDAMES          2\n",
       "36                       ERRENTERIA          2\n",
       "37                            ADUNA          2\n",
       "38                          ORDIZIA          2\n",
       "39                           IGORRE          2\n",
       "40                           LEZAMA          2\n",
       "41                         GALDAKAO          2\n",
       "42                     AIZARNAZABAL          2\n",
       "43                        SANTURTZI          2\n",
       "44                         ZIERBENA          2\n",
       "45                      ASTIGARRAGA          2"
      ]
     },
     "execution_count": 15,
     "metadata": {},
     "output_type": "execute_result"
    }
   ],
   "source": [
    "grupo_lugares = df_graficos['Localidad'].value_counts().reset_index()\n",
    "grupo_lugares"
   ]
  },
  {
   "cell_type": "code",
   "execution_count": 16,
   "metadata": {},
   "outputs": [
    {
     "data": {
      "text/plain": [
       "['BILBAO',\n",
       " 'DONOSTIA/SAN SEBASTIAN',\n",
       " 'VITORIA-GASTEIZ',\n",
       " 'DERIO',\n",
       " 'BARAKALDO',\n",
       " 'ERANDIO',\n",
       " 'ZAMUDIO',\n",
       " 'AMOREBIETA-ETXANO',\n",
       " 'GETXO',\n",
       " 'ARRASATE/MONDRAGON',\n",
       " 'LEIOA',\n",
       " 'MADRID',\n",
       " 'ERMUA',\n",
       " 'ELGOIBAR',\n",
       " 'BASAURI',\n",
       " 'IRUN',\n",
       " 'ABADIÑO',\n",
       " 'ORTUELLA',\n",
       " 'DURANGO',\n",
       " 'ASTEASU',\n",
       " 'IURRETA',\n",
       " 'MUNGIA',\n",
       " 'ZALLA',\n",
       " 'BERGARA',\n",
       " 'LOIU',\n",
       " 'EL BOALO',\n",
       " 'BARRIKA',\n",
       " 'LEGUTIO',\n",
       " 'URDULIZ',\n",
       " 'ABANTO CIERVANA/ABANTO ZIERBENA',\n",
       " 'OIARTZUN',\n",
       " 'ZARAUTZ',\n",
       " 'TOLOSA',\n",
       " 'IBARRA',\n",
       " 'BERRIZ',\n",
       " 'GALDAMES',\n",
       " 'ERRENTERIA',\n",
       " 'ADUNA',\n",
       " 'ORDIZIA',\n",
       " 'IGORRE',\n",
       " 'LEZAMA',\n",
       " 'GALDAKAO',\n",
       " 'AIZARNAZABAL',\n",
       " 'SANTURTZI',\n",
       " 'ZIERBENA',\n",
       " 'ASTIGARRAGA']"
      ]
     },
     "execution_count": 16,
     "metadata": {},
     "output_type": "execute_result"
    }
   ],
   "source": [
    "lugar = grupo_lugares['index']\n",
    "lugar.to_list()"
   ]
  },
  {
   "cell_type": "code",
   "execution_count": 17,
   "metadata": {},
   "outputs": [],
   "source": [
    "latitud = []\n",
    "longitud = []\n",
    "\n",
    "for i in lugar:\n",
    "    address=i\n",
    "    geolocator = Nominatim(user_agent=\"Your_Name\")\n",
    "    location = geolocator.geocode(address)\n",
    "    latitud.append(location.latitude)\n",
    "    longitud.append(location.longitude)"
   ]
  },
  {
   "cell_type": "code",
   "execution_count": 18,
   "metadata": {},
   "outputs": [
    {
     "data": {
      "text/plain": [
       "2     21\n",
       "4     11\n",
       "6      4\n",
       "10     2\n",
       "8      2\n",
       "80     1\n",
       "76     1\n",
       "54     1\n",
       "26     1\n",
       "16     1\n",
       "14     1\n",
       "Name: Localidad, dtype: int64"
      ]
     },
     "execution_count": 18,
     "metadata": {},
     "output_type": "execute_result"
    }
   ],
   "source": [
    "count = grupo_lugares['Localidad'].value_counts()\n",
    "count"
   ]
  },
  {
   "cell_type": "code",
   "execution_count": 19,
   "metadata": {},
   "outputs": [
    {
     "data": {
      "text/html": [
       "<div>\n",
       "<style scoped>\n",
       "    .dataframe tbody tr th:only-of-type {\n",
       "        vertical-align: middle;\n",
       "    }\n",
       "\n",
       "    .dataframe tbody tr th {\n",
       "        vertical-align: top;\n",
       "    }\n",
       "\n",
       "    .dataframe thead th {\n",
       "        text-align: right;\n",
       "    }\n",
       "</style>\n",
       "<table border=\"1\" class=\"dataframe\">\n",
       "  <thead>\n",
       "    <tr style=\"text-align: right;\">\n",
       "      <th></th>\n",
       "      <th>localidad</th>\n",
       "      <th>latitud</th>\n",
       "      <th>longitud</th>\n",
       "      <th>cantidad</th>\n",
       "    </tr>\n",
       "  </thead>\n",
       "  <tbody>\n",
       "    <tr>\n",
       "      <th>0</th>\n",
       "      <td>BILBAO</td>\n",
       "      <td>43.263002</td>\n",
       "      <td>-2.935004</td>\n",
       "      <td>80</td>\n",
       "    </tr>\n",
       "    <tr>\n",
       "      <th>1</th>\n",
       "      <td>DONOSTIA/SAN SEBASTIAN</td>\n",
       "      <td>43.322422</td>\n",
       "      <td>-1.983889</td>\n",
       "      <td>76</td>\n",
       "    </tr>\n",
       "    <tr>\n",
       "      <th>2</th>\n",
       "      <td>VITORIA-GASTEIZ</td>\n",
       "      <td>42.846509</td>\n",
       "      <td>-2.672403</td>\n",
       "      <td>54</td>\n",
       "    </tr>\n",
       "    <tr>\n",
       "      <th>3</th>\n",
       "      <td>DERIO</td>\n",
       "      <td>43.290771</td>\n",
       "      <td>-2.887044</td>\n",
       "      <td>26</td>\n",
       "    </tr>\n",
       "    <tr>\n",
       "      <th>4</th>\n",
       "      <td>BARAKALDO</td>\n",
       "      <td>43.295480</td>\n",
       "      <td>-2.990093</td>\n",
       "      <td>16</td>\n",
       "    </tr>\n",
       "    <tr>\n",
       "      <th>5</th>\n",
       "      <td>ERANDIO</td>\n",
       "      <td>43.305598</td>\n",
       "      <td>-2.972970</td>\n",
       "      <td>14</td>\n",
       "    </tr>\n",
       "    <tr>\n",
       "      <th>6</th>\n",
       "      <td>ZAMUDIO</td>\n",
       "      <td>43.282761</td>\n",
       "      <td>-2.862364</td>\n",
       "      <td>10</td>\n",
       "    </tr>\n",
       "    <tr>\n",
       "      <th>7</th>\n",
       "      <td>AMOREBIETA-ETXANO</td>\n",
       "      <td>43.220176</td>\n",
       "      <td>-2.732315</td>\n",
       "      <td>10</td>\n",
       "    </tr>\n",
       "    <tr>\n",
       "      <th>8</th>\n",
       "      <td>GETXO</td>\n",
       "      <td>43.347941</td>\n",
       "      <td>-3.008767</td>\n",
       "      <td>8</td>\n",
       "    </tr>\n",
       "    <tr>\n",
       "      <th>9</th>\n",
       "      <td>ARRASATE/MONDRAGON</td>\n",
       "      <td>43.065678</td>\n",
       "      <td>-2.490078</td>\n",
       "      <td>8</td>\n",
       "    </tr>\n",
       "    <tr>\n",
       "      <th>10</th>\n",
       "      <td>LEIOA</td>\n",
       "      <td>43.327105</td>\n",
       "      <td>-2.984608</td>\n",
       "      <td>6</td>\n",
       "    </tr>\n",
       "    <tr>\n",
       "      <th>11</th>\n",
       "      <td>MADRID</td>\n",
       "      <td>40.416705</td>\n",
       "      <td>-3.703582</td>\n",
       "      <td>6</td>\n",
       "    </tr>\n",
       "    <tr>\n",
       "      <th>12</th>\n",
       "      <td>ERMUA</td>\n",
       "      <td>43.186285</td>\n",
       "      <td>-2.502761</td>\n",
       "      <td>6</td>\n",
       "    </tr>\n",
       "    <tr>\n",
       "      <th>13</th>\n",
       "      <td>ELGOIBAR</td>\n",
       "      <td>43.214356</td>\n",
       "      <td>-2.416859</td>\n",
       "      <td>6</td>\n",
       "    </tr>\n",
       "    <tr>\n",
       "      <th>14</th>\n",
       "      <td>BASAURI</td>\n",
       "      <td>43.234136</td>\n",
       "      <td>-2.891012</td>\n",
       "      <td>4</td>\n",
       "    </tr>\n",
       "    <tr>\n",
       "      <th>15</th>\n",
       "      <td>IRUN</td>\n",
       "      <td>43.338318</td>\n",
       "      <td>-1.788809</td>\n",
       "      <td>4</td>\n",
       "    </tr>\n",
       "    <tr>\n",
       "      <th>16</th>\n",
       "      <td>ABADIÑO</td>\n",
       "      <td>43.153132</td>\n",
       "      <td>-2.607847</td>\n",
       "      <td>4</td>\n",
       "    </tr>\n",
       "    <tr>\n",
       "      <th>17</th>\n",
       "      <td>ORTUELLA</td>\n",
       "      <td>43.310567</td>\n",
       "      <td>-3.055598</td>\n",
       "      <td>4</td>\n",
       "    </tr>\n",
       "    <tr>\n",
       "      <th>18</th>\n",
       "      <td>DURANGO</td>\n",
       "      <td>24.833333</td>\n",
       "      <td>-104.833333</td>\n",
       "      <td>4</td>\n",
       "    </tr>\n",
       "    <tr>\n",
       "      <th>19</th>\n",
       "      <td>ASTEASU</td>\n",
       "      <td>43.192831</td>\n",
       "      <td>-2.095361</td>\n",
       "      <td>4</td>\n",
       "    </tr>\n",
       "    <tr>\n",
       "      <th>20</th>\n",
       "      <td>IURRETA</td>\n",
       "      <td>43.176668</td>\n",
       "      <td>-2.633930</td>\n",
       "      <td>4</td>\n",
       "    </tr>\n",
       "    <tr>\n",
       "      <th>21</th>\n",
       "      <td>MUNGIA</td>\n",
       "      <td>43.354066</td>\n",
       "      <td>-2.846416</td>\n",
       "      <td>4</td>\n",
       "    </tr>\n",
       "    <tr>\n",
       "      <th>22</th>\n",
       "      <td>ZALLA</td>\n",
       "      <td>43.207511</td>\n",
       "      <td>-3.141869</td>\n",
       "      <td>4</td>\n",
       "    </tr>\n",
       "    <tr>\n",
       "      <th>23</th>\n",
       "      <td>BERGARA</td>\n",
       "      <td>43.117544</td>\n",
       "      <td>-2.413345</td>\n",
       "      <td>4</td>\n",
       "    </tr>\n",
       "    <tr>\n",
       "      <th>24</th>\n",
       "      <td>LOIU</td>\n",
       "      <td>43.314765</td>\n",
       "      <td>-2.938888</td>\n",
       "      <td>4</td>\n",
       "    </tr>\n",
       "    <tr>\n",
       "      <th>25</th>\n",
       "      <td>EL BOALO</td>\n",
       "      <td>40.717336</td>\n",
       "      <td>-3.920220</td>\n",
       "      <td>2</td>\n",
       "    </tr>\n",
       "    <tr>\n",
       "      <th>26</th>\n",
       "      <td>BARRIKA</td>\n",
       "      <td>43.405294</td>\n",
       "      <td>-2.963386</td>\n",
       "      <td>2</td>\n",
       "    </tr>\n",
       "    <tr>\n",
       "      <th>27</th>\n",
       "      <td>LEGUTIO</td>\n",
       "      <td>42.979470</td>\n",
       "      <td>-2.640837</td>\n",
       "      <td>2</td>\n",
       "    </tr>\n",
       "    <tr>\n",
       "      <th>28</th>\n",
       "      <td>URDULIZ</td>\n",
       "      <td>43.373086</td>\n",
       "      <td>-2.948353</td>\n",
       "      <td>2</td>\n",
       "    </tr>\n",
       "    <tr>\n",
       "      <th>29</th>\n",
       "      <td>ABANTO CIERVANA/ABANTO ZIERBENA</td>\n",
       "      <td>43.316527</td>\n",
       "      <td>-3.084369</td>\n",
       "      <td>2</td>\n",
       "    </tr>\n",
       "    <tr>\n",
       "      <th>30</th>\n",
       "      <td>OIARTZUN</td>\n",
       "      <td>43.302733</td>\n",
       "      <td>-1.860910</td>\n",
       "      <td>2</td>\n",
       "    </tr>\n",
       "    <tr>\n",
       "      <th>31</th>\n",
       "      <td>ZARAUTZ</td>\n",
       "      <td>43.283487</td>\n",
       "      <td>-2.172347</td>\n",
       "      <td>2</td>\n",
       "    </tr>\n",
       "    <tr>\n",
       "      <th>32</th>\n",
       "      <td>TOLOSA</td>\n",
       "      <td>43.604462</td>\n",
       "      <td>1.444247</td>\n",
       "      <td>2</td>\n",
       "    </tr>\n",
       "    <tr>\n",
       "      <th>33</th>\n",
       "      <td>IBARRA</td>\n",
       "      <td>43.131647</td>\n",
       "      <td>-2.062257</td>\n",
       "      <td>2</td>\n",
       "    </tr>\n",
       "    <tr>\n",
       "      <th>34</th>\n",
       "      <td>BERRIZ</td>\n",
       "      <td>43.169048</td>\n",
       "      <td>-2.573920</td>\n",
       "      <td>2</td>\n",
       "    </tr>\n",
       "    <tr>\n",
       "      <th>35</th>\n",
       "      <td>GALDAMES</td>\n",
       "      <td>43.254110</td>\n",
       "      <td>-3.097637</td>\n",
       "      <td>2</td>\n",
       "    </tr>\n",
       "    <tr>\n",
       "      <th>36</th>\n",
       "      <td>ERRENTERIA</td>\n",
       "      <td>43.312527</td>\n",
       "      <td>-1.898613</td>\n",
       "      <td>2</td>\n",
       "    </tr>\n",
       "    <tr>\n",
       "      <th>37</th>\n",
       "      <td>ADUNA</td>\n",
       "      <td>43.203817</td>\n",
       "      <td>-2.050099</td>\n",
       "      <td>2</td>\n",
       "    </tr>\n",
       "    <tr>\n",
       "      <th>38</th>\n",
       "      <td>ORDIZIA</td>\n",
       "      <td>43.053969</td>\n",
       "      <td>-2.179505</td>\n",
       "      <td>2</td>\n",
       "    </tr>\n",
       "    <tr>\n",
       "      <th>39</th>\n",
       "      <td>IGORRE</td>\n",
       "      <td>43.164245</td>\n",
       "      <td>-2.778344</td>\n",
       "      <td>2</td>\n",
       "    </tr>\n",
       "    <tr>\n",
       "      <th>40</th>\n",
       "      <td>LEZAMA</td>\n",
       "      <td>43.274325</td>\n",
       "      <td>-2.832925</td>\n",
       "      <td>2</td>\n",
       "    </tr>\n",
       "    <tr>\n",
       "      <th>41</th>\n",
       "      <td>GALDAKAO</td>\n",
       "      <td>43.233264</td>\n",
       "      <td>-2.845338</td>\n",
       "      <td>2</td>\n",
       "    </tr>\n",
       "    <tr>\n",
       "      <th>42</th>\n",
       "      <td>AIZARNAZABAL</td>\n",
       "      <td>43.255792</td>\n",
       "      <td>-2.236299</td>\n",
       "      <td>2</td>\n",
       "    </tr>\n",
       "    <tr>\n",
       "      <th>43</th>\n",
       "      <td>SANTURTZI</td>\n",
       "      <td>43.328753</td>\n",
       "      <td>-3.031877</td>\n",
       "      <td>2</td>\n",
       "    </tr>\n",
       "    <tr>\n",
       "      <th>44</th>\n",
       "      <td>ZIERBENA</td>\n",
       "      <td>43.351832</td>\n",
       "      <td>-3.082039</td>\n",
       "      <td>2</td>\n",
       "    </tr>\n",
       "    <tr>\n",
       "      <th>45</th>\n",
       "      <td>ASTIGARRAGA</td>\n",
       "      <td>43.281568</td>\n",
       "      <td>-1.947477</td>\n",
       "      <td>2</td>\n",
       "    </tr>\n",
       "  </tbody>\n",
       "</table>\n",
       "</div>"
      ],
      "text/plain": [
       "                          localidad    latitud    longitud  cantidad\n",
       "0                            BILBAO  43.263002   -2.935004        80\n",
       "1            DONOSTIA/SAN SEBASTIAN  43.322422   -1.983889        76\n",
       "2                   VITORIA-GASTEIZ  42.846509   -2.672403        54\n",
       "3                             DERIO  43.290771   -2.887044        26\n",
       "4                         BARAKALDO  43.295480   -2.990093        16\n",
       "5                           ERANDIO  43.305598   -2.972970        14\n",
       "6                           ZAMUDIO  43.282761   -2.862364        10\n",
       "7                 AMOREBIETA-ETXANO  43.220176   -2.732315        10\n",
       "8                             GETXO  43.347941   -3.008767         8\n",
       "9                ARRASATE/MONDRAGON  43.065678   -2.490078         8\n",
       "10                            LEIOA  43.327105   -2.984608         6\n",
       "11                           MADRID  40.416705   -3.703582         6\n",
       "12                            ERMUA  43.186285   -2.502761         6\n",
       "13                         ELGOIBAR  43.214356   -2.416859         6\n",
       "14                          BASAURI  43.234136   -2.891012         4\n",
       "15                             IRUN  43.338318   -1.788809         4\n",
       "16                          ABADIÑO  43.153132   -2.607847         4\n",
       "17                         ORTUELLA  43.310567   -3.055598         4\n",
       "18                          DURANGO  24.833333 -104.833333         4\n",
       "19                          ASTEASU  43.192831   -2.095361         4\n",
       "20                          IURRETA  43.176668   -2.633930         4\n",
       "21                           MUNGIA  43.354066   -2.846416         4\n",
       "22                            ZALLA  43.207511   -3.141869         4\n",
       "23                          BERGARA  43.117544   -2.413345         4\n",
       "24                             LOIU  43.314765   -2.938888         4\n",
       "25                         EL BOALO  40.717336   -3.920220         2\n",
       "26                          BARRIKA  43.405294   -2.963386         2\n",
       "27                          LEGUTIO  42.979470   -2.640837         2\n",
       "28                          URDULIZ  43.373086   -2.948353         2\n",
       "29  ABANTO CIERVANA/ABANTO ZIERBENA  43.316527   -3.084369         2\n",
       "30                         OIARTZUN  43.302733   -1.860910         2\n",
       "31                          ZARAUTZ  43.283487   -2.172347         2\n",
       "32                           TOLOSA  43.604462    1.444247         2\n",
       "33                           IBARRA  43.131647   -2.062257         2\n",
       "34                           BERRIZ  43.169048   -2.573920         2\n",
       "35                         GALDAMES  43.254110   -3.097637         2\n",
       "36                       ERRENTERIA  43.312527   -1.898613         2\n",
       "37                            ADUNA  43.203817   -2.050099         2\n",
       "38                          ORDIZIA  43.053969   -2.179505         2\n",
       "39                           IGORRE  43.164245   -2.778344         2\n",
       "40                           LEZAMA  43.274325   -2.832925         2\n",
       "41                         GALDAKAO  43.233264   -2.845338         2\n",
       "42                     AIZARNAZABAL  43.255792   -2.236299         2\n",
       "43                        SANTURTZI  43.328753   -3.031877         2\n",
       "44                         ZIERBENA  43.351832   -3.082039         2\n",
       "45                      ASTIGARRAGA  43.281568   -1.947477         2"
      ]
     },
     "execution_count": 19,
     "metadata": {},
     "output_type": "execute_result"
    }
   ],
   "source": [
    "coordenadas = pd.DataFrame(list(zip(lugar, latitud, longitud, grupo_lugares['Localidad'])),columns =['localidad', 'latitud', 'longitud', 'cantidad'])\n",
    "coordenadas"
   ]
  },
  {
   "cell_type": "code",
   "execution_count": 20,
   "metadata": {},
   "outputs": [],
   "source": [
    "coordenadas = coordenadas[coordenadas['localidad'] != 'MADRID']\n",
    "coordenadas = coordenadas[coordenadas['localidad'] != 'EL BOALO']"
   ]
  },
  {
   "cell_type": "code",
   "execution_count": 21,
   "metadata": {},
   "outputs": [
    {
     "data": {
      "text/plain": [
       "[[0.0, '#f2cc8f'], [0.5, '#81b29a'], [1.0, '#3d405b']]"
      ]
     },
     "execution_count": 21,
     "metadata": {},
     "output_type": "execute_result"
    }
   ],
   "source": [
    "gyr = ['#f2cc8f', '#81b29a','#3d405b']\n",
    "colorscale = [[i/(len(gyr)-1), c] for i, c in enumerate(gyr)]\n",
    "colorscale"
   ]
  },
  {
   "cell_type": "code",
   "execution_count": 22,
   "metadata": {},
   "outputs": [
    {
     "data": {
      "application/vnd.plotly.v1+json": {
       "config": {
        "plotlyServerURL": "https://plot.ly"
       },
       "data": [
        {
         "hovertemplate": "cantidad=%{marker.color}<br>latitud=%{lat}<br>longitud=%{lon}<extra></extra>",
         "lat": [
          43.2630018,
          43.3224219,
          42.8465088,
          43.2907714,
          43.29548,
          43.3055981,
          43.2827605,
          43.2201761,
          43.3479409,
          43.0656783,
          43.3271048,
          43.1862849,
          43.2143558,
          43.2341364,
          43.3383176,
          43.1531317,
          43.3105667,
          24.833333,
          43.1928306,
          43.1766676,
          43.3540663,
          43.2075112,
          43.1175442,
          43.3147645,
          43.4052939,
          42.9794699,
          43.3730856,
          43.3165272,
          43.3027326,
          43.2834873,
          43.6044622,
          43.1316471,
          43.1690476,
          43.2541103,
          43.3125271,
          43.2038168,
          43.0539687,
          43.1642445,
          43.2743248,
          43.2332639,
          43.2557918,
          43.3287527,
          43.3518319,
          43.2815684
         ],
         "legendgroup": "",
         "lon": [
          -2.9350039,
          -1.9838889,
          -2.6724025,
          -2.8870439,
          -2.9900933,
          -2.9729697,
          -2.8623645,
          -2.7323154,
          -3.0087671,
          -2.4900779,
          -2.9846079,
          -2.5027614,
          -2.4168588,
          -2.891012,
          -1.7888095,
          -2.6078471,
          -3.0555981,
          -104.833333,
          -2.0953614,
          -2.6339298,
          -2.8464157,
          -3.141868702442991,
          -2.4133452,
          -2.9388878,
          -2.9633864,
          -2.6408374,
          -2.9483534,
          -3.0843692,
          -1.8609097,
          -2.1723467,
          1.4442469,
          -2.0622574,
          -2.57392,
          -3.097637,
          -1.8986133,
          -2.050099,
          -2.1795046,
          -2.7783435,
          -2.8329246,
          -2.8453385,
          -2.2362989,
          -3.0318766,
          -3.082039,
          -1.9474769
         ],
         "marker": {
          "color": [
           80,
           76,
           54,
           26,
           16,
           14,
           10,
           10,
           8,
           8,
           6,
           6,
           6,
           4,
           4,
           4,
           4,
           4,
           4,
           4,
           4,
           4,
           4,
           4,
           2,
           2,
           2,
           2,
           2,
           2,
           2,
           2,
           2,
           2,
           2,
           2,
           2,
           2,
           2,
           2,
           2,
           2,
           2,
           2
          ],
          "coloraxis": "coloraxis",
          "opacity": 0.8,
          "size": [
           80,
           76,
           54,
           26,
           16,
           14,
           10,
           10,
           8,
           8,
           6,
           6,
           6,
           4,
           4,
           4,
           4,
           4,
           4,
           4,
           4,
           4,
           4,
           4,
           2,
           2,
           2,
           2,
           2,
           2,
           2,
           2,
           2,
           2,
           2,
           2,
           2,
           2,
           2,
           2,
           2,
           2,
           2,
           2
          ],
          "sizemode": "area",
          "sizeref": 0.05
         },
         "mode": "markers",
         "name": "",
         "showlegend": false,
         "subplot": "mapbox",
         "type": "scattermapbox"
        }
       ],
       "layout": {
        "coloraxis": {
         "colorbar": {
          "title": {
           "text": "cantidad"
          }
         },
         "colorscale": [
          [
           0,
           "#f2cc8f"
          ],
          [
           0.5,
           "#81b29a"
          ],
          [
           1,
           "#3d405b"
          ]
         ]
        },
        "height": 600,
        "legend": {
         "itemsizing": "constant",
         "tracegroupgap": 0
        },
        "mapbox": {
         "center": {
          "lat": 43.117544,
          "lon": -2.413345
         },
         "domain": {
          "x": [
           0,
           1
          ],
          "y": [
           0,
           1
          ]
         },
         "style": "carto-positron",
         "zoom": 8
        },
        "template": {
         "data": {
          "bar": [
           {
            "error_x": {
             "color": "rgb(36,36,36)"
            },
            "error_y": {
             "color": "rgb(36,36,36)"
            },
            "marker": {
             "line": {
              "color": "white",
              "width": 0.5
             },
             "pattern": {
              "fillmode": "overlay",
              "size": 10,
              "solidity": 0.2
             }
            },
            "type": "bar"
           }
          ],
          "barpolar": [
           {
            "marker": {
             "line": {
              "color": "white",
              "width": 0.5
             },
             "pattern": {
              "fillmode": "overlay",
              "size": 10,
              "solidity": 0.2
             }
            },
            "type": "barpolar"
           }
          ],
          "carpet": [
           {
            "aaxis": {
             "endlinecolor": "rgb(36,36,36)",
             "gridcolor": "white",
             "linecolor": "white",
             "minorgridcolor": "white",
             "startlinecolor": "rgb(36,36,36)"
            },
            "baxis": {
             "endlinecolor": "rgb(36,36,36)",
             "gridcolor": "white",
             "linecolor": "white",
             "minorgridcolor": "white",
             "startlinecolor": "rgb(36,36,36)"
            },
            "type": "carpet"
           }
          ],
          "choropleth": [
           {
            "colorbar": {
             "outlinewidth": 1,
             "tickcolor": "rgb(36,36,36)",
             "ticks": "outside"
            },
            "type": "choropleth"
           }
          ],
          "contour": [
           {
            "colorbar": {
             "outlinewidth": 1,
             "tickcolor": "rgb(36,36,36)",
             "ticks": "outside"
            },
            "colorscale": [
             [
              0,
              "#440154"
             ],
             [
              0.1111111111111111,
              "#482878"
             ],
             [
              0.2222222222222222,
              "#3e4989"
             ],
             [
              0.3333333333333333,
              "#31688e"
             ],
             [
              0.4444444444444444,
              "#26828e"
             ],
             [
              0.5555555555555556,
              "#1f9e89"
             ],
             [
              0.6666666666666666,
              "#35b779"
             ],
             [
              0.7777777777777778,
              "#6ece58"
             ],
             [
              0.8888888888888888,
              "#b5de2b"
             ],
             [
              1,
              "#fde725"
             ]
            ],
            "type": "contour"
           }
          ],
          "contourcarpet": [
           {
            "colorbar": {
             "outlinewidth": 1,
             "tickcolor": "rgb(36,36,36)",
             "ticks": "outside"
            },
            "type": "contourcarpet"
           }
          ],
          "heatmap": [
           {
            "colorbar": {
             "outlinewidth": 1,
             "tickcolor": "rgb(36,36,36)",
             "ticks": "outside"
            },
            "colorscale": [
             [
              0,
              "#440154"
             ],
             [
              0.1111111111111111,
              "#482878"
             ],
             [
              0.2222222222222222,
              "#3e4989"
             ],
             [
              0.3333333333333333,
              "#31688e"
             ],
             [
              0.4444444444444444,
              "#26828e"
             ],
             [
              0.5555555555555556,
              "#1f9e89"
             ],
             [
              0.6666666666666666,
              "#35b779"
             ],
             [
              0.7777777777777778,
              "#6ece58"
             ],
             [
              0.8888888888888888,
              "#b5de2b"
             ],
             [
              1,
              "#fde725"
             ]
            ],
            "type": "heatmap"
           }
          ],
          "heatmapgl": [
           {
            "colorbar": {
             "outlinewidth": 1,
             "tickcolor": "rgb(36,36,36)",
             "ticks": "outside"
            },
            "colorscale": [
             [
              0,
              "#440154"
             ],
             [
              0.1111111111111111,
              "#482878"
             ],
             [
              0.2222222222222222,
              "#3e4989"
             ],
             [
              0.3333333333333333,
              "#31688e"
             ],
             [
              0.4444444444444444,
              "#26828e"
             ],
             [
              0.5555555555555556,
              "#1f9e89"
             ],
             [
              0.6666666666666666,
              "#35b779"
             ],
             [
              0.7777777777777778,
              "#6ece58"
             ],
             [
              0.8888888888888888,
              "#b5de2b"
             ],
             [
              1,
              "#fde725"
             ]
            ],
            "type": "heatmapgl"
           }
          ],
          "histogram": [
           {
            "marker": {
             "line": {
              "color": "white",
              "width": 0.6
             }
            },
            "type": "histogram"
           }
          ],
          "histogram2d": [
           {
            "colorbar": {
             "outlinewidth": 1,
             "tickcolor": "rgb(36,36,36)",
             "ticks": "outside"
            },
            "colorscale": [
             [
              0,
              "#440154"
             ],
             [
              0.1111111111111111,
              "#482878"
             ],
             [
              0.2222222222222222,
              "#3e4989"
             ],
             [
              0.3333333333333333,
              "#31688e"
             ],
             [
              0.4444444444444444,
              "#26828e"
             ],
             [
              0.5555555555555556,
              "#1f9e89"
             ],
             [
              0.6666666666666666,
              "#35b779"
             ],
             [
              0.7777777777777778,
              "#6ece58"
             ],
             [
              0.8888888888888888,
              "#b5de2b"
             ],
             [
              1,
              "#fde725"
             ]
            ],
            "type": "histogram2d"
           }
          ],
          "histogram2dcontour": [
           {
            "colorbar": {
             "outlinewidth": 1,
             "tickcolor": "rgb(36,36,36)",
             "ticks": "outside"
            },
            "colorscale": [
             [
              0,
              "#440154"
             ],
             [
              0.1111111111111111,
              "#482878"
             ],
             [
              0.2222222222222222,
              "#3e4989"
             ],
             [
              0.3333333333333333,
              "#31688e"
             ],
             [
              0.4444444444444444,
              "#26828e"
             ],
             [
              0.5555555555555556,
              "#1f9e89"
             ],
             [
              0.6666666666666666,
              "#35b779"
             ],
             [
              0.7777777777777778,
              "#6ece58"
             ],
             [
              0.8888888888888888,
              "#b5de2b"
             ],
             [
              1,
              "#fde725"
             ]
            ],
            "type": "histogram2dcontour"
           }
          ],
          "mesh3d": [
           {
            "colorbar": {
             "outlinewidth": 1,
             "tickcolor": "rgb(36,36,36)",
             "ticks": "outside"
            },
            "type": "mesh3d"
           }
          ],
          "parcoords": [
           {
            "line": {
             "colorbar": {
              "outlinewidth": 1,
              "tickcolor": "rgb(36,36,36)",
              "ticks": "outside"
             }
            },
            "type": "parcoords"
           }
          ],
          "pie": [
           {
            "automargin": true,
            "type": "pie"
           }
          ],
          "scatter": [
           {
            "fillpattern": {
             "fillmode": "overlay",
             "size": 10,
             "solidity": 0.2
            },
            "type": "scatter"
           }
          ],
          "scatter3d": [
           {
            "line": {
             "colorbar": {
              "outlinewidth": 1,
              "tickcolor": "rgb(36,36,36)",
              "ticks": "outside"
             }
            },
            "marker": {
             "colorbar": {
              "outlinewidth": 1,
              "tickcolor": "rgb(36,36,36)",
              "ticks": "outside"
             }
            },
            "type": "scatter3d"
           }
          ],
          "scattercarpet": [
           {
            "marker": {
             "colorbar": {
              "outlinewidth": 1,
              "tickcolor": "rgb(36,36,36)",
              "ticks": "outside"
             }
            },
            "type": "scattercarpet"
           }
          ],
          "scattergeo": [
           {
            "marker": {
             "colorbar": {
              "outlinewidth": 1,
              "tickcolor": "rgb(36,36,36)",
              "ticks": "outside"
             }
            },
            "type": "scattergeo"
           }
          ],
          "scattergl": [
           {
            "marker": {
             "colorbar": {
              "outlinewidth": 1,
              "tickcolor": "rgb(36,36,36)",
              "ticks": "outside"
             }
            },
            "type": "scattergl"
           }
          ],
          "scattermapbox": [
           {
            "marker": {
             "colorbar": {
              "outlinewidth": 1,
              "tickcolor": "rgb(36,36,36)",
              "ticks": "outside"
             }
            },
            "type": "scattermapbox"
           }
          ],
          "scatterpolar": [
           {
            "marker": {
             "colorbar": {
              "outlinewidth": 1,
              "tickcolor": "rgb(36,36,36)",
              "ticks": "outside"
             }
            },
            "type": "scatterpolar"
           }
          ],
          "scatterpolargl": [
           {
            "marker": {
             "colorbar": {
              "outlinewidth": 1,
              "tickcolor": "rgb(36,36,36)",
              "ticks": "outside"
             }
            },
            "type": "scatterpolargl"
           }
          ],
          "scatterternary": [
           {
            "marker": {
             "colorbar": {
              "outlinewidth": 1,
              "tickcolor": "rgb(36,36,36)",
              "ticks": "outside"
             }
            },
            "type": "scatterternary"
           }
          ],
          "surface": [
           {
            "colorbar": {
             "outlinewidth": 1,
             "tickcolor": "rgb(36,36,36)",
             "ticks": "outside"
            },
            "colorscale": [
             [
              0,
              "#440154"
             ],
             [
              0.1111111111111111,
              "#482878"
             ],
             [
              0.2222222222222222,
              "#3e4989"
             ],
             [
              0.3333333333333333,
              "#31688e"
             ],
             [
              0.4444444444444444,
              "#26828e"
             ],
             [
              0.5555555555555556,
              "#1f9e89"
             ],
             [
              0.6666666666666666,
              "#35b779"
             ],
             [
              0.7777777777777778,
              "#6ece58"
             ],
             [
              0.8888888888888888,
              "#b5de2b"
             ],
             [
              1,
              "#fde725"
             ]
            ],
            "type": "surface"
           }
          ],
          "table": [
           {
            "cells": {
             "fill": {
              "color": "rgb(237,237,237)"
             },
             "line": {
              "color": "white"
             }
            },
            "header": {
             "fill": {
              "color": "rgb(217,217,217)"
             },
             "line": {
              "color": "white"
             }
            },
            "type": "table"
           }
          ]
         },
         "layout": {
          "annotationdefaults": {
           "arrowhead": 0,
           "arrowwidth": 1
          },
          "autotypenumbers": "strict",
          "coloraxis": {
           "colorbar": {
            "outlinewidth": 1,
            "tickcolor": "rgb(36,36,36)",
            "ticks": "outside"
           }
          },
          "colorscale": {
           "diverging": [
            [
             0,
             "rgb(103,0,31)"
            ],
            [
             0.1,
             "rgb(178,24,43)"
            ],
            [
             0.2,
             "rgb(214,96,77)"
            ],
            [
             0.3,
             "rgb(244,165,130)"
            ],
            [
             0.4,
             "rgb(253,219,199)"
            ],
            [
             0.5,
             "rgb(247,247,247)"
            ],
            [
             0.6,
             "rgb(209,229,240)"
            ],
            [
             0.7,
             "rgb(146,197,222)"
            ],
            [
             0.8,
             "rgb(67,147,195)"
            ],
            [
             0.9,
             "rgb(33,102,172)"
            ],
            [
             1,
             "rgb(5,48,97)"
            ]
           ],
           "sequential": [
            [
             0,
             "#440154"
            ],
            [
             0.1111111111111111,
             "#482878"
            ],
            [
             0.2222222222222222,
             "#3e4989"
            ],
            [
             0.3333333333333333,
             "#31688e"
            ],
            [
             0.4444444444444444,
             "#26828e"
            ],
            [
             0.5555555555555556,
             "#1f9e89"
            ],
            [
             0.6666666666666666,
             "#35b779"
            ],
            [
             0.7777777777777778,
             "#6ece58"
            ],
            [
             0.8888888888888888,
             "#b5de2b"
            ],
            [
             1,
             "#fde725"
            ]
           ],
           "sequentialminus": [
            [
             0,
             "#440154"
            ],
            [
             0.1111111111111111,
             "#482878"
            ],
            [
             0.2222222222222222,
             "#3e4989"
            ],
            [
             0.3333333333333333,
             "#31688e"
            ],
            [
             0.4444444444444444,
             "#26828e"
            ],
            [
             0.5555555555555556,
             "#1f9e89"
            ],
            [
             0.6666666666666666,
             "#35b779"
            ],
            [
             0.7777777777777778,
             "#6ece58"
            ],
            [
             0.8888888888888888,
             "#b5de2b"
            ],
            [
             1,
             "#fde725"
            ]
           ]
          },
          "colorway": [
           "#1F77B4",
           "#FF7F0E",
           "#2CA02C",
           "#D62728",
           "#9467BD",
           "#8C564B",
           "#E377C2",
           "#7F7F7F",
           "#BCBD22",
           "#17BECF"
          ],
          "font": {
           "color": "rgb(36,36,36)"
          },
          "geo": {
           "bgcolor": "white",
           "lakecolor": "white",
           "landcolor": "white",
           "showlakes": true,
           "showland": true,
           "subunitcolor": "white"
          },
          "hoverlabel": {
           "align": "left"
          },
          "hovermode": "closest",
          "mapbox": {
           "style": "light"
          },
          "paper_bgcolor": "white",
          "plot_bgcolor": "white",
          "polar": {
           "angularaxis": {
            "gridcolor": "rgb(232,232,232)",
            "linecolor": "rgb(36,36,36)",
            "showgrid": false,
            "showline": true,
            "ticks": "outside"
           },
           "bgcolor": "white",
           "radialaxis": {
            "gridcolor": "rgb(232,232,232)",
            "linecolor": "rgb(36,36,36)",
            "showgrid": false,
            "showline": true,
            "ticks": "outside"
           }
          },
          "scene": {
           "xaxis": {
            "backgroundcolor": "white",
            "gridcolor": "rgb(232,232,232)",
            "gridwidth": 2,
            "linecolor": "rgb(36,36,36)",
            "showbackground": true,
            "showgrid": false,
            "showline": true,
            "ticks": "outside",
            "zeroline": false,
            "zerolinecolor": "rgb(36,36,36)"
           },
           "yaxis": {
            "backgroundcolor": "white",
            "gridcolor": "rgb(232,232,232)",
            "gridwidth": 2,
            "linecolor": "rgb(36,36,36)",
            "showbackground": true,
            "showgrid": false,
            "showline": true,
            "ticks": "outside",
            "zeroline": false,
            "zerolinecolor": "rgb(36,36,36)"
           },
           "zaxis": {
            "backgroundcolor": "white",
            "gridcolor": "rgb(232,232,232)",
            "gridwidth": 2,
            "linecolor": "rgb(36,36,36)",
            "showbackground": true,
            "showgrid": false,
            "showline": true,
            "ticks": "outside",
            "zeroline": false,
            "zerolinecolor": "rgb(36,36,36)"
           }
          },
          "shapedefaults": {
           "fillcolor": "black",
           "line": {
            "width": 0
           },
           "opacity": 0.3
          },
          "ternary": {
           "aaxis": {
            "gridcolor": "rgb(232,232,232)",
            "linecolor": "rgb(36,36,36)",
            "showgrid": false,
            "showline": true,
            "ticks": "outside"
           },
           "baxis": {
            "gridcolor": "rgb(232,232,232)",
            "linecolor": "rgb(36,36,36)",
            "showgrid": false,
            "showline": true,
            "ticks": "outside"
           },
           "bgcolor": "white",
           "caxis": {
            "gridcolor": "rgb(232,232,232)",
            "linecolor": "rgb(36,36,36)",
            "showgrid": false,
            "showline": true,
            "ticks": "outside"
           }
          },
          "title": {
           "x": 0.05
          },
          "xaxis": {
           "automargin": true,
           "gridcolor": "rgb(232,232,232)",
           "linecolor": "rgb(36,36,36)",
           "showgrid": false,
           "showline": true,
           "ticks": "outside",
           "title": {
            "standoff": 15
           },
           "zeroline": false,
           "zerolinecolor": "rgb(36,36,36)"
          },
          "yaxis": {
           "automargin": true,
           "gridcolor": "rgb(232,232,232)",
           "linecolor": "rgb(36,36,36)",
           "showgrid": false,
           "showline": true,
           "ticks": "outside",
           "title": {
            "standoff": 15
           },
           "zeroline": false,
           "zerolinecolor": "rgb(36,36,36)"
          }
         }
        },
        "title": {
         "text": "Distribución de las empresas"
        },
        "width": 1100
       }
      }
     },
     "metadata": {},
     "output_type": "display_data"
    }
   ],
   "source": [
    "centro = {'lat':43.117544, 'lon':-2.413345}\n",
    "fig = px.scatter_mapbox(coordenadas, lat = 'latitud', lon = 'longitud', size = 'cantidad', color='cantidad',\n",
    "                        size_max = 40, color_continuous_scale=colorscale, opacity=0.8,\n",
    "                        zoom = 8, mapbox_style = 'carto-positron', center=centro, width=1100, height=600,\n",
    "                        title='Distribución de las empresas', template='simple_white')\n",
    "# fig.write_image(\"static/en/plotly/bubble-map-plotly.png\", width = 500, height = 500)                        \n",
    "fig.show()"
   ]
  },
  {
   "attachments": {},
   "cell_type": "markdown",
   "metadata": {},
   "source": [
    "###### HISTOGRAMA DE LA CAPITAL SOCIAL ######"
   ]
  },
  {
   "cell_type": "code",
   "execution_count": 23,
   "metadata": {},
   "outputs": [
    {
     "data": {
      "application/vnd.plotly.v1+json": {
       "config": {
        "plotlyServerURL": "https://plot.ly"
       },
       "data": [
        {
         "histfunc": "count",
         "name": "count",
         "type": "histogram",
         "x": [
          745.33,
          291.485,
          2000,
          158.97,
          13301,
          2860.929,
          60,
          870.59,
          100,
          60,
          3.501,
          45.5,
          24,
          20,
          13.462,
          3,
          3,
          193.049,
          96.507,
          211.111,
          45,
          120.229,
          64.752,
          3.389,
          62.805,
          45.366,
          6,
          12.096,
          10,
          3,
          35.465,
          603.1,
          3,
          185,
          20,
          3.006,
          114.202,
          3,
          78,
          33,
          306.5,
          3,
          150,
          3,
          300,
          10,
          4,
          60.7677,
          30,
          100,
          44,
          3,
          3,
          3,
          105,
          3.5,
          3.448,
          30,
          27.778,
          3.605,
          3,
          22.2222,
          207.548,
          70,
          3,
          40,
          25.02,
          3,
          4.573,
          4,
          3.643,
          20,
          4.226,
          12,
          7.2345,
          24.04049,
          395.75212,
          3.23945,
          7.002,
          3.008,
          3.1,
          5.1,
          23.53,
          100,
          3.012,
          148,
          7.79065,
          136.7125,
          29.08,
          9.109,
          36.83226,
          136.6,
          3,
          3.1,
          19.8334,
          522.62316,
          9,
          143.38,
          120,
          38.702,
          822.2,
          3.001,
          4,
          4.73,
          152.25,
          40.867,
          2002.465,
          10,
          3499.15502,
          100,
          10,
          3.01,
          203.006,
          3,
          90.299,
          45,
          2651,
          10,
          85.251,
          490,
          203,
          20500,
          3,
          6,
          60,
          3,
          700,
          35.541,
          967.457,
          3.01,
          7.5,
          153,
          14.156,
          20,
          3,
          34.388,
          5.834,
          3,
          3,
          3,
          22.01,
          20,
          15,
          4.306,
          221.821,
          22.531,
          35,
          23,
          20,
          112.613,
          100,
          77.25,
          250,
          74.205,
          41.163,
          31.25,
          60,
          86,
          3,
          906.576,
          65.577,
          55,
          5.47,
          4011.148,
          66.668,
          207,
          15.153,
          3,
          207.792,
          3.769,
          93.75,
          3.426,
          3.285,
          20,
          4.206,
          20,
          912.7285,
          45.663,
          28.022,
          3,
          1312.5,
          400,
          5.713,
          30,
          140,
          309.674,
          10,
          300,
          3.6,
          3,
          3,
          30,
          125,
          222.222,
          18,
          21.34,
          657.5,
          66.538,
          3.1,
          20,
          115,
          72,
          25,
          3,
          375,
          156.86,
          54.359,
          6,
          70,
          3.33,
          3.333,
          200,
          3,
          3,
          30,
          3,
          19.5,
          21,
          20,
          65.19,
          50.025,
          498.755,
          13.4378,
          3.3,
          194.52166,
          3,
          18.904,
          396.85335,
          135.8016,
          573,
          233.655,
          328.24,
          10.02,
          3.01,
          72,
          3.01,
          383.08,
          52.949,
          128.571,
          3.006,
          2466.7614,
          53.326,
          34676.056,
          141.5,
          197.771,
          42,
          140.74992,
          30,
          53.536,
          249.61682,
          20,
          3,
          22.95,
          5.79,
          3.6,
          197.34,
          10,
          3.01,
          512.1,
          66,
          25,
          4001,
          60,
          23.5,
          4000,
          3.25,
          11.485,
          2799.401,
          3.005,
          3.062,
          27.06258,
          720,
          50,
          400,
          68,
          175.93,
          30,
          180,
          3,
          10,
          38.464,
          20,
          3.001,
          67,
          67,
          116.776,
          1100,
          10,
          147.639,
          3,
          3.158,
          6.16,
          100,
          153.01,
          20,
          77.011,
          635.607,
          118.8,
          3835.906,
          3,
          3,
          117.884,
          25,
          18.21,
          108.648,
          3,
          150.639,
          20.247,
          20,
          6,
          50,
          10.922,
          33.75,
          53.1,
          3.35,
          376.35,
          378,
          38.4,
          30,
          23,
          9,
          303.006,
          3.001,
          23.562,
          50,
          202.46,
          32.217,
          3,
          907.496,
          51.9,
          3,
          7515,
          3.1,
          28.6,
          65,
          3.883,
          3,
          3,
          3,
          120,
          5,
          20,
          67.715,
          50,
          72.2672,
          23,
          158.133,
          67,
          3.75,
          4.92,
          3,
          14.2,
          20.286,
          3.407,
          73.889,
          78.675,
          416.467,
          20.676,
          75,
          50,
          20,
          50.1,
          50,
          63.5,
          46,
          45.25,
          71.25,
          3,
          311.111,
          16,
          3,
          3,
          40.158,
          20.001,
          7.636,
          3,
          30,
          50,
          50,
          185,
          120,
          189.5,
          50,
          3,
          100,
          40,
          37.896,
          11.739,
          56.5,
          50,
          54,
          2383.69,
          4.3277,
          3,
          10,
          3.006,
          3,
          3.692,
          3.269,
          20.4,
          4.046,
          53,
          20,
          15.458,
          5.556,
          13.889,
          3,
          4.304,
          90,
          3.05,
          100,
          40
         ]
        }
       ],
       "layout": {
        "template": {
         "data": {
          "bar": [
           {
            "error_x": {
             "color": "#2a3f5f"
            },
            "error_y": {
             "color": "#2a3f5f"
            },
            "marker": {
             "line": {
              "color": "#E5ECF6",
              "width": 0.5
             },
             "pattern": {
              "fillmode": "overlay",
              "size": 10,
              "solidity": 0.2
             }
            },
            "type": "bar"
           }
          ],
          "barpolar": [
           {
            "marker": {
             "line": {
              "color": "#E5ECF6",
              "width": 0.5
             },
             "pattern": {
              "fillmode": "overlay",
              "size": 10,
              "solidity": 0.2
             }
            },
            "type": "barpolar"
           }
          ],
          "carpet": [
           {
            "aaxis": {
             "endlinecolor": "#2a3f5f",
             "gridcolor": "white",
             "linecolor": "white",
             "minorgridcolor": "white",
             "startlinecolor": "#2a3f5f"
            },
            "baxis": {
             "endlinecolor": "#2a3f5f",
             "gridcolor": "white",
             "linecolor": "white",
             "minorgridcolor": "white",
             "startlinecolor": "#2a3f5f"
            },
            "type": "carpet"
           }
          ],
          "choropleth": [
           {
            "colorbar": {
             "outlinewidth": 0,
             "ticks": ""
            },
            "type": "choropleth"
           }
          ],
          "contour": [
           {
            "colorbar": {
             "outlinewidth": 0,
             "ticks": ""
            },
            "colorscale": [
             [
              0,
              "#0d0887"
             ],
             [
              0.1111111111111111,
              "#46039f"
             ],
             [
              0.2222222222222222,
              "#7201a8"
             ],
             [
              0.3333333333333333,
              "#9c179e"
             ],
             [
              0.4444444444444444,
              "#bd3786"
             ],
             [
              0.5555555555555556,
              "#d8576b"
             ],
             [
              0.6666666666666666,
              "#ed7953"
             ],
             [
              0.7777777777777778,
              "#fb9f3a"
             ],
             [
              0.8888888888888888,
              "#fdca26"
             ],
             [
              1,
              "#f0f921"
             ]
            ],
            "type": "contour"
           }
          ],
          "contourcarpet": [
           {
            "colorbar": {
             "outlinewidth": 0,
             "ticks": ""
            },
            "type": "contourcarpet"
           }
          ],
          "heatmap": [
           {
            "colorbar": {
             "outlinewidth": 0,
             "ticks": ""
            },
            "colorscale": [
             [
              0,
              "#0d0887"
             ],
             [
              0.1111111111111111,
              "#46039f"
             ],
             [
              0.2222222222222222,
              "#7201a8"
             ],
             [
              0.3333333333333333,
              "#9c179e"
             ],
             [
              0.4444444444444444,
              "#bd3786"
             ],
             [
              0.5555555555555556,
              "#d8576b"
             ],
             [
              0.6666666666666666,
              "#ed7953"
             ],
             [
              0.7777777777777778,
              "#fb9f3a"
             ],
             [
              0.8888888888888888,
              "#fdca26"
             ],
             [
              1,
              "#f0f921"
             ]
            ],
            "type": "heatmap"
           }
          ],
          "heatmapgl": [
           {
            "colorbar": {
             "outlinewidth": 0,
             "ticks": ""
            },
            "colorscale": [
             [
              0,
              "#0d0887"
             ],
             [
              0.1111111111111111,
              "#46039f"
             ],
             [
              0.2222222222222222,
              "#7201a8"
             ],
             [
              0.3333333333333333,
              "#9c179e"
             ],
             [
              0.4444444444444444,
              "#bd3786"
             ],
             [
              0.5555555555555556,
              "#d8576b"
             ],
             [
              0.6666666666666666,
              "#ed7953"
             ],
             [
              0.7777777777777778,
              "#fb9f3a"
             ],
             [
              0.8888888888888888,
              "#fdca26"
             ],
             [
              1,
              "#f0f921"
             ]
            ],
            "type": "heatmapgl"
           }
          ],
          "histogram": [
           {
            "marker": {
             "pattern": {
              "fillmode": "overlay",
              "size": 10,
              "solidity": 0.2
             }
            },
            "type": "histogram"
           }
          ],
          "histogram2d": [
           {
            "colorbar": {
             "outlinewidth": 0,
             "ticks": ""
            },
            "colorscale": [
             [
              0,
              "#0d0887"
             ],
             [
              0.1111111111111111,
              "#46039f"
             ],
             [
              0.2222222222222222,
              "#7201a8"
             ],
             [
              0.3333333333333333,
              "#9c179e"
             ],
             [
              0.4444444444444444,
              "#bd3786"
             ],
             [
              0.5555555555555556,
              "#d8576b"
             ],
             [
              0.6666666666666666,
              "#ed7953"
             ],
             [
              0.7777777777777778,
              "#fb9f3a"
             ],
             [
              0.8888888888888888,
              "#fdca26"
             ],
             [
              1,
              "#f0f921"
             ]
            ],
            "type": "histogram2d"
           }
          ],
          "histogram2dcontour": [
           {
            "colorbar": {
             "outlinewidth": 0,
             "ticks": ""
            },
            "colorscale": [
             [
              0,
              "#0d0887"
             ],
             [
              0.1111111111111111,
              "#46039f"
             ],
             [
              0.2222222222222222,
              "#7201a8"
             ],
             [
              0.3333333333333333,
              "#9c179e"
             ],
             [
              0.4444444444444444,
              "#bd3786"
             ],
             [
              0.5555555555555556,
              "#d8576b"
             ],
             [
              0.6666666666666666,
              "#ed7953"
             ],
             [
              0.7777777777777778,
              "#fb9f3a"
             ],
             [
              0.8888888888888888,
              "#fdca26"
             ],
             [
              1,
              "#f0f921"
             ]
            ],
            "type": "histogram2dcontour"
           }
          ],
          "mesh3d": [
           {
            "colorbar": {
             "outlinewidth": 0,
             "ticks": ""
            },
            "type": "mesh3d"
           }
          ],
          "parcoords": [
           {
            "line": {
             "colorbar": {
              "outlinewidth": 0,
              "ticks": ""
             }
            },
            "type": "parcoords"
           }
          ],
          "pie": [
           {
            "automargin": true,
            "type": "pie"
           }
          ],
          "scatter": [
           {
            "fillpattern": {
             "fillmode": "overlay",
             "size": 10,
             "solidity": 0.2
            },
            "type": "scatter"
           }
          ],
          "scatter3d": [
           {
            "line": {
             "colorbar": {
              "outlinewidth": 0,
              "ticks": ""
             }
            },
            "marker": {
             "colorbar": {
              "outlinewidth": 0,
              "ticks": ""
             }
            },
            "type": "scatter3d"
           }
          ],
          "scattercarpet": [
           {
            "marker": {
             "colorbar": {
              "outlinewidth": 0,
              "ticks": ""
             }
            },
            "type": "scattercarpet"
           }
          ],
          "scattergeo": [
           {
            "marker": {
             "colorbar": {
              "outlinewidth": 0,
              "ticks": ""
             }
            },
            "type": "scattergeo"
           }
          ],
          "scattergl": [
           {
            "marker": {
             "colorbar": {
              "outlinewidth": 0,
              "ticks": ""
             }
            },
            "type": "scattergl"
           }
          ],
          "scattermapbox": [
           {
            "marker": {
             "colorbar": {
              "outlinewidth": 0,
              "ticks": ""
             }
            },
            "type": "scattermapbox"
           }
          ],
          "scatterpolar": [
           {
            "marker": {
             "colorbar": {
              "outlinewidth": 0,
              "ticks": ""
             }
            },
            "type": "scatterpolar"
           }
          ],
          "scatterpolargl": [
           {
            "marker": {
             "colorbar": {
              "outlinewidth": 0,
              "ticks": ""
             }
            },
            "type": "scatterpolargl"
           }
          ],
          "scatterternary": [
           {
            "marker": {
             "colorbar": {
              "outlinewidth": 0,
              "ticks": ""
             }
            },
            "type": "scatterternary"
           }
          ],
          "surface": [
           {
            "colorbar": {
             "outlinewidth": 0,
             "ticks": ""
            },
            "colorscale": [
             [
              0,
              "#0d0887"
             ],
             [
              0.1111111111111111,
              "#46039f"
             ],
             [
              0.2222222222222222,
              "#7201a8"
             ],
             [
              0.3333333333333333,
              "#9c179e"
             ],
             [
              0.4444444444444444,
              "#bd3786"
             ],
             [
              0.5555555555555556,
              "#d8576b"
             ],
             [
              0.6666666666666666,
              "#ed7953"
             ],
             [
              0.7777777777777778,
              "#fb9f3a"
             ],
             [
              0.8888888888888888,
              "#fdca26"
             ],
             [
              1,
              "#f0f921"
             ]
            ],
            "type": "surface"
           }
          ],
          "table": [
           {
            "cells": {
             "fill": {
              "color": "#EBF0F8"
             },
             "line": {
              "color": "white"
             }
            },
            "header": {
             "fill": {
              "color": "#C8D4E3"
             },
             "line": {
              "color": "white"
             }
            },
            "type": "table"
           }
          ]
         },
         "layout": {
          "annotationdefaults": {
           "arrowcolor": "#2a3f5f",
           "arrowhead": 0,
           "arrowwidth": 1
          },
          "autotypenumbers": "strict",
          "coloraxis": {
           "colorbar": {
            "outlinewidth": 0,
            "ticks": ""
           }
          },
          "colorscale": {
           "diverging": [
            [
             0,
             "#8e0152"
            ],
            [
             0.1,
             "#c51b7d"
            ],
            [
             0.2,
             "#de77ae"
            ],
            [
             0.3,
             "#f1b6da"
            ],
            [
             0.4,
             "#fde0ef"
            ],
            [
             0.5,
             "#f7f7f7"
            ],
            [
             0.6,
             "#e6f5d0"
            ],
            [
             0.7,
             "#b8e186"
            ],
            [
             0.8,
             "#7fbc41"
            ],
            [
             0.9,
             "#4d9221"
            ],
            [
             1,
             "#276419"
            ]
           ],
           "sequential": [
            [
             0,
             "#0d0887"
            ],
            [
             0.1111111111111111,
             "#46039f"
            ],
            [
             0.2222222222222222,
             "#7201a8"
            ],
            [
             0.3333333333333333,
             "#9c179e"
            ],
            [
             0.4444444444444444,
             "#bd3786"
            ],
            [
             0.5555555555555556,
             "#d8576b"
            ],
            [
             0.6666666666666666,
             "#ed7953"
            ],
            [
             0.7777777777777778,
             "#fb9f3a"
            ],
            [
             0.8888888888888888,
             "#fdca26"
            ],
            [
             1,
             "#f0f921"
            ]
           ],
           "sequentialminus": [
            [
             0,
             "#0d0887"
            ],
            [
             0.1111111111111111,
             "#46039f"
            ],
            [
             0.2222222222222222,
             "#7201a8"
            ],
            [
             0.3333333333333333,
             "#9c179e"
            ],
            [
             0.4444444444444444,
             "#bd3786"
            ],
            [
             0.5555555555555556,
             "#d8576b"
            ],
            [
             0.6666666666666666,
             "#ed7953"
            ],
            [
             0.7777777777777778,
             "#fb9f3a"
            ],
            [
             0.8888888888888888,
             "#fdca26"
            ],
            [
             1,
             "#f0f921"
            ]
           ]
          },
          "colorway": [
           "#636efa",
           "#EF553B",
           "#00cc96",
           "#ab63fa",
           "#FFA15A",
           "#19d3f3",
           "#FF6692",
           "#B6E880",
           "#FF97FF",
           "#FECB52"
          ],
          "font": {
           "color": "#2a3f5f"
          },
          "geo": {
           "bgcolor": "white",
           "lakecolor": "white",
           "landcolor": "#E5ECF6",
           "showlakes": true,
           "showland": true,
           "subunitcolor": "white"
          },
          "hoverlabel": {
           "align": "left"
          },
          "hovermode": "closest",
          "mapbox": {
           "style": "light"
          },
          "paper_bgcolor": "white",
          "plot_bgcolor": "#E5ECF6",
          "polar": {
           "angularaxis": {
            "gridcolor": "white",
            "linecolor": "white",
            "ticks": ""
           },
           "bgcolor": "#E5ECF6",
           "radialaxis": {
            "gridcolor": "white",
            "linecolor": "white",
            "ticks": ""
           }
          },
          "scene": {
           "xaxis": {
            "backgroundcolor": "#E5ECF6",
            "gridcolor": "white",
            "gridwidth": 2,
            "linecolor": "white",
            "showbackground": true,
            "ticks": "",
            "zerolinecolor": "white"
           },
           "yaxis": {
            "backgroundcolor": "#E5ECF6",
            "gridcolor": "white",
            "gridwidth": 2,
            "linecolor": "white",
            "showbackground": true,
            "ticks": "",
            "zerolinecolor": "white"
           },
           "zaxis": {
            "backgroundcolor": "#E5ECF6",
            "gridcolor": "white",
            "gridwidth": 2,
            "linecolor": "white",
            "showbackground": true,
            "ticks": "",
            "zerolinecolor": "white"
           }
          },
          "shapedefaults": {
           "line": {
            "color": "#2a3f5f"
           }
          },
          "ternary": {
           "aaxis": {
            "gridcolor": "white",
            "linecolor": "white",
            "ticks": ""
           },
           "baxis": {
            "gridcolor": "white",
            "linecolor": "white",
            "ticks": ""
           },
           "bgcolor": "#E5ECF6",
           "caxis": {
            "gridcolor": "white",
            "linecolor": "white",
            "ticks": ""
           }
          },
          "title": {
           "x": 0.05
          },
          "xaxis": {
           "automargin": true,
           "gridcolor": "white",
           "linecolor": "white",
           "ticks": "",
           "title": {
            "standoff": 15
           },
           "zerolinecolor": "white",
           "zerolinewidth": 2
          },
          "yaxis": {
           "automargin": true,
           "gridcolor": "white",
           "linecolor": "white",
           "ticks": "",
           "title": {
            "standoff": 15
           },
           "zerolinecolor": "white",
           "zerolinewidth": 2
          }
         }
        }
       }
      }
     },
     "metadata": {},
     "output_type": "display_data"
    }
   ],
   "source": [
    "fig = go.Figure()\n",
    "fig.add_trace(go.Histogram(histfunc=\"count\", x=df_graficos['Capital social mil EUR'], name=\"count\"))"
   ]
  },
  {
   "attachments": {},
   "cell_type": "markdown",
   "metadata": {},
   "source": [
    "###### COMPARACIÓN AÑOS ######"
   ]
  },
  {
   "cell_type": "code",
   "execution_count": 24,
   "metadata": {},
   "outputs": [],
   "source": [
    "variables = ['Importe neto Cifra de Ventas mil EUR', 'Total activo mil EUR', 'Deudas financieras mil EUR', 'Número empleados', 'Resultado financiero mil EUR']"
   ]
  },
  {
   "cell_type": "code",
   "execution_count": 25,
   "metadata": {},
   "outputs": [],
   "source": [
    "df_original = pd.read_excel('C:/Users/Libe/Desktop/RETO 7 (MORADO)/spri_reto_07_morado/Datos/Originales/df_sabi_modif_2_new.xlsx')"
   ]
  },
  {
   "cell_type": "code",
   "execution_count": 26,
   "metadata": {},
   "outputs": [],
   "source": [
    "df_original = df_original[['Codigo_NIF', 'year','Importe neto Cifra de Ventas mil EUR', 'Total activo mil EUR', 'Deudas financieras mil EUR', 'Número empleados', 'Resultado financiero mil EUR']]"
   ]
  },
  {
   "cell_type": "code",
   "execution_count": 27,
   "metadata": {},
   "outputs": [],
   "source": [
    "df_original = df_original[df_original['year'] == 2020]"
   ]
  },
  {
   "cell_type": "code",
   "execution_count": 28,
   "metadata": {},
   "outputs": [
    {
     "data": {
      "text/html": [
       "<div>\n",
       "<style scoped>\n",
       "    .dataframe tbody tr th:only-of-type {\n",
       "        vertical-align: middle;\n",
       "    }\n",
       "\n",
       "    .dataframe tbody tr th {\n",
       "        vertical-align: top;\n",
       "    }\n",
       "\n",
       "    .dataframe thead th {\n",
       "        text-align: right;\n",
       "    }\n",
       "</style>\n",
       "<table border=\"1\" class=\"dataframe\">\n",
       "  <thead>\n",
       "    <tr style=\"text-align: right;\">\n",
       "      <th></th>\n",
       "      <th>Codigo_NIF</th>\n",
       "      <th>Acreedores a L. P. mil EUR_ratio</th>\n",
       "      <th>Acreedores comerciales mil EUR_ratio</th>\n",
       "      <th>Activo circulante mil EUR_ratio</th>\n",
       "      <th>Apalancamiento (%) %_ratio</th>\n",
       "      <th>Capital suscrito mil EUR_ratio</th>\n",
       "      <th>Cash flow mil EUR_ratio</th>\n",
       "      <th>Coeficiente de solvencia (%) %_ratio</th>\n",
       "      <th>Coste medio de los empleados mil_ratio</th>\n",
       "      <th>Costes de los trabajadores / Ingresos de explotacion (%) %_ratio</th>\n",
       "      <th>...</th>\n",
       "      <th>Beneficio neto mil EUR</th>\n",
       "      <th>ROA</th>\n",
       "      <th>Margen_EBITDA</th>\n",
       "      <th>Localidad</th>\n",
       "      <th>year_y</th>\n",
       "      <th>Importe neto Cifra de Ventas mil EUR</th>\n",
       "      <th>Total activo mil EUR</th>\n",
       "      <th>Deudas financieras mil EUR</th>\n",
       "      <th>Número empleados</th>\n",
       "      <th>Resultado financiero mil EUR</th>\n",
       "    </tr>\n",
       "  </thead>\n",
       "  <tbody>\n",
       "    <tr>\n",
       "      <th>0</th>\n",
       "      <td>A48464788</td>\n",
       "      <td>2.032035</td>\n",
       "      <td>0.876241</td>\n",
       "      <td>1.123027</td>\n",
       "      <td>2.196388</td>\n",
       "      <td>1.000000</td>\n",
       "      <td>1.084481</td>\n",
       "      <td>0.867002</td>\n",
       "      <td>1.079142</td>\n",
       "      <td>1.046273</td>\n",
       "      <td>...</td>\n",
       "      <td>1.026036e+04</td>\n",
       "      <td>0.526140</td>\n",
       "      <td>0.265463</td>\n",
       "      <td>MADRID</td>\n",
       "      <td>2020</td>\n",
       "      <td>11527.91437</td>\n",
       "      <td>1.847984e+04</td>\n",
       "      <td>144.36885</td>\n",
       "      <td>61.0</td>\n",
       "      <td>-65.53849</td>\n",
       "    </tr>\n",
       "    <tr>\n",
       "      <th>1</th>\n",
       "      <td>A48500052</td>\n",
       "      <td>1.000000</td>\n",
       "      <td>0.446167</td>\n",
       "      <td>0.819437</td>\n",
       "      <td>1.032849</td>\n",
       "      <td>1.000000</td>\n",
       "      <td>0.972424</td>\n",
       "      <td>1.188221</td>\n",
       "      <td>1.023458</td>\n",
       "      <td>0.974969</td>\n",
       "      <td>...</td>\n",
       "      <td>1.727481e+03</td>\n",
       "      <td>0.963397</td>\n",
       "      <td>0.025086</td>\n",
       "      <td>MADRID</td>\n",
       "      <td>2020</td>\n",
       "      <td>2077.87221</td>\n",
       "      <td>2.200622e+03</td>\n",
       "      <td>NaN</td>\n",
       "      <td>6.0</td>\n",
       "      <td>0.31790</td>\n",
       "    </tr>\n",
       "    <tr>\n",
       "      <th>2</th>\n",
       "      <td>A78053147</td>\n",
       "      <td>0.937439</td>\n",
       "      <td>0.979704</td>\n",
       "      <td>1.108211</td>\n",
       "      <td>1.202229</td>\n",
       "      <td>1.000000</td>\n",
       "      <td>0.028017</td>\n",
       "      <td>0.881491</td>\n",
       "      <td>1.299568</td>\n",
       "      <td>1.017570</td>\n",
       "      <td>...</td>\n",
       "      <td>1.187010e+06</td>\n",
       "      <td>1.002887</td>\n",
       "      <td>0.004810</td>\n",
       "      <td>ADUNA</td>\n",
       "      <td>2020</td>\n",
       "      <td>973746.00000</td>\n",
       "      <td>1.037263e+06</td>\n",
       "      <td>NaN</td>\n",
       "      <td>968.0</td>\n",
       "      <td>50485.00000</td>\n",
       "    </tr>\n",
       "    <tr>\n",
       "      <th>3</th>\n",
       "      <td>A95291613</td>\n",
       "      <td>0.869990</td>\n",
       "      <td>11.203927</td>\n",
       "      <td>1.703667</td>\n",
       "      <td>1.730706</td>\n",
       "      <td>0.744590</td>\n",
       "      <td>0.185162</td>\n",
       "      <td>0.501350</td>\n",
       "      <td>1.228400</td>\n",
       "      <td>0.560756</td>\n",
       "      <td>...</td>\n",
       "      <td>1.555049e+03</td>\n",
       "      <td>0.233982</td>\n",
       "      <td>-0.006657</td>\n",
       "      <td>ADUNA</td>\n",
       "      <td>2020</td>\n",
       "      <td>1308.59723</td>\n",
       "      <td>4.994698e+03</td>\n",
       "      <td>583.42373</td>\n",
       "      <td>34.0</td>\n",
       "      <td>52.13491</td>\n",
       "    </tr>\n",
       "    <tr>\n",
       "      <th>4</th>\n",
       "      <td>A95363859</td>\n",
       "      <td>1.009045</td>\n",
       "      <td>0.830540</td>\n",
       "      <td>0.877250</td>\n",
       "      <td>0.984654</td>\n",
       "      <td>1.000000</td>\n",
       "      <td>1.389099</td>\n",
       "      <td>1.024902</td>\n",
       "      <td>0.960552</td>\n",
       "      <td>0.682127</td>\n",
       "      <td>...</td>\n",
       "      <td>4.684900e+04</td>\n",
       "      <td>0.197339</td>\n",
       "      <td>0.184489</td>\n",
       "      <td>ZIERBENA</td>\n",
       "      <td>2020</td>\n",
       "      <td>32094.00000</td>\n",
       "      <td>2.367150e+05</td>\n",
       "      <td>NaN</td>\n",
       "      <td>51.0</td>\n",
       "      <td>-3914.00000</td>\n",
       "    </tr>\n",
       "    <tr>\n",
       "      <th>...</th>\n",
       "      <td>...</td>\n",
       "      <td>...</td>\n",
       "      <td>...</td>\n",
       "      <td>...</td>\n",
       "      <td>...</td>\n",
       "      <td>...</td>\n",
       "      <td>...</td>\n",
       "      <td>...</td>\n",
       "      <td>...</td>\n",
       "      <td>...</td>\n",
       "      <td>...</td>\n",
       "      <td>...</td>\n",
       "      <td>...</td>\n",
       "      <td>...</td>\n",
       "      <td>...</td>\n",
       "      <td>...</td>\n",
       "      <td>...</td>\n",
       "      <td>...</td>\n",
       "      <td>...</td>\n",
       "      <td>...</td>\n",
       "      <td>...</td>\n",
       "    </tr>\n",
       "    <tr>\n",
       "      <th>407</th>\n",
       "      <td>B95987319</td>\n",
       "      <td>3.834331</td>\n",
       "      <td>17.191816</td>\n",
       "      <td>2.600444</td>\n",
       "      <td>1.426464</td>\n",
       "      <td>1.276394</td>\n",
       "      <td>-26.932326</td>\n",
       "      <td>1.721535</td>\n",
       "      <td>1.628625</td>\n",
       "      <td>5.672503</td>\n",
       "      <td>...</td>\n",
       "      <td>-2.723745e+02</td>\n",
       "      <td>-0.172708</td>\n",
       "      <td>-1.742322</td>\n",
       "      <td>BILBAO</td>\n",
       "      <td>2020</td>\n",
       "      <td>2.00000</td>\n",
       "      <td>9.909370e+02</td>\n",
       "      <td>NaN</td>\n",
       "      <td>8.0</td>\n",
       "      <td>-2.33900</td>\n",
       "    </tr>\n",
       "    <tr>\n",
       "      <th>408</th>\n",
       "      <td>B95989059</td>\n",
       "      <td>0.887485</td>\n",
       "      <td>1.068152</td>\n",
       "      <td>1.219761</td>\n",
       "      <td>-0.089398</td>\n",
       "      <td>1.500000</td>\n",
       "      <td>4.766860</td>\n",
       "      <td>-8.149695</td>\n",
       "      <td>1.318442</td>\n",
       "      <td>1.016410</td>\n",
       "      <td>...</td>\n",
       "      <td>1.771957e+02</td>\n",
       "      <td>0.298129</td>\n",
       "      <td>-0.059926</td>\n",
       "      <td>BILBAO</td>\n",
       "      <td>2020</td>\n",
       "      <td>420.09760</td>\n",
       "      <td>4.875190e+02</td>\n",
       "      <td>NaN</td>\n",
       "      <td>13.0</td>\n",
       "      <td>-0.96799</td>\n",
       "    </tr>\n",
       "    <tr>\n",
       "      <th>409</th>\n",
       "      <td>B95990164</td>\n",
       "      <td>13.701784</td>\n",
       "      <td>1.000000</td>\n",
       "      <td>9.130745</td>\n",
       "      <td>-0.570109</td>\n",
       "      <td>1.000000</td>\n",
       "      <td>446.949933</td>\n",
       "      <td>-1.766912</td>\n",
       "      <td>1.000000</td>\n",
       "      <td>99999.000000</td>\n",
       "      <td>...</td>\n",
       "      <td>-3.886959e+02</td>\n",
       "      <td>-0.306555</td>\n",
       "      <td>-0.439330</td>\n",
       "      <td>BILBAO</td>\n",
       "      <td>2020</td>\n",
       "      <td>NaN</td>\n",
       "      <td>9.323007e+01</td>\n",
       "      <td>NaN</td>\n",
       "      <td>NaN</td>\n",
       "      <td>0.00000</td>\n",
       "    </tr>\n",
       "    <tr>\n",
       "      <th>410</th>\n",
       "      <td>B95992509</td>\n",
       "      <td>1.000000</td>\n",
       "      <td>1.000000</td>\n",
       "      <td>0.343120</td>\n",
       "      <td>0.000000</td>\n",
       "      <td>1.000000</td>\n",
       "      <td>-99999.000000</td>\n",
       "      <td>1.000000</td>\n",
       "      <td>1.000000</td>\n",
       "      <td>1.000000</td>\n",
       "      <td>...</td>\n",
       "      <td>2.294156e+02</td>\n",
       "      <td>1.962835</td>\n",
       "      <td>-0.003969</td>\n",
       "      <td>VITORIA-GASTEIZ</td>\n",
       "      <td>2020</td>\n",
       "      <td>NaN</td>\n",
       "      <td>1.000000e+02</td>\n",
       "      <td>NaN</td>\n",
       "      <td>NaN</td>\n",
       "      <td>0.00000</td>\n",
       "    </tr>\n",
       "    <tr>\n",
       "      <th>411</th>\n",
       "      <td>B99554537</td>\n",
       "      <td>1.000000</td>\n",
       "      <td>2.501506</td>\n",
       "      <td>0.762882</td>\n",
       "      <td>1.074608</td>\n",
       "      <td>1.000000</td>\n",
       "      <td>0.441042</td>\n",
       "      <td>0.993891</td>\n",
       "      <td>1.000000</td>\n",
       "      <td>0.000000</td>\n",
       "      <td>...</td>\n",
       "      <td>3.001856e+01</td>\n",
       "      <td>0.238072</td>\n",
       "      <td>0.180712</td>\n",
       "      <td>VITORIA-GASTEIZ</td>\n",
       "      <td>2020</td>\n",
       "      <td>35.00000</td>\n",
       "      <td>1.492270e+02</td>\n",
       "      <td>NaN</td>\n",
       "      <td>NaN</td>\n",
       "      <td>0.00000</td>\n",
       "    </tr>\n",
       "  </tbody>\n",
       "</table>\n",
       "<p>412 rows × 116 columns</p>\n",
       "</div>"
      ],
      "text/plain": [
       "    Codigo_NIF  Acreedores a L. P. mil EUR_ratio  \\\n",
       "0    A48464788                          2.032035   \n",
       "1    A48500052                          1.000000   \n",
       "2    A78053147                          0.937439   \n",
       "3    A95291613                          0.869990   \n",
       "4    A95363859                          1.009045   \n",
       "..         ...                               ...   \n",
       "407  B95987319                          3.834331   \n",
       "408  B95989059                          0.887485   \n",
       "409  B95990164                         13.701784   \n",
       "410  B95992509                          1.000000   \n",
       "411  B99554537                          1.000000   \n",
       "\n",
       "     Acreedores comerciales mil EUR_ratio  Activo circulante mil EUR_ratio  \\\n",
       "0                                0.876241                         1.123027   \n",
       "1                                0.446167                         0.819437   \n",
       "2                                0.979704                         1.108211   \n",
       "3                               11.203927                         1.703667   \n",
       "4                                0.830540                         0.877250   \n",
       "..                                    ...                              ...   \n",
       "407                             17.191816                         2.600444   \n",
       "408                              1.068152                         1.219761   \n",
       "409                              1.000000                         9.130745   \n",
       "410                              1.000000                         0.343120   \n",
       "411                              2.501506                         0.762882   \n",
       "\n",
       "     Apalancamiento (%) %_ratio  Capital suscrito mil EUR_ratio  \\\n",
       "0                      2.196388                        1.000000   \n",
       "1                      1.032849                        1.000000   \n",
       "2                      1.202229                        1.000000   \n",
       "3                      1.730706                        0.744590   \n",
       "4                      0.984654                        1.000000   \n",
       "..                          ...                             ...   \n",
       "407                    1.426464                        1.276394   \n",
       "408                   -0.089398                        1.500000   \n",
       "409                   -0.570109                        1.000000   \n",
       "410                    0.000000                        1.000000   \n",
       "411                    1.074608                        1.000000   \n",
       "\n",
       "     Cash flow mil EUR_ratio  Coeficiente de solvencia (%) %_ratio  \\\n",
       "0                   1.084481                              0.867002   \n",
       "1                   0.972424                              1.188221   \n",
       "2                   0.028017                              0.881491   \n",
       "3                   0.185162                              0.501350   \n",
       "4                   1.389099                              1.024902   \n",
       "..                       ...                                   ...   \n",
       "407               -26.932326                              1.721535   \n",
       "408                 4.766860                             -8.149695   \n",
       "409               446.949933                             -1.766912   \n",
       "410            -99999.000000                              1.000000   \n",
       "411                 0.441042                              0.993891   \n",
       "\n",
       "     Coste medio de los empleados mil_ratio  \\\n",
       "0                                  1.079142   \n",
       "1                                  1.023458   \n",
       "2                                  1.299568   \n",
       "3                                  1.228400   \n",
       "4                                  0.960552   \n",
       "..                                      ...   \n",
       "407                                1.628625   \n",
       "408                                1.318442   \n",
       "409                                1.000000   \n",
       "410                                1.000000   \n",
       "411                                1.000000   \n",
       "\n",
       "     Costes de los trabajadores / Ingresos de explotacion (%) %_ratio  ...  \\\n",
       "0                                             1.046273                 ...   \n",
       "1                                             0.974969                 ...   \n",
       "2                                             1.017570                 ...   \n",
       "3                                             0.560756                 ...   \n",
       "4                                             0.682127                 ...   \n",
       "..                                                 ...                 ...   \n",
       "407                                           5.672503                 ...   \n",
       "408                                           1.016410                 ...   \n",
       "409                                       99999.000000                 ...   \n",
       "410                                           1.000000                 ...   \n",
       "411                                           0.000000                 ...   \n",
       "\n",
       "     Beneficio neto mil EUR       ROA  Margen_EBITDA        Localidad  year_y  \\\n",
       "0              1.026036e+04  0.526140       0.265463           MADRID    2020   \n",
       "1              1.727481e+03  0.963397       0.025086           MADRID    2020   \n",
       "2              1.187010e+06  1.002887       0.004810            ADUNA    2020   \n",
       "3              1.555049e+03  0.233982      -0.006657            ADUNA    2020   \n",
       "4              4.684900e+04  0.197339       0.184489         ZIERBENA    2020   \n",
       "..                      ...       ...            ...              ...     ...   \n",
       "407           -2.723745e+02 -0.172708      -1.742322           BILBAO    2020   \n",
       "408            1.771957e+02  0.298129      -0.059926           BILBAO    2020   \n",
       "409           -3.886959e+02 -0.306555      -0.439330           BILBAO    2020   \n",
       "410            2.294156e+02  1.962835      -0.003969  VITORIA-GASTEIZ    2020   \n",
       "411            3.001856e+01  0.238072       0.180712  VITORIA-GASTEIZ    2020   \n",
       "\n",
       "     Importe neto Cifra de Ventas mil EUR  Total activo mil EUR  \\\n",
       "0                             11527.91437          1.847984e+04   \n",
       "1                              2077.87221          2.200622e+03   \n",
       "2                            973746.00000          1.037263e+06   \n",
       "3                              1308.59723          4.994698e+03   \n",
       "4                             32094.00000          2.367150e+05   \n",
       "..                                    ...                   ...   \n",
       "407                               2.00000          9.909370e+02   \n",
       "408                             420.09760          4.875190e+02   \n",
       "409                                   NaN          9.323007e+01   \n",
       "410                                   NaN          1.000000e+02   \n",
       "411                              35.00000          1.492270e+02   \n",
       "\n",
       "     Deudas financieras mil EUR  Número empleados  \\\n",
       "0                     144.36885              61.0   \n",
       "1                           NaN               6.0   \n",
       "2                           NaN             968.0   \n",
       "3                     583.42373              34.0   \n",
       "4                           NaN              51.0   \n",
       "..                          ...               ...   \n",
       "407                         NaN               8.0   \n",
       "408                         NaN              13.0   \n",
       "409                         NaN               NaN   \n",
       "410                         NaN               NaN   \n",
       "411                         NaN               NaN   \n",
       "\n",
       "     Resultado financiero mil EUR  \n",
       "0                       -65.53849  \n",
       "1                         0.31790  \n",
       "2                     50485.00000  \n",
       "3                        52.13491  \n",
       "4                     -3914.00000  \n",
       "..                            ...  \n",
       "407                      -2.33900  \n",
       "408                      -0.96799  \n",
       "409                       0.00000  \n",
       "410                       0.00000  \n",
       "411                       0.00000  \n",
       "\n",
       "[412 rows x 116 columns]"
      ]
     },
     "execution_count": 28,
     "metadata": {},
     "output_type": "execute_result"
    }
   ],
   "source": [
    "años = pd.merge(df_graficos, df_original, on=['Codigo_NIF'])\n",
    "años"
   ]
  },
  {
   "cell_type": "code",
   "execution_count": 29,
   "metadata": {},
   "outputs": [],
   "source": [
    "años = años[['Importe neto Cifra de Ventas mil EUR', 'Total activo mil EUR', 'Deudas financieras mil EUR', 'Número empleados', 'Resultado financiero mil EUR',\n",
    "      'Importe neto Cifra de Ventas mil EUR_2021', 'Total activo mil EUR_2021', 'Deudas financieras mil EUR_2021', 'Numero empleados_2021', 'Resultado financiero mil EUR_2021']]"
   ]
  },
  {
   "cell_type": "code",
   "execution_count": 30,
   "metadata": {},
   "outputs": [
    {
     "data": {
      "text/html": [
       "<div>\n",
       "<style scoped>\n",
       "    .dataframe tbody tr th:only-of-type {\n",
       "        vertical-align: middle;\n",
       "    }\n",
       "\n",
       "    .dataframe tbody tr th {\n",
       "        vertical-align: top;\n",
       "    }\n",
       "\n",
       "    .dataframe thead th {\n",
       "        text-align: right;\n",
       "    }\n",
       "</style>\n",
       "<table border=\"1\" class=\"dataframe\">\n",
       "  <thead>\n",
       "    <tr style=\"text-align: right;\">\n",
       "      <th></th>\n",
       "      <th>Importe neto Cifra de Ventas mil EUR</th>\n",
       "      <th>Total activo mil EUR</th>\n",
       "      <th>Deudas financieras mil EUR</th>\n",
       "      <th>Número empleados</th>\n",
       "      <th>Resultado financiero mil EUR</th>\n",
       "      <th>Importe neto Cifra de Ventas mil EUR_2021</th>\n",
       "      <th>Total activo mil EUR_2021</th>\n",
       "      <th>Deudas financieras mil EUR_2021</th>\n",
       "      <th>Numero empleados_2021</th>\n",
       "      <th>Resultado financiero mil EUR_2021</th>\n",
       "    </tr>\n",
       "  </thead>\n",
       "  <tbody>\n",
       "    <tr>\n",
       "      <th>0</th>\n",
       "      <td>11527.914370</td>\n",
       "      <td>18479.836980</td>\n",
       "      <td>144.368850</td>\n",
       "      <td>61.000000</td>\n",
       "      <td>-65.538490</td>\n",
       "      <td>13436.648000</td>\n",
       "      <td>19501.21800</td>\n",
       "      <td>515.672000</td>\n",
       "      <td>69.00000</td>\n",
       "      <td>-45.629000</td>\n",
       "    </tr>\n",
       "    <tr>\n",
       "      <th>3</th>\n",
       "      <td>1308.597230</td>\n",
       "      <td>4994.697750</td>\n",
       "      <td>583.423730</td>\n",
       "      <td>34.000000</td>\n",
       "      <td>52.134910</td>\n",
       "      <td>2594.864200</td>\n",
       "      <td>6646.02087</td>\n",
       "      <td>1135.074360</td>\n",
       "      <td>32.00000</td>\n",
       "      <td>-51.774220</td>\n",
       "    </tr>\n",
       "    <tr>\n",
       "      <th>7</th>\n",
       "      <td>482.495240</td>\n",
       "      <td>2797.950520</td>\n",
       "      <td>501.432370</td>\n",
       "      <td>8.000000</td>\n",
       "      <td>-51.200910</td>\n",
       "      <td>1038.251810</td>\n",
       "      <td>2530.72564</td>\n",
       "      <td>347.579910</td>\n",
       "      <td>10.00000</td>\n",
       "      <td>-65.054590</td>\n",
       "    </tr>\n",
       "    <tr>\n",
       "      <th>10</th>\n",
       "      <td>592.060110</td>\n",
       "      <td>729.942080</td>\n",
       "      <td>9.073720</td>\n",
       "      <td>5.000000</td>\n",
       "      <td>-1.799780</td>\n",
       "      <td>601.222970</td>\n",
       "      <td>920.94019</td>\n",
       "      <td>31.707370</td>\n",
       "      <td>6.00000</td>\n",
       "      <td>-2.108330</td>\n",
       "    </tr>\n",
       "    <tr>\n",
       "      <th>11</th>\n",
       "      <td>325.854240</td>\n",
       "      <td>574.031730</td>\n",
       "      <td>83.829569</td>\n",
       "      <td>4.000000</td>\n",
       "      <td>-5.560370</td>\n",
       "      <td>464.525500</td>\n",
       "      <td>607.85874</td>\n",
       "      <td>45.987270</td>\n",
       "      <td>4.00000</td>\n",
       "      <td>-3.107370</td>\n",
       "    </tr>\n",
       "    <tr>\n",
       "      <th>...</th>\n",
       "      <td>...</td>\n",
       "      <td>...</td>\n",
       "      <td>...</td>\n",
       "      <td>...</td>\n",
       "      <td>...</td>\n",
       "      <td>...</td>\n",
       "      <td>...</td>\n",
       "      <td>...</td>\n",
       "      <td>...</td>\n",
       "      <td>...</td>\n",
       "    </tr>\n",
       "    <tr>\n",
       "      <th>394</th>\n",
       "      <td>3262.745060</td>\n",
       "      <td>2329.608220</td>\n",
       "      <td>5.110940</td>\n",
       "      <td>10.000000</td>\n",
       "      <td>-1.835590</td>\n",
       "      <td>4082.331120</td>\n",
       "      <td>3313.37986</td>\n",
       "      <td>4.674700</td>\n",
       "      <td>10.00000</td>\n",
       "      <td>-1.516670</td>\n",
       "    </tr>\n",
       "    <tr>\n",
       "      <th>397</th>\n",
       "      <td>1.000000</td>\n",
       "      <td>116.552400</td>\n",
       "      <td>0.621010</td>\n",
       "      <td>1.000000</td>\n",
       "      <td>0.001030</td>\n",
       "      <td>12.256200</td>\n",
       "      <td>295.48284</td>\n",
       "      <td>0.621010</td>\n",
       "      <td>5.00000</td>\n",
       "      <td>-1.024598</td>\n",
       "    </tr>\n",
       "    <tr>\n",
       "      <th>399</th>\n",
       "      <td>10.870000</td>\n",
       "      <td>37.088880</td>\n",
       "      <td>0.937500</td>\n",
       "      <td>2.000000</td>\n",
       "      <td>0.000000</td>\n",
       "      <td>83.261100</td>\n",
       "      <td>127.67489</td>\n",
       "      <td>0.937500</td>\n",
       "      <td>3.00000</td>\n",
       "      <td>-0.326720</td>\n",
       "    </tr>\n",
       "    <tr>\n",
       "      <th>401</th>\n",
       "      <td>59.538000</td>\n",
       "      <td>38.418880</td>\n",
       "      <td>0.937500</td>\n",
       "      <td>2.000000</td>\n",
       "      <td>-0.506820</td>\n",
       "      <td>34.821990</td>\n",
       "      <td>42.14467</td>\n",
       "      <td>3.750000</td>\n",
       "      <td>2.00000</td>\n",
       "      <td>-0.239720</td>\n",
       "    </tr>\n",
       "    <tr>\n",
       "      <th>mean</th>\n",
       "      <td>2007.370046</td>\n",
       "      <td>4531.333502</td>\n",
       "      <td>516.114148</td>\n",
       "      <td>14.285714</td>\n",
       "      <td>-81.245515</td>\n",
       "      <td>2799.807929</td>\n",
       "      <td>5721.94734</td>\n",
       "      <td>613.932657</td>\n",
       "      <td>16.84127</td>\n",
       "      <td>12.854017</td>\n",
       "    </tr>\n",
       "  </tbody>\n",
       "</table>\n",
       "<p>190 rows × 10 columns</p>\n",
       "</div>"
      ],
      "text/plain": [
       "      Importe neto Cifra de Ventas mil EUR  Total activo mil EUR  \\\n",
       "0                             11527.914370          18479.836980   \n",
       "3                              1308.597230           4994.697750   \n",
       "7                               482.495240           2797.950520   \n",
       "10                              592.060110            729.942080   \n",
       "11                              325.854240            574.031730   \n",
       "...                                    ...                   ...   \n",
       "394                            3262.745060           2329.608220   \n",
       "397                               1.000000            116.552400   \n",
       "399                              10.870000             37.088880   \n",
       "401                              59.538000             38.418880   \n",
       "mean                           2007.370046           4531.333502   \n",
       "\n",
       "      Deudas financieras mil EUR  Número empleados  \\\n",
       "0                     144.368850         61.000000   \n",
       "3                     583.423730         34.000000   \n",
       "7                     501.432370          8.000000   \n",
       "10                      9.073720          5.000000   \n",
       "11                     83.829569          4.000000   \n",
       "...                          ...               ...   \n",
       "394                     5.110940         10.000000   \n",
       "397                     0.621010          1.000000   \n",
       "399                     0.937500          2.000000   \n",
       "401                     0.937500          2.000000   \n",
       "mean                  516.114148         14.285714   \n",
       "\n",
       "      Resultado financiero mil EUR  Importe neto Cifra de Ventas mil EUR_2021  \\\n",
       "0                       -65.538490                               13436.648000   \n",
       "3                        52.134910                                2594.864200   \n",
       "7                       -51.200910                                1038.251810   \n",
       "10                       -1.799780                                 601.222970   \n",
       "11                       -5.560370                                 464.525500   \n",
       "...                            ...                                        ...   \n",
       "394                      -1.835590                                4082.331120   \n",
       "397                       0.001030                                  12.256200   \n",
       "399                       0.000000                                  83.261100   \n",
       "401                      -0.506820                                  34.821990   \n",
       "mean                    -81.245515                                2799.807929   \n",
       "\n",
       "      Total activo mil EUR_2021  Deudas financieras mil EUR_2021  \\\n",
       "0                   19501.21800                       515.672000   \n",
       "3                    6646.02087                      1135.074360   \n",
       "7                    2530.72564                       347.579910   \n",
       "10                    920.94019                        31.707370   \n",
       "11                    607.85874                        45.987270   \n",
       "...                         ...                              ...   \n",
       "394                  3313.37986                         4.674700   \n",
       "397                   295.48284                         0.621010   \n",
       "399                   127.67489                         0.937500   \n",
       "401                    42.14467                         3.750000   \n",
       "mean                 5721.94734                       613.932657   \n",
       "\n",
       "      Numero empleados_2021  Resultado financiero mil EUR_2021  \n",
       "0                  69.00000                         -45.629000  \n",
       "3                  32.00000                         -51.774220  \n",
       "7                  10.00000                         -65.054590  \n",
       "10                  6.00000                          -2.108330  \n",
       "11                  4.00000                          -3.107370  \n",
       "...                     ...                                ...  \n",
       "394                10.00000                          -1.516670  \n",
       "397                 5.00000                          -1.024598  \n",
       "399                 3.00000                          -0.326720  \n",
       "401                 2.00000                          -0.239720  \n",
       "mean               16.84127                          12.854017  \n",
       "\n",
       "[190 rows x 10 columns]"
      ]
     },
     "execution_count": 30,
     "metadata": {},
     "output_type": "execute_result"
    }
   ],
   "source": [
    "años=años.dropna()\n",
    "años.loc['mean'] = años.mean()\n",
    "años"
   ]
  },
  {
   "cell_type": "code",
   "execution_count": 31,
   "metadata": {},
   "outputs": [
    {
     "data": {
      "application/vnd.plotly.v1+json": {
       "config": {
        "plotlyServerURL": "https://plot.ly"
       },
       "data": [
        {
         "marker": {
          "color": [
           "#f2cc8f",
           "#3d405b"
          ]
         },
         "showlegend": false,
         "text": [
          "2007",
          "2799"
         ],
         "textangle": 0,
         "textfont": {
          "color": "white"
         },
         "type": "bar",
         "x": [
          "2020",
          "2021"
         ],
         "xaxis": "x",
         "y": [
          2007.370046,
          2799.807929
         ],
         "yaxis": "y"
        },
        {
         "marker": {
          "color": [
           "#f2cc8f",
           "#3d405b"
          ]
         },
         "showlegend": false,
         "text": [
          "4531",
          "5721"
         ],
         "textfont": {
          "color": "white"
         },
         "type": "bar",
         "x": [
          "2020",
          "2021"
         ],
         "xaxis": "x2",
         "y": [
          4531.333502,
          5721.94734
         ],
         "yaxis": "y2"
        },
        {
         "marker": {
          "color": [
           "#f2cc8f",
           "#3d405b"
          ]
         },
         "showlegend": false,
         "text": [
          "516",
          "613"
         ],
         "textfont": {
          "color": "white"
         },
         "type": "bar",
         "x": [
          "2020",
          "2021"
         ],
         "xaxis": "x3",
         "y": [
          516.114148,
          613.932657
         ],
         "yaxis": "y3"
        },
        {
         "marker": {
          "color": [
           "#f2cc8f",
           "#3d405b"
          ]
         },
         "showlegend": false,
         "text": [
          "14",
          "16"
         ],
         "textfont": {
          "color": "white"
         },
         "type": "bar",
         "x": [
          "2020",
          "2021"
         ],
         "xaxis": "x4",
         "y": [
          14.285714,
          16.84127
         ],
         "yaxis": "y4"
        },
        {
         "marker": {
          "color": [
           "#f2cc8f",
           "#3d405b"
          ]
         },
         "showlegend": false,
         "text": [
          "-81",
          "12"
         ],
         "textfont": {
          "color": "white"
         },
         "type": "bar",
         "x": [
          "2020",
          "2021"
         ],
         "xaxis": "x6",
         "y": [
          -81.245515,
          12.854017
         ],
         "yaxis": "y6"
        }
       ],
       "layout": {
        "annotations": [
         {
          "font": {
           "size": 16
          },
          "showarrow": false,
          "text": "Cifra de Ventas, en mil €",
          "x": 0.11666666666666665,
          "xanchor": "center",
          "xref": "paper",
          "y": 1,
          "yanchor": "bottom",
          "yref": "paper"
         },
         {
          "font": {
           "size": 16
          },
          "showarrow": false,
          "text": "Total activo, en mil €",
          "x": 0.49999999999999994,
          "xanchor": "center",
          "xref": "paper",
          "y": 1,
          "yanchor": "bottom",
          "yref": "paper"
         },
         {
          "font": {
           "size": 16
          },
          "showarrow": false,
          "text": "Deudas financieras, en mil €",
          "x": 0.8833333333333333,
          "xanchor": "center",
          "xref": "paper",
          "y": 1,
          "yanchor": "bottom",
          "yref": "paper"
         },
         {
          "font": {
           "size": 16
          },
          "showarrow": false,
          "text": "Nº empleados",
          "x": 0.11666666666666665,
          "xanchor": "center",
          "xref": "paper",
          "y": 0.375,
          "yanchor": "bottom",
          "yref": "paper"
         },
         {
          "font": {
           "size": 16
          },
          "showarrow": false,
          "text": "Resultado financiero, en mil €",
          "x": 0.8833333333333333,
          "xanchor": "center",
          "xref": "paper",
          "y": 0.375,
          "yanchor": "bottom",
          "yref": "paper"
         }
        ],
        "height": 600,
        "legend": {
         "bordercolor": "Black",
         "borderwidth": 1,
         "orientation": "h",
         "x": 0.25,
         "y": -0.1
        },
        "template": {
         "data": {
          "bar": [
           {
            "error_x": {
             "color": "rgb(36,36,36)"
            },
            "error_y": {
             "color": "rgb(36,36,36)"
            },
            "marker": {
             "line": {
              "color": "white",
              "width": 0.5
             },
             "pattern": {
              "fillmode": "overlay",
              "size": 10,
              "solidity": 0.2
             }
            },
            "type": "bar"
           }
          ],
          "barpolar": [
           {
            "marker": {
             "line": {
              "color": "white",
              "width": 0.5
             },
             "pattern": {
              "fillmode": "overlay",
              "size": 10,
              "solidity": 0.2
             }
            },
            "type": "barpolar"
           }
          ],
          "carpet": [
           {
            "aaxis": {
             "endlinecolor": "rgb(36,36,36)",
             "gridcolor": "white",
             "linecolor": "white",
             "minorgridcolor": "white",
             "startlinecolor": "rgb(36,36,36)"
            },
            "baxis": {
             "endlinecolor": "rgb(36,36,36)",
             "gridcolor": "white",
             "linecolor": "white",
             "minorgridcolor": "white",
             "startlinecolor": "rgb(36,36,36)"
            },
            "type": "carpet"
           }
          ],
          "choropleth": [
           {
            "colorbar": {
             "outlinewidth": 1,
             "tickcolor": "rgb(36,36,36)",
             "ticks": "outside"
            },
            "type": "choropleth"
           }
          ],
          "contour": [
           {
            "colorbar": {
             "outlinewidth": 1,
             "tickcolor": "rgb(36,36,36)",
             "ticks": "outside"
            },
            "colorscale": [
             [
              0,
              "#440154"
             ],
             [
              0.1111111111111111,
              "#482878"
             ],
             [
              0.2222222222222222,
              "#3e4989"
             ],
             [
              0.3333333333333333,
              "#31688e"
             ],
             [
              0.4444444444444444,
              "#26828e"
             ],
             [
              0.5555555555555556,
              "#1f9e89"
             ],
             [
              0.6666666666666666,
              "#35b779"
             ],
             [
              0.7777777777777778,
              "#6ece58"
             ],
             [
              0.8888888888888888,
              "#b5de2b"
             ],
             [
              1,
              "#fde725"
             ]
            ],
            "type": "contour"
           }
          ],
          "contourcarpet": [
           {
            "colorbar": {
             "outlinewidth": 1,
             "tickcolor": "rgb(36,36,36)",
             "ticks": "outside"
            },
            "type": "contourcarpet"
           }
          ],
          "heatmap": [
           {
            "colorbar": {
             "outlinewidth": 1,
             "tickcolor": "rgb(36,36,36)",
             "ticks": "outside"
            },
            "colorscale": [
             [
              0,
              "#440154"
             ],
             [
              0.1111111111111111,
              "#482878"
             ],
             [
              0.2222222222222222,
              "#3e4989"
             ],
             [
              0.3333333333333333,
              "#31688e"
             ],
             [
              0.4444444444444444,
              "#26828e"
             ],
             [
              0.5555555555555556,
              "#1f9e89"
             ],
             [
              0.6666666666666666,
              "#35b779"
             ],
             [
              0.7777777777777778,
              "#6ece58"
             ],
             [
              0.8888888888888888,
              "#b5de2b"
             ],
             [
              1,
              "#fde725"
             ]
            ],
            "type": "heatmap"
           }
          ],
          "heatmapgl": [
           {
            "colorbar": {
             "outlinewidth": 1,
             "tickcolor": "rgb(36,36,36)",
             "ticks": "outside"
            },
            "colorscale": [
             [
              0,
              "#440154"
             ],
             [
              0.1111111111111111,
              "#482878"
             ],
             [
              0.2222222222222222,
              "#3e4989"
             ],
             [
              0.3333333333333333,
              "#31688e"
             ],
             [
              0.4444444444444444,
              "#26828e"
             ],
             [
              0.5555555555555556,
              "#1f9e89"
             ],
             [
              0.6666666666666666,
              "#35b779"
             ],
             [
              0.7777777777777778,
              "#6ece58"
             ],
             [
              0.8888888888888888,
              "#b5de2b"
             ],
             [
              1,
              "#fde725"
             ]
            ],
            "type": "heatmapgl"
           }
          ],
          "histogram": [
           {
            "marker": {
             "line": {
              "color": "white",
              "width": 0.6
             }
            },
            "type": "histogram"
           }
          ],
          "histogram2d": [
           {
            "colorbar": {
             "outlinewidth": 1,
             "tickcolor": "rgb(36,36,36)",
             "ticks": "outside"
            },
            "colorscale": [
             [
              0,
              "#440154"
             ],
             [
              0.1111111111111111,
              "#482878"
             ],
             [
              0.2222222222222222,
              "#3e4989"
             ],
             [
              0.3333333333333333,
              "#31688e"
             ],
             [
              0.4444444444444444,
              "#26828e"
             ],
             [
              0.5555555555555556,
              "#1f9e89"
             ],
             [
              0.6666666666666666,
              "#35b779"
             ],
             [
              0.7777777777777778,
              "#6ece58"
             ],
             [
              0.8888888888888888,
              "#b5de2b"
             ],
             [
              1,
              "#fde725"
             ]
            ],
            "type": "histogram2d"
           }
          ],
          "histogram2dcontour": [
           {
            "colorbar": {
             "outlinewidth": 1,
             "tickcolor": "rgb(36,36,36)",
             "ticks": "outside"
            },
            "colorscale": [
             [
              0,
              "#440154"
             ],
             [
              0.1111111111111111,
              "#482878"
             ],
             [
              0.2222222222222222,
              "#3e4989"
             ],
             [
              0.3333333333333333,
              "#31688e"
             ],
             [
              0.4444444444444444,
              "#26828e"
             ],
             [
              0.5555555555555556,
              "#1f9e89"
             ],
             [
              0.6666666666666666,
              "#35b779"
             ],
             [
              0.7777777777777778,
              "#6ece58"
             ],
             [
              0.8888888888888888,
              "#b5de2b"
             ],
             [
              1,
              "#fde725"
             ]
            ],
            "type": "histogram2dcontour"
           }
          ],
          "mesh3d": [
           {
            "colorbar": {
             "outlinewidth": 1,
             "tickcolor": "rgb(36,36,36)",
             "ticks": "outside"
            },
            "type": "mesh3d"
           }
          ],
          "parcoords": [
           {
            "line": {
             "colorbar": {
              "outlinewidth": 1,
              "tickcolor": "rgb(36,36,36)",
              "ticks": "outside"
             }
            },
            "type": "parcoords"
           }
          ],
          "pie": [
           {
            "automargin": true,
            "type": "pie"
           }
          ],
          "scatter": [
           {
            "fillpattern": {
             "fillmode": "overlay",
             "size": 10,
             "solidity": 0.2
            },
            "type": "scatter"
           }
          ],
          "scatter3d": [
           {
            "line": {
             "colorbar": {
              "outlinewidth": 1,
              "tickcolor": "rgb(36,36,36)",
              "ticks": "outside"
             }
            },
            "marker": {
             "colorbar": {
              "outlinewidth": 1,
              "tickcolor": "rgb(36,36,36)",
              "ticks": "outside"
             }
            },
            "type": "scatter3d"
           }
          ],
          "scattercarpet": [
           {
            "marker": {
             "colorbar": {
              "outlinewidth": 1,
              "tickcolor": "rgb(36,36,36)",
              "ticks": "outside"
             }
            },
            "type": "scattercarpet"
           }
          ],
          "scattergeo": [
           {
            "marker": {
             "colorbar": {
              "outlinewidth": 1,
              "tickcolor": "rgb(36,36,36)",
              "ticks": "outside"
             }
            },
            "type": "scattergeo"
           }
          ],
          "scattergl": [
           {
            "marker": {
             "colorbar": {
              "outlinewidth": 1,
              "tickcolor": "rgb(36,36,36)",
              "ticks": "outside"
             }
            },
            "type": "scattergl"
           }
          ],
          "scattermapbox": [
           {
            "marker": {
             "colorbar": {
              "outlinewidth": 1,
              "tickcolor": "rgb(36,36,36)",
              "ticks": "outside"
             }
            },
            "type": "scattermapbox"
           }
          ],
          "scatterpolar": [
           {
            "marker": {
             "colorbar": {
              "outlinewidth": 1,
              "tickcolor": "rgb(36,36,36)",
              "ticks": "outside"
             }
            },
            "type": "scatterpolar"
           }
          ],
          "scatterpolargl": [
           {
            "marker": {
             "colorbar": {
              "outlinewidth": 1,
              "tickcolor": "rgb(36,36,36)",
              "ticks": "outside"
             }
            },
            "type": "scatterpolargl"
           }
          ],
          "scatterternary": [
           {
            "marker": {
             "colorbar": {
              "outlinewidth": 1,
              "tickcolor": "rgb(36,36,36)",
              "ticks": "outside"
             }
            },
            "type": "scatterternary"
           }
          ],
          "surface": [
           {
            "colorbar": {
             "outlinewidth": 1,
             "tickcolor": "rgb(36,36,36)",
             "ticks": "outside"
            },
            "colorscale": [
             [
              0,
              "#440154"
             ],
             [
              0.1111111111111111,
              "#482878"
             ],
             [
              0.2222222222222222,
              "#3e4989"
             ],
             [
              0.3333333333333333,
              "#31688e"
             ],
             [
              0.4444444444444444,
              "#26828e"
             ],
             [
              0.5555555555555556,
              "#1f9e89"
             ],
             [
              0.6666666666666666,
              "#35b779"
             ],
             [
              0.7777777777777778,
              "#6ece58"
             ],
             [
              0.8888888888888888,
              "#b5de2b"
             ],
             [
              1,
              "#fde725"
             ]
            ],
            "type": "surface"
           }
          ],
          "table": [
           {
            "cells": {
             "fill": {
              "color": "rgb(237,237,237)"
             },
             "line": {
              "color": "white"
             }
            },
            "header": {
             "fill": {
              "color": "rgb(217,217,217)"
             },
             "line": {
              "color": "white"
             }
            },
            "type": "table"
           }
          ]
         },
         "layout": {
          "annotationdefaults": {
           "arrowhead": 0,
           "arrowwidth": 1
          },
          "autotypenumbers": "strict",
          "coloraxis": {
           "colorbar": {
            "outlinewidth": 1,
            "tickcolor": "rgb(36,36,36)",
            "ticks": "outside"
           }
          },
          "colorscale": {
           "diverging": [
            [
             0,
             "rgb(103,0,31)"
            ],
            [
             0.1,
             "rgb(178,24,43)"
            ],
            [
             0.2,
             "rgb(214,96,77)"
            ],
            [
             0.3,
             "rgb(244,165,130)"
            ],
            [
             0.4,
             "rgb(253,219,199)"
            ],
            [
             0.5,
             "rgb(247,247,247)"
            ],
            [
             0.6,
             "rgb(209,229,240)"
            ],
            [
             0.7,
             "rgb(146,197,222)"
            ],
            [
             0.8,
             "rgb(67,147,195)"
            ],
            [
             0.9,
             "rgb(33,102,172)"
            ],
            [
             1,
             "rgb(5,48,97)"
            ]
           ],
           "sequential": [
            [
             0,
             "#440154"
            ],
            [
             0.1111111111111111,
             "#482878"
            ],
            [
             0.2222222222222222,
             "#3e4989"
            ],
            [
             0.3333333333333333,
             "#31688e"
            ],
            [
             0.4444444444444444,
             "#26828e"
            ],
            [
             0.5555555555555556,
             "#1f9e89"
            ],
            [
             0.6666666666666666,
             "#35b779"
            ],
            [
             0.7777777777777778,
             "#6ece58"
            ],
            [
             0.8888888888888888,
             "#b5de2b"
            ],
            [
             1,
             "#fde725"
            ]
           ],
           "sequentialminus": [
            [
             0,
             "#440154"
            ],
            [
             0.1111111111111111,
             "#482878"
            ],
            [
             0.2222222222222222,
             "#3e4989"
            ],
            [
             0.3333333333333333,
             "#31688e"
            ],
            [
             0.4444444444444444,
             "#26828e"
            ],
            [
             0.5555555555555556,
             "#1f9e89"
            ],
            [
             0.6666666666666666,
             "#35b779"
            ],
            [
             0.7777777777777778,
             "#6ece58"
            ],
            [
             0.8888888888888888,
             "#b5de2b"
            ],
            [
             1,
             "#fde725"
            ]
           ]
          },
          "colorway": [
           "#1F77B4",
           "#FF7F0E",
           "#2CA02C",
           "#D62728",
           "#9467BD",
           "#8C564B",
           "#E377C2",
           "#7F7F7F",
           "#BCBD22",
           "#17BECF"
          ],
          "font": {
           "color": "rgb(36,36,36)"
          },
          "geo": {
           "bgcolor": "white",
           "lakecolor": "white",
           "landcolor": "white",
           "showlakes": true,
           "showland": true,
           "subunitcolor": "white"
          },
          "hoverlabel": {
           "align": "left"
          },
          "hovermode": "closest",
          "mapbox": {
           "style": "light"
          },
          "paper_bgcolor": "white",
          "plot_bgcolor": "white",
          "polar": {
           "angularaxis": {
            "gridcolor": "rgb(232,232,232)",
            "linecolor": "rgb(36,36,36)",
            "showgrid": false,
            "showline": true,
            "ticks": "outside"
           },
           "bgcolor": "white",
           "radialaxis": {
            "gridcolor": "rgb(232,232,232)",
            "linecolor": "rgb(36,36,36)",
            "showgrid": false,
            "showline": true,
            "ticks": "outside"
           }
          },
          "scene": {
           "xaxis": {
            "backgroundcolor": "white",
            "gridcolor": "rgb(232,232,232)",
            "gridwidth": 2,
            "linecolor": "rgb(36,36,36)",
            "showbackground": true,
            "showgrid": false,
            "showline": true,
            "ticks": "outside",
            "zeroline": false,
            "zerolinecolor": "rgb(36,36,36)"
           },
           "yaxis": {
            "backgroundcolor": "white",
            "gridcolor": "rgb(232,232,232)",
            "gridwidth": 2,
            "linecolor": "rgb(36,36,36)",
            "showbackground": true,
            "showgrid": false,
            "showline": true,
            "ticks": "outside",
            "zeroline": false,
            "zerolinecolor": "rgb(36,36,36)"
           },
           "zaxis": {
            "backgroundcolor": "white",
            "gridcolor": "rgb(232,232,232)",
            "gridwidth": 2,
            "linecolor": "rgb(36,36,36)",
            "showbackground": true,
            "showgrid": false,
            "showline": true,
            "ticks": "outside",
            "zeroline": false,
            "zerolinecolor": "rgb(36,36,36)"
           }
          },
          "shapedefaults": {
           "fillcolor": "black",
           "line": {
            "width": 0
           },
           "opacity": 0.3
          },
          "ternary": {
           "aaxis": {
            "gridcolor": "rgb(232,232,232)",
            "linecolor": "rgb(36,36,36)",
            "showgrid": false,
            "showline": true,
            "ticks": "outside"
           },
           "baxis": {
            "gridcolor": "rgb(232,232,232)",
            "linecolor": "rgb(36,36,36)",
            "showgrid": false,
            "showline": true,
            "ticks": "outside"
           },
           "bgcolor": "white",
           "caxis": {
            "gridcolor": "rgb(232,232,232)",
            "linecolor": "rgb(36,36,36)",
            "showgrid": false,
            "showline": true,
            "ticks": "outside"
           }
          },
          "title": {
           "x": 0.05
          },
          "xaxis": {
           "automargin": true,
           "gridcolor": "rgb(232,232,232)",
           "linecolor": "rgb(36,36,36)",
           "showgrid": false,
           "showline": true,
           "ticks": "outside",
           "title": {
            "standoff": 15
           },
           "zeroline": false,
           "zerolinecolor": "rgb(36,36,36)"
          },
          "yaxis": {
           "automargin": true,
           "gridcolor": "rgb(232,232,232)",
           "linecolor": "rgb(36,36,36)",
           "showgrid": false,
           "showline": true,
           "ticks": "outside",
           "title": {
            "standoff": 15
           },
           "zeroline": false,
           "zerolinecolor": "rgb(36,36,36)"
          }
         }
        },
        "title": {
         "text": "Evolución de la media de las variables (2020-2021)",
         "x": 0.5
        },
        "width": 900,
        "xaxis": {
         "anchor": "y",
         "domain": [
          0,
          0.2333333333333333
         ]
        },
        "xaxis2": {
         "anchor": "y2",
         "domain": [
          0.3833333333333333,
          0.6166666666666666
         ]
        },
        "xaxis3": {
         "anchor": "y3",
         "domain": [
          0.7666666666666666,
          0.9999999999999999
         ]
        },
        "xaxis4": {
         "anchor": "y4",
         "domain": [
          0,
          0.2333333333333333
         ]
        },
        "xaxis5": {
         "anchor": "y5",
         "domain": [
          0.3833333333333333,
          0.6166666666666666
         ]
        },
        "xaxis6": {
         "anchor": "y6",
         "domain": [
          0.7666666666666666,
          0.9999999999999999
         ]
        },
        "yaxis": {
         "anchor": "x",
         "domain": [
          0.625,
          1
         ]
        },
        "yaxis2": {
         "anchor": "x2",
         "domain": [
          0.625,
          1
         ]
        },
        "yaxis3": {
         "anchor": "x3",
         "domain": [
          0.625,
          1
         ]
        },
        "yaxis4": {
         "anchor": "x4",
         "domain": [
          0,
          0.375
         ]
        },
        "yaxis5": {
         "anchor": "x5",
         "domain": [
          0,
          0.375
         ]
        },
        "yaxis6": {
         "anchor": "x6",
         "domain": [
          0,
          0.375
         ]
        }
       }
      }
     },
     "metadata": {},
     "output_type": "display_data"
    }
   ],
   "source": [
    "fig = make_subplots(rows=2, cols=3, subplot_titles=(\"Cifra de Ventas, en mil €\", \"Total activo, en mil €\", \"Deudas financieras, en mil €\",\n",
    "                                                    \"Nº empleados\", \"\", \"Resultado financiero, en mil €\"), horizontal_spacing=0.15)\n",
    "\n",
    "colors = ['#f2cc8f', '#3d405b']\n",
    "\n",
    "fig.add_trace(go.Bar(y=[2007.370046, 2799.807929], x=['2020', '2021'], marker_color = colors,  text=[2007, 2799], textangle=0, showlegend=False), row=1, col=1)\n",
    "fig.add_trace(go.Bar(y=[4531.333502, 5721.94734], x=['2020', '2021'], marker_color = colors, text=[4531, 5721], showlegend=False), row=1, col=2)\n",
    "fig.add_trace(go.Bar(y=[516.114148, 613.932657], x=['2020', '2021'], marker_color = colors, text=[516, 613], showlegend=False), row=1, col=3)\n",
    "\n",
    "fig.add_trace(go.Bar(y=[14.285714, 16.84127], x=['2020', '2021'], marker_color = colors, text=[14, 16], showlegend=False), row=2, col=1)\n",
    "fig.add_trace(go.Bar(y=[-81.245515, 12.854017], x=['2020', '2021'], marker_color = colors, text=[-81, 12], showlegend=False), row=2, col=3)\n",
    "\n",
    "fig.update_layout(height=600, width=900, template='simple_white', title = 'Evolución de la media de las variables (2020-2021)', title_x=0.5,\n",
    "                  legend=dict(bordercolor=\"Black\", borderwidth=1, x=0.25, y=-0.1,  orientation=\"h\"))\n",
    "\n",
    "fig.for_each_trace(lambda t: t.update(textfont_color='white'))\n",
    "#fig['layout']['yaxis1'].update(range=[0, 5000000])\n",
    "fig.show()"
   ]
  },
  {
   "cell_type": "markdown",
   "metadata": {},
   "source": [
    "###### DISTRIBUCIÓN EN LA CREACIÓN DE EMPRESAS ######"
   ]
  },
  {
   "cell_type": "code",
   "execution_count": null,
   "metadata": {},
   "outputs": [],
   "source": [
    "df_graficos['año_constitucion'] = df_graficos['Fecha constitucion'].dt.year"
   ]
  },
  {
   "cell_type": "code",
   "execution_count": null,
   "metadata": {},
   "outputs": [
    {
     "data": {
      "application/vnd.plotly.v1+json": {
       "config": {
        "plotlyServerURL": "https://plot.ly"
       },
       "data": [
        {
         "marker": {
          "color": [
           "#81b29a",
           "#81b29a",
           "#81b29a",
           "#81b29a",
           "#81b29a",
           "#81b29a",
           "#81b29a",
           "#81b29a",
           "#81b29a",
           "#81b29a",
           "#81b29a",
           "#81b29a",
           "#81b29a",
           "#81b29a",
           "#81b29a",
           "#81b29a",
           "#81b29a",
           "#81b29a",
           "#81b29a",
           "#81b29a",
           "#81b29a",
           "#81b29a",
           "#81b29a",
           "#81b29a",
           "#81b29a",
           "#81b29a",
           "#81b29a",
           "#81b29a",
           "#81b29a",
           "#81b29a",
           "#81b29a",
           "#81b29a",
           "#81b29a",
           "#81b29a",
           "#81b29a",
           "#f2cc8f",
           "#f2cc8f"
          ]
         },
         "type": "histogram",
         "x": [
          1991,
          1992,
          1985,
          2003,
          2005,
          2010,
          2013,
          2014,
          2018,
          2020,
          2012,
          2013,
          2013,
          2013,
          2013,
          2013,
          2014,
          2014,
          2014,
          2014,
          2014,
          2014,
          2015,
          2015,
          2015,
          2015,
          2015,
          2015,
          2015,
          2016,
          2016,
          2016,
          2016,
          2017,
          2017,
          2017,
          2017,
          2017,
          2018,
          2018,
          2018,
          2018,
          2018,
          2018,
          2018,
          2019,
          2019,
          2019,
          2019,
          2019,
          2019,
          2019,
          2019,
          2019,
          2019,
          2020,
          2020,
          2020,
          2020,
          2020,
          2020,
          2020,
          2020,
          2020,
          2020,
          2020,
          2020,
          2020,
          2020,
          2020,
          2020,
          2020,
          2021,
          2019,
          2018,
          1992,
          1998,
          1998,
          2000,
          2000,
          2006,
          2007,
          2007,
          2007,
          2007,
          2007,
          2008,
          2008,
          2008,
          2008,
          2016,
          2004,
          2011,
          2021,
          1991,
          1999,
          2010,
          2016,
          2017,
          2017,
          2015,
          2015,
          2017,
          2009,
          2010,
          2010,
          2011,
          2012,
          2012,
          2012,
          2012,
          2013,
          2013,
          2013,
          2013,
          2013,
          2013,
          2013,
          2013,
          2013,
          2013,
          2014,
          2014,
          2014,
          2014,
          2014,
          2014,
          2014,
          2014,
          2014,
          2014,
          2014,
          2014,
          2014,
          2014,
          2014,
          2014,
          2015,
          2015,
          2015,
          2015,
          2015,
          2015,
          2015,
          2015,
          2015,
          2015,
          2015,
          2015,
          2015,
          2015,
          2015,
          2015,
          2016,
          2016,
          2016,
          2016,
          2016,
          2016,
          2016,
          2016,
          2016,
          2016,
          2016,
          2016,
          2016,
          2017,
          2017,
          2017,
          2017,
          2017,
          2017,
          2017,
          2017,
          2017,
          2017,
          2017,
          2017,
          2017,
          2017,
          2017,
          2017,
          2017,
          2017,
          2018,
          2018,
          2018,
          2018,
          2018,
          2018,
          2018,
          2018,
          2018,
          2018,
          2018,
          2018,
          2018,
          2018,
          2018,
          2018,
          2019,
          2019,
          2019,
          2019,
          2019,
          2019,
          2019,
          2019,
          2019,
          2019,
          2019,
          2019,
          2019,
          2019,
          2019,
          2020,
          2019,
          2020,
          2020,
          2020,
          1996,
          2008,
          2009,
          2009,
          2013,
          2013,
          2014,
          2015,
          2018,
          2003,
          2002,
          2002,
          2003,
          2003,
          2004,
          2004,
          2004,
          2007,
          2007,
          2008,
          2009,
          2010,
          2010,
          2010,
          2010,
          2010,
          2010,
          2011,
          2011,
          2012,
          2012,
          2012,
          2012,
          2012,
          2013,
          2013,
          2013,
          2013,
          2013,
          2013,
          2013,
          2013,
          2013,
          2013,
          2013,
          2013,
          2013,
          2013,
          2013,
          2013,
          2013,
          2013,
          2013,
          2014,
          2014,
          2014,
          2014,
          2014,
          2014,
          2014,
          2014,
          2014,
          2014,
          2014,
          2014,
          2014,
          2014,
          2014,
          2014,
          2015,
          2015,
          2015,
          2015,
          2015,
          2015,
          2015,
          2015,
          2015,
          2015,
          2015,
          2015,
          2015,
          2015,
          2015,
          2015,
          2015,
          2015,
          2015,
          2015,
          2015,
          2015,
          2015,
          2015,
          2016,
          2016,
          2016,
          2016,
          2016,
          2016,
          2016,
          2016,
          2016,
          2016,
          2016,
          2016,
          2016,
          2016,
          2016,
          2016,
          2016,
          2016,
          2016,
          2016,
          2016,
          2017,
          2017,
          2017,
          2017,
          2017,
          2017,
          2017,
          2017,
          2017,
          2017,
          2017,
          2017,
          2017,
          2017,
          2017,
          2017,
          2017,
          2017,
          2017,
          2017,
          2017,
          2017,
          2017,
          2018,
          2018,
          2018,
          2018,
          2018,
          2018,
          2018,
          2018,
          2018,
          2018,
          2018,
          2018,
          2018,
          2018,
          2018,
          2018,
          2018,
          2018,
          2018,
          2018,
          2018,
          2018,
          2018,
          2019,
          2019,
          2019,
          2019,
          2019,
          2019,
          2019,
          2019,
          2019,
          2019,
          2019,
          2019,
          2019,
          2019,
          2019,
          2019,
          2019,
          2019,
          2019,
          2019,
          2019,
          2019,
          2019,
          2019,
          2019,
          2019,
          2020,
          2020,
          2020,
          2020,
          2020,
          2019
         ]
        }
       ],
       "layout": {
        "annotations": [
         {
          "arrowhead": 6,
          "arrowwidth": 2,
          "ax": 50,
          "ay": -50,
          "showarrow": true,
          "text": "Covid-19",
          "x": 2020,
          "y": 27
         },
         {
          "arrowhead": 6,
          "arrowwidth": 2,
          "ax": -50,
          "ay": -50,
          "showarrow": true,
          "text": "Ley 14/2013",
          "x": 2013,
          "y": 37
         },
         {
          "align": "left",
          "bordercolor": "black",
          "borderwidth": 1,
          "showarrow": false,
          "text": "<b>2013:</b> <i>Ley 14/2013</i>, de 27 de septiembre, <br> apoyo a los emprendedores <br>y su internacionalización. <br><b>2019-2020:</b> Pandemia del <i>Covid-19</i>",
          "x": 1997,
          "y": 30
         }
        ],
        "height": 600,
        "template": {
         "data": {
          "bar": [
           {
            "error_x": {
             "color": "rgb(36,36,36)"
            },
            "error_y": {
             "color": "rgb(36,36,36)"
            },
            "marker": {
             "line": {
              "color": "white",
              "width": 0.5
             },
             "pattern": {
              "fillmode": "overlay",
              "size": 10,
              "solidity": 0.2
             }
            },
            "type": "bar"
           }
          ],
          "barpolar": [
           {
            "marker": {
             "line": {
              "color": "white",
              "width": 0.5
             },
             "pattern": {
              "fillmode": "overlay",
              "size": 10,
              "solidity": 0.2
             }
            },
            "type": "barpolar"
           }
          ],
          "carpet": [
           {
            "aaxis": {
             "endlinecolor": "rgb(36,36,36)",
             "gridcolor": "white",
             "linecolor": "white",
             "minorgridcolor": "white",
             "startlinecolor": "rgb(36,36,36)"
            },
            "baxis": {
             "endlinecolor": "rgb(36,36,36)",
             "gridcolor": "white",
             "linecolor": "white",
             "minorgridcolor": "white",
             "startlinecolor": "rgb(36,36,36)"
            },
            "type": "carpet"
           }
          ],
          "choropleth": [
           {
            "colorbar": {
             "outlinewidth": 1,
             "tickcolor": "rgb(36,36,36)",
             "ticks": "outside"
            },
            "type": "choropleth"
           }
          ],
          "contour": [
           {
            "colorbar": {
             "outlinewidth": 1,
             "tickcolor": "rgb(36,36,36)",
             "ticks": "outside"
            },
            "colorscale": [
             [
              0,
              "#440154"
             ],
             [
              0.1111111111111111,
              "#482878"
             ],
             [
              0.2222222222222222,
              "#3e4989"
             ],
             [
              0.3333333333333333,
              "#31688e"
             ],
             [
              0.4444444444444444,
              "#26828e"
             ],
             [
              0.5555555555555556,
              "#1f9e89"
             ],
             [
              0.6666666666666666,
              "#35b779"
             ],
             [
              0.7777777777777778,
              "#6ece58"
             ],
             [
              0.8888888888888888,
              "#b5de2b"
             ],
             [
              1,
              "#fde725"
             ]
            ],
            "type": "contour"
           }
          ],
          "contourcarpet": [
           {
            "colorbar": {
             "outlinewidth": 1,
             "tickcolor": "rgb(36,36,36)",
             "ticks": "outside"
            },
            "type": "contourcarpet"
           }
          ],
          "heatmap": [
           {
            "colorbar": {
             "outlinewidth": 1,
             "tickcolor": "rgb(36,36,36)",
             "ticks": "outside"
            },
            "colorscale": [
             [
              0,
              "#440154"
             ],
             [
              0.1111111111111111,
              "#482878"
             ],
             [
              0.2222222222222222,
              "#3e4989"
             ],
             [
              0.3333333333333333,
              "#31688e"
             ],
             [
              0.4444444444444444,
              "#26828e"
             ],
             [
              0.5555555555555556,
              "#1f9e89"
             ],
             [
              0.6666666666666666,
              "#35b779"
             ],
             [
              0.7777777777777778,
              "#6ece58"
             ],
             [
              0.8888888888888888,
              "#b5de2b"
             ],
             [
              1,
              "#fde725"
             ]
            ],
            "type": "heatmap"
           }
          ],
          "heatmapgl": [
           {
            "colorbar": {
             "outlinewidth": 1,
             "tickcolor": "rgb(36,36,36)",
             "ticks": "outside"
            },
            "colorscale": [
             [
              0,
              "#440154"
             ],
             [
              0.1111111111111111,
              "#482878"
             ],
             [
              0.2222222222222222,
              "#3e4989"
             ],
             [
              0.3333333333333333,
              "#31688e"
             ],
             [
              0.4444444444444444,
              "#26828e"
             ],
             [
              0.5555555555555556,
              "#1f9e89"
             ],
             [
              0.6666666666666666,
              "#35b779"
             ],
             [
              0.7777777777777778,
              "#6ece58"
             ],
             [
              0.8888888888888888,
              "#b5de2b"
             ],
             [
              1,
              "#fde725"
             ]
            ],
            "type": "heatmapgl"
           }
          ],
          "histogram": [
           {
            "marker": {
             "line": {
              "color": "white",
              "width": 0.6
             }
            },
            "type": "histogram"
           }
          ],
          "histogram2d": [
           {
            "colorbar": {
             "outlinewidth": 1,
             "tickcolor": "rgb(36,36,36)",
             "ticks": "outside"
            },
            "colorscale": [
             [
              0,
              "#440154"
             ],
             [
              0.1111111111111111,
              "#482878"
             ],
             [
              0.2222222222222222,
              "#3e4989"
             ],
             [
              0.3333333333333333,
              "#31688e"
             ],
             [
              0.4444444444444444,
              "#26828e"
             ],
             [
              0.5555555555555556,
              "#1f9e89"
             ],
             [
              0.6666666666666666,
              "#35b779"
             ],
             [
              0.7777777777777778,
              "#6ece58"
             ],
             [
              0.8888888888888888,
              "#b5de2b"
             ],
             [
              1,
              "#fde725"
             ]
            ],
            "type": "histogram2d"
           }
          ],
          "histogram2dcontour": [
           {
            "colorbar": {
             "outlinewidth": 1,
             "tickcolor": "rgb(36,36,36)",
             "ticks": "outside"
            },
            "colorscale": [
             [
              0,
              "#440154"
             ],
             [
              0.1111111111111111,
              "#482878"
             ],
             [
              0.2222222222222222,
              "#3e4989"
             ],
             [
              0.3333333333333333,
              "#31688e"
             ],
             [
              0.4444444444444444,
              "#26828e"
             ],
             [
              0.5555555555555556,
              "#1f9e89"
             ],
             [
              0.6666666666666666,
              "#35b779"
             ],
             [
              0.7777777777777778,
              "#6ece58"
             ],
             [
              0.8888888888888888,
              "#b5de2b"
             ],
             [
              1,
              "#fde725"
             ]
            ],
            "type": "histogram2dcontour"
           }
          ],
          "mesh3d": [
           {
            "colorbar": {
             "outlinewidth": 1,
             "tickcolor": "rgb(36,36,36)",
             "ticks": "outside"
            },
            "type": "mesh3d"
           }
          ],
          "parcoords": [
           {
            "line": {
             "colorbar": {
              "outlinewidth": 1,
              "tickcolor": "rgb(36,36,36)",
              "ticks": "outside"
             }
            },
            "type": "parcoords"
           }
          ],
          "pie": [
           {
            "automargin": true,
            "type": "pie"
           }
          ],
          "scatter": [
           {
            "fillpattern": {
             "fillmode": "overlay",
             "size": 10,
             "solidity": 0.2
            },
            "type": "scatter"
           }
          ],
          "scatter3d": [
           {
            "line": {
             "colorbar": {
              "outlinewidth": 1,
              "tickcolor": "rgb(36,36,36)",
              "ticks": "outside"
             }
            },
            "marker": {
             "colorbar": {
              "outlinewidth": 1,
              "tickcolor": "rgb(36,36,36)",
              "ticks": "outside"
             }
            },
            "type": "scatter3d"
           }
          ],
          "scattercarpet": [
           {
            "marker": {
             "colorbar": {
              "outlinewidth": 1,
              "tickcolor": "rgb(36,36,36)",
              "ticks": "outside"
             }
            },
            "type": "scattercarpet"
           }
          ],
          "scattergeo": [
           {
            "marker": {
             "colorbar": {
              "outlinewidth": 1,
              "tickcolor": "rgb(36,36,36)",
              "ticks": "outside"
             }
            },
            "type": "scattergeo"
           }
          ],
          "scattergl": [
           {
            "marker": {
             "colorbar": {
              "outlinewidth": 1,
              "tickcolor": "rgb(36,36,36)",
              "ticks": "outside"
             }
            },
            "type": "scattergl"
           }
          ],
          "scattermapbox": [
           {
            "marker": {
             "colorbar": {
              "outlinewidth": 1,
              "tickcolor": "rgb(36,36,36)",
              "ticks": "outside"
             }
            },
            "type": "scattermapbox"
           }
          ],
          "scatterpolar": [
           {
            "marker": {
             "colorbar": {
              "outlinewidth": 1,
              "tickcolor": "rgb(36,36,36)",
              "ticks": "outside"
             }
            },
            "type": "scatterpolar"
           }
          ],
          "scatterpolargl": [
           {
            "marker": {
             "colorbar": {
              "outlinewidth": 1,
              "tickcolor": "rgb(36,36,36)",
              "ticks": "outside"
             }
            },
            "type": "scatterpolargl"
           }
          ],
          "scatterternary": [
           {
            "marker": {
             "colorbar": {
              "outlinewidth": 1,
              "tickcolor": "rgb(36,36,36)",
              "ticks": "outside"
             }
            },
            "type": "scatterternary"
           }
          ],
          "surface": [
           {
            "colorbar": {
             "outlinewidth": 1,
             "tickcolor": "rgb(36,36,36)",
             "ticks": "outside"
            },
            "colorscale": [
             [
              0,
              "#440154"
             ],
             [
              0.1111111111111111,
              "#482878"
             ],
             [
              0.2222222222222222,
              "#3e4989"
             ],
             [
              0.3333333333333333,
              "#31688e"
             ],
             [
              0.4444444444444444,
              "#26828e"
             ],
             [
              0.5555555555555556,
              "#1f9e89"
             ],
             [
              0.6666666666666666,
              "#35b779"
             ],
             [
              0.7777777777777778,
              "#6ece58"
             ],
             [
              0.8888888888888888,
              "#b5de2b"
             ],
             [
              1,
              "#fde725"
             ]
            ],
            "type": "surface"
           }
          ],
          "table": [
           {
            "cells": {
             "fill": {
              "color": "rgb(237,237,237)"
             },
             "line": {
              "color": "white"
             }
            },
            "header": {
             "fill": {
              "color": "rgb(217,217,217)"
             },
             "line": {
              "color": "white"
             }
            },
            "type": "table"
           }
          ]
         },
         "layout": {
          "annotationdefaults": {
           "arrowhead": 0,
           "arrowwidth": 1
          },
          "autotypenumbers": "strict",
          "coloraxis": {
           "colorbar": {
            "outlinewidth": 1,
            "tickcolor": "rgb(36,36,36)",
            "ticks": "outside"
           }
          },
          "colorscale": {
           "diverging": [
            [
             0,
             "rgb(103,0,31)"
            ],
            [
             0.1,
             "rgb(178,24,43)"
            ],
            [
             0.2,
             "rgb(214,96,77)"
            ],
            [
             0.3,
             "rgb(244,165,130)"
            ],
            [
             0.4,
             "rgb(253,219,199)"
            ],
            [
             0.5,
             "rgb(247,247,247)"
            ],
            [
             0.6,
             "rgb(209,229,240)"
            ],
            [
             0.7,
             "rgb(146,197,222)"
            ],
            [
             0.8,
             "rgb(67,147,195)"
            ],
            [
             0.9,
             "rgb(33,102,172)"
            ],
            [
             1,
             "rgb(5,48,97)"
            ]
           ],
           "sequential": [
            [
             0,
             "#440154"
            ],
            [
             0.1111111111111111,
             "#482878"
            ],
            [
             0.2222222222222222,
             "#3e4989"
            ],
            [
             0.3333333333333333,
             "#31688e"
            ],
            [
             0.4444444444444444,
             "#26828e"
            ],
            [
             0.5555555555555556,
             "#1f9e89"
            ],
            [
             0.6666666666666666,
             "#35b779"
            ],
            [
             0.7777777777777778,
             "#6ece58"
            ],
            [
             0.8888888888888888,
             "#b5de2b"
            ],
            [
             1,
             "#fde725"
            ]
           ],
           "sequentialminus": [
            [
             0,
             "#440154"
            ],
            [
             0.1111111111111111,
             "#482878"
            ],
            [
             0.2222222222222222,
             "#3e4989"
            ],
            [
             0.3333333333333333,
             "#31688e"
            ],
            [
             0.4444444444444444,
             "#26828e"
            ],
            [
             0.5555555555555556,
             "#1f9e89"
            ],
            [
             0.6666666666666666,
             "#35b779"
            ],
            [
             0.7777777777777778,
             "#6ece58"
            ],
            [
             0.8888888888888888,
             "#b5de2b"
            ],
            [
             1,
             "#fde725"
            ]
           ]
          },
          "colorway": [
           "#1F77B4",
           "#FF7F0E",
           "#2CA02C",
           "#D62728",
           "#9467BD",
           "#8C564B",
           "#E377C2",
           "#7F7F7F",
           "#BCBD22",
           "#17BECF"
          ],
          "font": {
           "color": "rgb(36,36,36)"
          },
          "geo": {
           "bgcolor": "white",
           "lakecolor": "white",
           "landcolor": "white",
           "showlakes": true,
           "showland": true,
           "subunitcolor": "white"
          },
          "hoverlabel": {
           "align": "left"
          },
          "hovermode": "closest",
          "mapbox": {
           "style": "light"
          },
          "paper_bgcolor": "white",
          "plot_bgcolor": "white",
          "polar": {
           "angularaxis": {
            "gridcolor": "rgb(232,232,232)",
            "linecolor": "rgb(36,36,36)",
            "showgrid": false,
            "showline": true,
            "ticks": "outside"
           },
           "bgcolor": "white",
           "radialaxis": {
            "gridcolor": "rgb(232,232,232)",
            "linecolor": "rgb(36,36,36)",
            "showgrid": false,
            "showline": true,
            "ticks": "outside"
           }
          },
          "scene": {
           "xaxis": {
            "backgroundcolor": "white",
            "gridcolor": "rgb(232,232,232)",
            "gridwidth": 2,
            "linecolor": "rgb(36,36,36)",
            "showbackground": true,
            "showgrid": false,
            "showline": true,
            "ticks": "outside",
            "zeroline": false,
            "zerolinecolor": "rgb(36,36,36)"
           },
           "yaxis": {
            "backgroundcolor": "white",
            "gridcolor": "rgb(232,232,232)",
            "gridwidth": 2,
            "linecolor": "rgb(36,36,36)",
            "showbackground": true,
            "showgrid": false,
            "showline": true,
            "ticks": "outside",
            "zeroline": false,
            "zerolinecolor": "rgb(36,36,36)"
           },
           "zaxis": {
            "backgroundcolor": "white",
            "gridcolor": "rgb(232,232,232)",
            "gridwidth": 2,
            "linecolor": "rgb(36,36,36)",
            "showbackground": true,
            "showgrid": false,
            "showline": true,
            "ticks": "outside",
            "zeroline": false,
            "zerolinecolor": "rgb(36,36,36)"
           }
          },
          "shapedefaults": {
           "fillcolor": "black",
           "line": {
            "width": 0
           },
           "opacity": 0.3
          },
          "ternary": {
           "aaxis": {
            "gridcolor": "rgb(232,232,232)",
            "linecolor": "rgb(36,36,36)",
            "showgrid": false,
            "showline": true,
            "ticks": "outside"
           },
           "baxis": {
            "gridcolor": "rgb(232,232,232)",
            "linecolor": "rgb(36,36,36)",
            "showgrid": false,
            "showline": true,
            "ticks": "outside"
           },
           "bgcolor": "white",
           "caxis": {
            "gridcolor": "rgb(232,232,232)",
            "linecolor": "rgb(36,36,36)",
            "showgrid": false,
            "showline": true,
            "ticks": "outside"
           }
          },
          "title": {
           "x": 0.05
          },
          "xaxis": {
           "automargin": true,
           "gridcolor": "rgb(232,232,232)",
           "linecolor": "rgb(36,36,36)",
           "showgrid": false,
           "showline": true,
           "ticks": "outside",
           "title": {
            "standoff": 15
           },
           "zeroline": false,
           "zerolinecolor": "rgb(36,36,36)"
          },
          "yaxis": {
           "automargin": true,
           "gridcolor": "rgb(232,232,232)",
           "linecolor": "rgb(36,36,36)",
           "showgrid": false,
           "showline": true,
           "ticks": "outside",
           "title": {
            "standoff": 15
           },
           "zeroline": false,
           "zerolinecolor": "rgb(36,36,36)"
          }
         }
        },
        "title": {
         "text": "Evolución del nº de empresas creadas por año",
         "x": 0.5
        },
        "width": 800
       }
      }
     },
     "metadata": {},
     "output_type": "display_data"
    }
   ],
   "source": [
    "fig = go.Figure()\n",
    "fig.add_trace(go.Histogram(\n",
    "    x=df_graficos['año_constitucion']\n",
    "))\n",
    "colors = ['#81b29a', '#3d405b', '#f2cc8f']\n",
    "fig.data[0].marker.color = ['#f2cc8f' if ((i == 35) or (i == 36)) else '#81b29a' for i in range(37)]\n",
    "\n",
    "fig.update_layout(height=600, width=800, template='simple_white', title = 'Evolución del nº de empresas creadas por año', title_x= 0.5)\n",
    "\n",
    "fig.add_annotation(x=2020, y=27, text=\"Covid-19\",ax=50, ay=-50, showarrow=True, arrowhead=6, arrowwidth=2)\n",
    "fig.add_annotation(x=2013, y=37, text=\"Ley 14/2013\",ax=-50, ay=-50, showarrow=True, arrowhead=6, arrowwidth=2)\n",
    "fig.add_annotation(text='<b>2013:</b> <i>Ley 14/2013</i>, de 27 de septiembre, <br> apoyo a los emprendedores <br>y su internacionalización. <br><b>2019-2020:</b> Pandemia del <i>Covid-19</i>', align='left', showarrow=False, \n",
    "x=1997, y=30, bordercolor='black', borderwidth=1)"
   ]
  },
  {
   "attachments": {},
   "cell_type": "markdown",
   "metadata": {},
   "source": [
    "###### GRÁFICO DE RADAR CON LA EMPRESA Y LA MEDIA DEL RESTO ######"
   ]
  },
  {
   "cell_type": "code",
   "execution_count": 33,
   "metadata": {},
   "outputs": [],
   "source": [
    "media = df_graficos[df_graficos['growth_stage'] == 2]\n",
    "media = media[['Cash flow mil EUR_2021', 'EBITDA mil EUR_2021',  'Resultado financiero mil EUR_2021','Total pasivo y capital propio mil EUR_2021', 'Capital social mil EUR', 'Total activo mil EUR_2021']]\n",
    "media.loc['mean'] = media.mean()"
   ]
  },
  {
   "cell_type": "code",
   "execution_count": 34,
   "metadata": {},
   "outputs": [],
   "source": [
    "media = media[['Cash flow mil EUR_2021', 'EBITDA mil EUR_2021',  'Resultado financiero mil EUR_2021','Total pasivo y capital propio mil EUR_2021', 'Capital social mil EUR', 'Total activo mil EUR_2021']]\n",
    "media = (media - media.min()) / (media.max() - media.min())"
   ]
  },
  {
   "cell_type": "code",
   "execution_count": null,
   "metadata": {},
   "outputs": [
    {
     "data": {
      "text/html": [
       "<div>\n",
       "<style scoped>\n",
       "    .dataframe tbody tr th:only-of-type {\n",
       "        vertical-align: middle;\n",
       "    }\n",
       "\n",
       "    .dataframe tbody tr th {\n",
       "        vertical-align: top;\n",
       "    }\n",
       "\n",
       "    .dataframe thead th {\n",
       "        text-align: right;\n",
       "    }\n",
       "</style>\n",
       "<table border=\"1\" class=\"dataframe\">\n",
       "  <thead>\n",
       "    <tr style=\"text-align: right;\">\n",
       "      <th></th>\n",
       "      <th>0</th>\n",
       "      <th>1</th>\n",
       "      <th>2</th>\n",
       "      <th>3</th>\n",
       "      <th>4</th>\n",
       "      <th>5</th>\n",
       "    </tr>\n",
       "  </thead>\n",
       "  <tbody>\n",
       "    <tr>\n",
       "      <th>0</th>\n",
       "      <td>Cash flow mil EUR_2021</td>\n",
       "      <td>EBITDA mil EUR_2021</td>\n",
       "      <td>Resultado financiero mil EUR_2021</td>\n",
       "      <td>Total pasivo y capital propio mil EUR_2021</td>\n",
       "      <td>Capital social mil EUR</td>\n",
       "      <td>Total activo mil EUR_2021</td>\n",
       "    </tr>\n",
       "    <tr>\n",
       "      <th>1</th>\n",
       "      <td>0.584333</td>\n",
       "      <td>0.373752</td>\n",
       "      <td>0.707468</td>\n",
       "      <td>0.011359</td>\n",
       "      <td>0.000007</td>\n",
       "      <td>0.011359</td>\n",
       "    </tr>\n",
       "    <tr>\n",
       "      <th>2</th>\n",
       "      <td>0.578013</td>\n",
       "      <td>0.379906</td>\n",
       "      <td>0.682311</td>\n",
       "      <td>0.107355</td>\n",
       "      <td>0.081186</td>\n",
       "      <td>0.107355</td>\n",
       "    </tr>\n",
       "  </tbody>\n",
       "</table>\n",
       "</div>"
      ],
      "text/plain": [
       "                        0                    1  \\\n",
       "0  Cash flow mil EUR_2021  EBITDA mil EUR_2021   \n",
       "1                0.584333             0.373752   \n",
       "2                0.578013             0.379906   \n",
       "\n",
       "                                   2  \\\n",
       "0  Resultado financiero mil EUR_2021   \n",
       "1                           0.707468   \n",
       "2                           0.682311   \n",
       "\n",
       "                                            3                       4  \\\n",
       "0  Total pasivo y capital propio mil EUR_2021  Capital social mil EUR   \n",
       "1                                    0.011359                0.000007   \n",
       "2                                    0.107355                0.081186   \n",
       "\n",
       "                           5  \n",
       "0  Total activo mil EUR_2021  \n",
       "1                   0.011359  \n",
       "2                   0.107355  "
      ]
     },
     "execution_count": 79,
     "metadata": {},
     "output_type": "execute_result"
    }
   ],
   "source": [
    "Variables = ['Cash flow mil EUR_2021', 'EBITDA mil EUR_2021', 'Resultado financiero mil EUR_2021', 'Total pasivo y capital propio mil EUR_2021', 'Capital social mil EUR',\n",
    "             'Total activo mil EUR_2021']\n",
    "Empresa_elegida = [0.584333, 0.373752, 0.707468, 0.011359, 0.000007, 0.011359]\n",
    "Media_empresa = [0.578013, 0.379906, 0.682311, 0.107355, 0.081186, 0.107355]\n",
    "\n",
    "df_empresas = pd.DataFrame([('Cash flow mil EUR_2021', 'EBITDA mil EUR_2021', 'Resultado financiero mil EUR_2021', 'Total pasivo y capital propio mil EUR_2021', 'Capital social mil EUR',\n",
    "             'Total activo mil EUR_2021'), (0.584333, 0.373752, 0.707468, 0.011359, 0.000007, 0.011359), (0.578013, 0.379906, 0.682311, 0.107355, 0.081186, 0.107355)])\n",
    "df_empresas"
   ]
  },
  {
   "cell_type": "code",
   "execution_count": null,
   "metadata": {},
   "outputs": [],
   "source": [
    "variables = ['Cash flow mil EUR_2021', 'EBITDA mil EUR_2021',  'Resultado financiero mil EUR_2021','Total pasivo y capital propio mil EUR_2021', 'Capital social mil EUR', 'Total activo mil EUR_2021']"
   ]
  },
  {
   "cell_type": "code",
   "execution_count": null,
   "metadata": {},
   "outputs": [
    {
     "data": {
      "text/plain": [
       "Cash flow mil EUR_2021                 428.281194\n",
       "EBITDA mil EUR_2021                    682.488445\n",
       "Resultado financiero mil EUR_2021     -250.324360\n",
       "Rentabilidad economica (%) %_2021       -4.555966\n",
       "Capital social mil EUR                2817.979627\n",
       "Total activo mil EUR_2021            25490.862262\n",
       "Name: mean, dtype: float64"
      ]
     },
     "execution_count": 156,
     "metadata": {},
     "output_type": "execute_result"
    }
   ],
   "source": [
    "media = df_graficos[df_graficos['growth_stage'] == 2]\n",
    "media = media[['Cash flow mil EUR_2021', 'EBITDA mil EUR_2021',  'Resultado financiero mil EUR_2021','Rentabilidad economica (%) %_2021', 'Capital social mil EUR', 'Total activo mil EUR_2021']]\n",
    "media.loc['mean'] = media.mean()\n",
    "media.loc['mean']"
   ]
  },
  {
   "cell_type": "code",
   "execution_count": 36,
   "metadata": {},
   "outputs": [
    {
     "data": {
      "application/vnd.plotly.v1+json": {
       "config": {
        "plotlyServerURL": "https://plot.ly"
       },
       "data": [
        {
         "cells": {
          "fill": {
           "color": [
            [
             "rgba(129, 178, 154, 0.3)",
             "rgba(242, 204, 143, 0.3)"
            ]
           ]
          },
          "values": [
           [
            "RESTO EMPRESAS",
            "WISE GLOBAL SECURITY"
           ],
           [
            428.28,
            497.47
           ],
           [
            682.48,
            590.24
           ],
           [
            -250.32,
            -26.12
           ],
           [
            -4.55,
            14.9
           ],
           [
            2817.97,
            3.25
           ],
           [
            25490.86,
            2701.66
           ]
          ]
         },
         "header": {
          "values": [
           "Empresa",
           "Cash flow mil EUR",
           "EBITDA mil EUR",
           "Resultado financiero mil EUR",
           "Rentabilidad economica (%)",
           "Capital social mil EUR",
           "Total activo mil EUR"
          ]
         },
         "type": "table"
        },
        {
         "fill": "toself",
         "marker": {
          "color": "#81b29a"
         },
         "name": "Resto de empresas",
         "r": [
          0.45,
          0.3,
          0.4,
          0.15,
          1,
          0.05
         ],
         "theta": [
          "Capital social",
          "Rentabilidad economica (%)",
          "Cash Flow",
          "EBITDA",
          "Total activo",
          "Resultado financiero"
         ],
         "type": "scatterpolar"
        },
        {
         "fill": "toself",
         "marker": {
          "color": "#f2cc8f"
         },
         "name": "Wise Security Global",
         "r": [
          0.15,
          0.35,
          0.42,
          0.19,
          0.45,
          0.15
         ],
         "theta": [
          "Capital social",
          "Rentabilidad economica (%)",
          "Cash Flow",
          "EBITDA",
          "Total activo",
          "Resultado financiero"
         ],
         "type": "scatterpolar"
        }
       ],
       "layout": {
        "grid": {
         "columns": 2,
         "rows": 1
        },
        "height": 1200,
        "polar": {
         "radialaxis": {
          "range": [
           0,
           1.1
          ],
          "visible": true
         }
        },
        "showlegend": false,
        "template": {
         "data": {
          "bar": [
           {
            "error_x": {
             "color": "rgb(36,36,36)"
            },
            "error_y": {
             "color": "rgb(36,36,36)"
            },
            "marker": {
             "line": {
              "color": "white",
              "width": 0.5
             },
             "pattern": {
              "fillmode": "overlay",
              "size": 10,
              "solidity": 0.2
             }
            },
            "type": "bar"
           }
          ],
          "barpolar": [
           {
            "marker": {
             "line": {
              "color": "white",
              "width": 0.5
             },
             "pattern": {
              "fillmode": "overlay",
              "size": 10,
              "solidity": 0.2
             }
            },
            "type": "barpolar"
           }
          ],
          "carpet": [
           {
            "aaxis": {
             "endlinecolor": "rgb(36,36,36)",
             "gridcolor": "white",
             "linecolor": "white",
             "minorgridcolor": "white",
             "startlinecolor": "rgb(36,36,36)"
            },
            "baxis": {
             "endlinecolor": "rgb(36,36,36)",
             "gridcolor": "white",
             "linecolor": "white",
             "minorgridcolor": "white",
             "startlinecolor": "rgb(36,36,36)"
            },
            "type": "carpet"
           }
          ],
          "choropleth": [
           {
            "colorbar": {
             "outlinewidth": 1,
             "tickcolor": "rgb(36,36,36)",
             "ticks": "outside"
            },
            "type": "choropleth"
           }
          ],
          "contour": [
           {
            "colorbar": {
             "outlinewidth": 1,
             "tickcolor": "rgb(36,36,36)",
             "ticks": "outside"
            },
            "colorscale": [
             [
              0,
              "#440154"
             ],
             [
              0.1111111111111111,
              "#482878"
             ],
             [
              0.2222222222222222,
              "#3e4989"
             ],
             [
              0.3333333333333333,
              "#31688e"
             ],
             [
              0.4444444444444444,
              "#26828e"
             ],
             [
              0.5555555555555556,
              "#1f9e89"
             ],
             [
              0.6666666666666666,
              "#35b779"
             ],
             [
              0.7777777777777778,
              "#6ece58"
             ],
             [
              0.8888888888888888,
              "#b5de2b"
             ],
             [
              1,
              "#fde725"
             ]
            ],
            "type": "contour"
           }
          ],
          "contourcarpet": [
           {
            "colorbar": {
             "outlinewidth": 1,
             "tickcolor": "rgb(36,36,36)",
             "ticks": "outside"
            },
            "type": "contourcarpet"
           }
          ],
          "heatmap": [
           {
            "colorbar": {
             "outlinewidth": 1,
             "tickcolor": "rgb(36,36,36)",
             "ticks": "outside"
            },
            "colorscale": [
             [
              0,
              "#440154"
             ],
             [
              0.1111111111111111,
              "#482878"
             ],
             [
              0.2222222222222222,
              "#3e4989"
             ],
             [
              0.3333333333333333,
              "#31688e"
             ],
             [
              0.4444444444444444,
              "#26828e"
             ],
             [
              0.5555555555555556,
              "#1f9e89"
             ],
             [
              0.6666666666666666,
              "#35b779"
             ],
             [
              0.7777777777777778,
              "#6ece58"
             ],
             [
              0.8888888888888888,
              "#b5de2b"
             ],
             [
              1,
              "#fde725"
             ]
            ],
            "type": "heatmap"
           }
          ],
          "heatmapgl": [
           {
            "colorbar": {
             "outlinewidth": 1,
             "tickcolor": "rgb(36,36,36)",
             "ticks": "outside"
            },
            "colorscale": [
             [
              0,
              "#440154"
             ],
             [
              0.1111111111111111,
              "#482878"
             ],
             [
              0.2222222222222222,
              "#3e4989"
             ],
             [
              0.3333333333333333,
              "#31688e"
             ],
             [
              0.4444444444444444,
              "#26828e"
             ],
             [
              0.5555555555555556,
              "#1f9e89"
             ],
             [
              0.6666666666666666,
              "#35b779"
             ],
             [
              0.7777777777777778,
              "#6ece58"
             ],
             [
              0.8888888888888888,
              "#b5de2b"
             ],
             [
              1,
              "#fde725"
             ]
            ],
            "type": "heatmapgl"
           }
          ],
          "histogram": [
           {
            "marker": {
             "line": {
              "color": "white",
              "width": 0.6
             }
            },
            "type": "histogram"
           }
          ],
          "histogram2d": [
           {
            "colorbar": {
             "outlinewidth": 1,
             "tickcolor": "rgb(36,36,36)",
             "ticks": "outside"
            },
            "colorscale": [
             [
              0,
              "#440154"
             ],
             [
              0.1111111111111111,
              "#482878"
             ],
             [
              0.2222222222222222,
              "#3e4989"
             ],
             [
              0.3333333333333333,
              "#31688e"
             ],
             [
              0.4444444444444444,
              "#26828e"
             ],
             [
              0.5555555555555556,
              "#1f9e89"
             ],
             [
              0.6666666666666666,
              "#35b779"
             ],
             [
              0.7777777777777778,
              "#6ece58"
             ],
             [
              0.8888888888888888,
              "#b5de2b"
             ],
             [
              1,
              "#fde725"
             ]
            ],
            "type": "histogram2d"
           }
          ],
          "histogram2dcontour": [
           {
            "colorbar": {
             "outlinewidth": 1,
             "tickcolor": "rgb(36,36,36)",
             "ticks": "outside"
            },
            "colorscale": [
             [
              0,
              "#440154"
             ],
             [
              0.1111111111111111,
              "#482878"
             ],
             [
              0.2222222222222222,
              "#3e4989"
             ],
             [
              0.3333333333333333,
              "#31688e"
             ],
             [
              0.4444444444444444,
              "#26828e"
             ],
             [
              0.5555555555555556,
              "#1f9e89"
             ],
             [
              0.6666666666666666,
              "#35b779"
             ],
             [
              0.7777777777777778,
              "#6ece58"
             ],
             [
              0.8888888888888888,
              "#b5de2b"
             ],
             [
              1,
              "#fde725"
             ]
            ],
            "type": "histogram2dcontour"
           }
          ],
          "mesh3d": [
           {
            "colorbar": {
             "outlinewidth": 1,
             "tickcolor": "rgb(36,36,36)",
             "ticks": "outside"
            },
            "type": "mesh3d"
           }
          ],
          "parcoords": [
           {
            "line": {
             "colorbar": {
              "outlinewidth": 1,
              "tickcolor": "rgb(36,36,36)",
              "ticks": "outside"
             }
            },
            "type": "parcoords"
           }
          ],
          "pie": [
           {
            "automargin": true,
            "type": "pie"
           }
          ],
          "scatter": [
           {
            "fillpattern": {
             "fillmode": "overlay",
             "size": 10,
             "solidity": 0.2
            },
            "type": "scatter"
           }
          ],
          "scatter3d": [
           {
            "line": {
             "colorbar": {
              "outlinewidth": 1,
              "tickcolor": "rgb(36,36,36)",
              "ticks": "outside"
             }
            },
            "marker": {
             "colorbar": {
              "outlinewidth": 1,
              "tickcolor": "rgb(36,36,36)",
              "ticks": "outside"
             }
            },
            "type": "scatter3d"
           }
          ],
          "scattercarpet": [
           {
            "marker": {
             "colorbar": {
              "outlinewidth": 1,
              "tickcolor": "rgb(36,36,36)",
              "ticks": "outside"
             }
            },
            "type": "scattercarpet"
           }
          ],
          "scattergeo": [
           {
            "marker": {
             "colorbar": {
              "outlinewidth": 1,
              "tickcolor": "rgb(36,36,36)",
              "ticks": "outside"
             }
            },
            "type": "scattergeo"
           }
          ],
          "scattergl": [
           {
            "marker": {
             "colorbar": {
              "outlinewidth": 1,
              "tickcolor": "rgb(36,36,36)",
              "ticks": "outside"
             }
            },
            "type": "scattergl"
           }
          ],
          "scattermapbox": [
           {
            "marker": {
             "colorbar": {
              "outlinewidth": 1,
              "tickcolor": "rgb(36,36,36)",
              "ticks": "outside"
             }
            },
            "type": "scattermapbox"
           }
          ],
          "scatterpolar": [
           {
            "marker": {
             "colorbar": {
              "outlinewidth": 1,
              "tickcolor": "rgb(36,36,36)",
              "ticks": "outside"
             }
            },
            "type": "scatterpolar"
           }
          ],
          "scatterpolargl": [
           {
            "marker": {
             "colorbar": {
              "outlinewidth": 1,
              "tickcolor": "rgb(36,36,36)",
              "ticks": "outside"
             }
            },
            "type": "scatterpolargl"
           }
          ],
          "scatterternary": [
           {
            "marker": {
             "colorbar": {
              "outlinewidth": 1,
              "tickcolor": "rgb(36,36,36)",
              "ticks": "outside"
             }
            },
            "type": "scatterternary"
           }
          ],
          "surface": [
           {
            "colorbar": {
             "outlinewidth": 1,
             "tickcolor": "rgb(36,36,36)",
             "ticks": "outside"
            },
            "colorscale": [
             [
              0,
              "#440154"
             ],
             [
              0.1111111111111111,
              "#482878"
             ],
             [
              0.2222222222222222,
              "#3e4989"
             ],
             [
              0.3333333333333333,
              "#31688e"
             ],
             [
              0.4444444444444444,
              "#26828e"
             ],
             [
              0.5555555555555556,
              "#1f9e89"
             ],
             [
              0.6666666666666666,
              "#35b779"
             ],
             [
              0.7777777777777778,
              "#6ece58"
             ],
             [
              0.8888888888888888,
              "#b5de2b"
             ],
             [
              1,
              "#fde725"
             ]
            ],
            "type": "surface"
           }
          ],
          "table": [
           {
            "cells": {
             "fill": {
              "color": "rgb(237,237,237)"
             },
             "line": {
              "color": "white"
             }
            },
            "header": {
             "fill": {
              "color": "rgb(217,217,217)"
             },
             "line": {
              "color": "white"
             }
            },
            "type": "table"
           }
          ]
         },
         "layout": {
          "annotationdefaults": {
           "arrowhead": 0,
           "arrowwidth": 1
          },
          "autotypenumbers": "strict",
          "coloraxis": {
           "colorbar": {
            "outlinewidth": 1,
            "tickcolor": "rgb(36,36,36)",
            "ticks": "outside"
           }
          },
          "colorscale": {
           "diverging": [
            [
             0,
             "rgb(103,0,31)"
            ],
            [
             0.1,
             "rgb(178,24,43)"
            ],
            [
             0.2,
             "rgb(214,96,77)"
            ],
            [
             0.3,
             "rgb(244,165,130)"
            ],
            [
             0.4,
             "rgb(253,219,199)"
            ],
            [
             0.5,
             "rgb(247,247,247)"
            ],
            [
             0.6,
             "rgb(209,229,240)"
            ],
            [
             0.7,
             "rgb(146,197,222)"
            ],
            [
             0.8,
             "rgb(67,147,195)"
            ],
            [
             0.9,
             "rgb(33,102,172)"
            ],
            [
             1,
             "rgb(5,48,97)"
            ]
           ],
           "sequential": [
            [
             0,
             "#440154"
            ],
            [
             0.1111111111111111,
             "#482878"
            ],
            [
             0.2222222222222222,
             "#3e4989"
            ],
            [
             0.3333333333333333,
             "#31688e"
            ],
            [
             0.4444444444444444,
             "#26828e"
            ],
            [
             0.5555555555555556,
             "#1f9e89"
            ],
            [
             0.6666666666666666,
             "#35b779"
            ],
            [
             0.7777777777777778,
             "#6ece58"
            ],
            [
             0.8888888888888888,
             "#b5de2b"
            ],
            [
             1,
             "#fde725"
            ]
           ],
           "sequentialminus": [
            [
             0,
             "#440154"
            ],
            [
             0.1111111111111111,
             "#482878"
            ],
            [
             0.2222222222222222,
             "#3e4989"
            ],
            [
             0.3333333333333333,
             "#31688e"
            ],
            [
             0.4444444444444444,
             "#26828e"
            ],
            [
             0.5555555555555556,
             "#1f9e89"
            ],
            [
             0.6666666666666666,
             "#35b779"
            ],
            [
             0.7777777777777778,
             "#6ece58"
            ],
            [
             0.8888888888888888,
             "#b5de2b"
            ],
            [
             1,
             "#fde725"
            ]
           ]
          },
          "colorway": [
           "#1F77B4",
           "#FF7F0E",
           "#2CA02C",
           "#D62728",
           "#9467BD",
           "#8C564B",
           "#E377C2",
           "#7F7F7F",
           "#BCBD22",
           "#17BECF"
          ],
          "font": {
           "color": "rgb(36,36,36)"
          },
          "geo": {
           "bgcolor": "white",
           "lakecolor": "white",
           "landcolor": "white",
           "showlakes": true,
           "showland": true,
           "subunitcolor": "white"
          },
          "hoverlabel": {
           "align": "left"
          },
          "hovermode": "closest",
          "mapbox": {
           "style": "light"
          },
          "paper_bgcolor": "white",
          "plot_bgcolor": "white",
          "polar": {
           "angularaxis": {
            "gridcolor": "rgb(232,232,232)",
            "linecolor": "rgb(36,36,36)",
            "showgrid": false,
            "showline": true,
            "ticks": "outside"
           },
           "bgcolor": "white",
           "radialaxis": {
            "gridcolor": "rgb(232,232,232)",
            "linecolor": "rgb(36,36,36)",
            "showgrid": false,
            "showline": true,
            "ticks": "outside"
           }
          },
          "scene": {
           "xaxis": {
            "backgroundcolor": "white",
            "gridcolor": "rgb(232,232,232)",
            "gridwidth": 2,
            "linecolor": "rgb(36,36,36)",
            "showbackground": true,
            "showgrid": false,
            "showline": true,
            "ticks": "outside",
            "zeroline": false,
            "zerolinecolor": "rgb(36,36,36)"
           },
           "yaxis": {
            "backgroundcolor": "white",
            "gridcolor": "rgb(232,232,232)",
            "gridwidth": 2,
            "linecolor": "rgb(36,36,36)",
            "showbackground": true,
            "showgrid": false,
            "showline": true,
            "ticks": "outside",
            "zeroline": false,
            "zerolinecolor": "rgb(36,36,36)"
           },
           "zaxis": {
            "backgroundcolor": "white",
            "gridcolor": "rgb(232,232,232)",
            "gridwidth": 2,
            "linecolor": "rgb(36,36,36)",
            "showbackground": true,
            "showgrid": false,
            "showline": true,
            "ticks": "outside",
            "zeroline": false,
            "zerolinecolor": "rgb(36,36,36)"
           }
          },
          "shapedefaults": {
           "fillcolor": "black",
           "line": {
            "width": 0
           },
           "opacity": 0.3
          },
          "ternary": {
           "aaxis": {
            "gridcolor": "rgb(232,232,232)",
            "linecolor": "rgb(36,36,36)",
            "showgrid": false,
            "showline": true,
            "ticks": "outside"
           },
           "baxis": {
            "gridcolor": "rgb(232,232,232)",
            "linecolor": "rgb(36,36,36)",
            "showgrid": false,
            "showline": true,
            "ticks": "outside"
           },
           "bgcolor": "white",
           "caxis": {
            "gridcolor": "rgb(232,232,232)",
            "linecolor": "rgb(36,36,36)",
            "showgrid": false,
            "showline": true,
            "ticks": "outside"
           }
          },
          "title": {
           "x": 0.05
          },
          "xaxis": {
           "automargin": true,
           "gridcolor": "rgb(232,232,232)",
           "linecolor": "rgb(36,36,36)",
           "showgrid": false,
           "showline": true,
           "ticks": "outside",
           "title": {
            "standoff": 15
           },
           "zeroline": false,
           "zerolinecolor": "rgb(36,36,36)"
          },
          "yaxis": {
           "automargin": true,
           "gridcolor": "rgb(232,232,232)",
           "linecolor": "rgb(36,36,36)",
           "showgrid": false,
           "showline": true,
           "ticks": "outside",
           "title": {
            "standoff": 15
           },
           "zeroline": false,
           "zerolinecolor": "rgb(36,36,36)"
          }
         }
        },
        "title": {
         "text": "Wise Security Global vs Resto de empresas",
         "x": 0.1
        },
        "width": 1400
       }
      }
     },
     "metadata": {},
     "output_type": "display_data"
    }
   ],
   "source": [
    "import plotly.graph_objs as go\n",
    "\n",
    "categories = ['Capital social','Rentabilidad economica (%)', 'Cash Flow', 'EBITDA', 'Total activo', 'Resultado financiero']\n",
    "\n",
    "# Create the table trace\n",
    "\n",
    "scatterpolar_trace = go.Scatterpolar(\n",
    "      r=[0.45,0.3, 0.4, 0.15, 1, 0.05],\n",
    "      theta=categories,\n",
    "      fill='toself',\n",
    "      name='Resto de empresas',\n",
    "      marker_color='#81b29a'\n",
    ")\n",
    "\n",
    "\n",
    "scatterpolar_trace2 = go.Scatterpolar(\n",
    "      r=[0.15,0.35, 0.42, 0.19, 0.45, 0.15],\n",
    "      theta=categories,\n",
    "      fill='toself',\n",
    "      name='Wise Security Global',\n",
    "      marker_color= '#f2cc8f'\n",
    ")\n",
    "\n",
    "table_trace = go.Table(\n",
    "    header=dict(values=['Empresa', 'Cash flow mil EUR', 'EBITDA mil EUR', 'Resultado financiero mil EUR', 'Rentabilidad economica (%)',\n",
    "                        'Capital social mil EUR', 'Total activo mil EUR']),\n",
    "    cells=dict(values=[['RESTO EMPRESAS', 'WISE GLOBAL SECURITY'], [428.28, 497.47], [682.48, 590.24], [-250.32, -26.12],\n",
    "                       [-4.55, 14.90], [2817.97, 3.25], [25490.86, 2701.66]], fill_color = [['rgba(129, 178, 154, 0.3)', 'rgba(242, 204, 143, 0.3)']])\n",
    ")\n",
    "\n",
    "# Create the figure\n",
    "fig = go.Figure(data=[table_trace, scatterpolar_trace, scatterpolar_trace2])\n",
    "\n",
    "# Update the layout\n",
    "fig.update_layout(\n",
    "    title='Wise Security Global vs Resto de empresas', showlegend = False,template='simple_white', title_x = 0.1,\n",
    "    grid=dict(rows=1, columns=2),\n",
    "    width=1400,\n",
    "    height=1200,   \n",
    "    polar=dict(\n",
    "    radialaxis=dict(\n",
    "      visible=True,\n",
    "      range=[0, 1.1]\n",
    "    ))\n",
    ")\n",
    "\n",
    "# Show the figure\n",
    "fig.show()"
   ]
  },
  {
   "attachments": {},
   "cell_type": "markdown",
   "metadata": {},
   "source": [
    "###### EVOLUCIÓN AÑOS ######"
   ]
  },
  {
   "cell_type": "code",
   "execution_count": 37,
   "metadata": {},
   "outputs": [],
   "source": [
    "df_original = pd.read_excel('C:/Users/Libe/Desktop/RETO 7 (MORADO)/spri_reto_07_morado/Datos/Originales/df_sabi_modif_2_new.xlsx')"
   ]
  },
  {
   "cell_type": "code",
   "execution_count": 38,
   "metadata": {},
   "outputs": [],
   "source": [
    "empresa = df_original[df_original['Codigo_NIF'] == 'B95732087']\n",
    "empresa2020 = empresa[empresa['year'] == 2020]"
   ]
  },
  {
   "cell_type": "code",
   "execution_count": 39,
   "metadata": {},
   "outputs": [],
   "source": [
    "empresa2020 = empresa2020[['Importe neto Cifra de Ventas mil EUR', 'Total activo mil EUR', 'Número empleados', 'Rentabilidad económica (%) %']]"
   ]
  },
  {
   "cell_type": "code",
   "execution_count": 40,
   "metadata": {},
   "outputs": [],
   "source": [
    "empresa2021 = df_graficos[df_graficos['Nombre_sabi'] == 'WISE SECURITY GLOBAL SOCIEDAD LIMITADA.']"
   ]
  },
  {
   "cell_type": "code",
   "execution_count": 41,
   "metadata": {},
   "outputs": [],
   "source": [
    "empresa2021 = empresa2021[['Importe neto Cifra de Ventas mil EUR_2021', 'Total activo mil EUR_2021', 'Numero empleados_2021', 'Rentabilidad economica (%) %_2021']]"
   ]
  },
  {
   "cell_type": "code",
   "execution_count": 42,
   "metadata": {},
   "outputs": [
    {
     "data": {
      "application/vnd.plotly.v1+json": {
       "config": {
        "plotlyServerURL": "https://plot.ly"
       },
       "data": [
        {
         "name": "Value 1",
         "orientation": "h",
         "type": "bar",
         "x": [
          4722.55815,
          2119.09935,
          58,
          27.803
         ],
         "y": [
          "Importe neto Cifra de Ventas mil EUR",
          "Total activo mil EUR",
          "Número empleados",
          "Rentabilidad económica (%) %"
         ]
        },
        {
         "name": "Value 2",
         "orientation": "h",
         "type": "bar",
         "x": [
          5197.26952,
          2701.66999,
          76,
          14.906
         ],
         "y": [
          "Importe neto Cifra de Ventas mil EUR",
          "Total activo mil EUR",
          "Número empleados",
          "Rentabilidad económica (%) %"
         ]
        }
       ],
       "layout": {
        "barmode": "group",
        "template": {
         "data": {
          "bar": [
           {
            "error_x": {
             "color": "rgb(36,36,36)"
            },
            "error_y": {
             "color": "rgb(36,36,36)"
            },
            "marker": {
             "line": {
              "color": "white",
              "width": 0.5
             },
             "pattern": {
              "fillmode": "overlay",
              "size": 10,
              "solidity": 0.2
             }
            },
            "type": "bar"
           }
          ],
          "barpolar": [
           {
            "marker": {
             "line": {
              "color": "white",
              "width": 0.5
             },
             "pattern": {
              "fillmode": "overlay",
              "size": 10,
              "solidity": 0.2
             }
            },
            "type": "barpolar"
           }
          ],
          "carpet": [
           {
            "aaxis": {
             "endlinecolor": "rgb(36,36,36)",
             "gridcolor": "white",
             "linecolor": "white",
             "minorgridcolor": "white",
             "startlinecolor": "rgb(36,36,36)"
            },
            "baxis": {
             "endlinecolor": "rgb(36,36,36)",
             "gridcolor": "white",
             "linecolor": "white",
             "minorgridcolor": "white",
             "startlinecolor": "rgb(36,36,36)"
            },
            "type": "carpet"
           }
          ],
          "choropleth": [
           {
            "colorbar": {
             "outlinewidth": 1,
             "tickcolor": "rgb(36,36,36)",
             "ticks": "outside"
            },
            "type": "choropleth"
           }
          ],
          "contour": [
           {
            "colorbar": {
             "outlinewidth": 1,
             "tickcolor": "rgb(36,36,36)",
             "ticks": "outside"
            },
            "colorscale": [
             [
              0,
              "#440154"
             ],
             [
              0.1111111111111111,
              "#482878"
             ],
             [
              0.2222222222222222,
              "#3e4989"
             ],
             [
              0.3333333333333333,
              "#31688e"
             ],
             [
              0.4444444444444444,
              "#26828e"
             ],
             [
              0.5555555555555556,
              "#1f9e89"
             ],
             [
              0.6666666666666666,
              "#35b779"
             ],
             [
              0.7777777777777778,
              "#6ece58"
             ],
             [
              0.8888888888888888,
              "#b5de2b"
             ],
             [
              1,
              "#fde725"
             ]
            ],
            "type": "contour"
           }
          ],
          "contourcarpet": [
           {
            "colorbar": {
             "outlinewidth": 1,
             "tickcolor": "rgb(36,36,36)",
             "ticks": "outside"
            },
            "type": "contourcarpet"
           }
          ],
          "heatmap": [
           {
            "colorbar": {
             "outlinewidth": 1,
             "tickcolor": "rgb(36,36,36)",
             "ticks": "outside"
            },
            "colorscale": [
             [
              0,
              "#440154"
             ],
             [
              0.1111111111111111,
              "#482878"
             ],
             [
              0.2222222222222222,
              "#3e4989"
             ],
             [
              0.3333333333333333,
              "#31688e"
             ],
             [
              0.4444444444444444,
              "#26828e"
             ],
             [
              0.5555555555555556,
              "#1f9e89"
             ],
             [
              0.6666666666666666,
              "#35b779"
             ],
             [
              0.7777777777777778,
              "#6ece58"
             ],
             [
              0.8888888888888888,
              "#b5de2b"
             ],
             [
              1,
              "#fde725"
             ]
            ],
            "type": "heatmap"
           }
          ],
          "heatmapgl": [
           {
            "colorbar": {
             "outlinewidth": 1,
             "tickcolor": "rgb(36,36,36)",
             "ticks": "outside"
            },
            "colorscale": [
             [
              0,
              "#440154"
             ],
             [
              0.1111111111111111,
              "#482878"
             ],
             [
              0.2222222222222222,
              "#3e4989"
             ],
             [
              0.3333333333333333,
              "#31688e"
             ],
             [
              0.4444444444444444,
              "#26828e"
             ],
             [
              0.5555555555555556,
              "#1f9e89"
             ],
             [
              0.6666666666666666,
              "#35b779"
             ],
             [
              0.7777777777777778,
              "#6ece58"
             ],
             [
              0.8888888888888888,
              "#b5de2b"
             ],
             [
              1,
              "#fde725"
             ]
            ],
            "type": "heatmapgl"
           }
          ],
          "histogram": [
           {
            "marker": {
             "line": {
              "color": "white",
              "width": 0.6
             }
            },
            "type": "histogram"
           }
          ],
          "histogram2d": [
           {
            "colorbar": {
             "outlinewidth": 1,
             "tickcolor": "rgb(36,36,36)",
             "ticks": "outside"
            },
            "colorscale": [
             [
              0,
              "#440154"
             ],
             [
              0.1111111111111111,
              "#482878"
             ],
             [
              0.2222222222222222,
              "#3e4989"
             ],
             [
              0.3333333333333333,
              "#31688e"
             ],
             [
              0.4444444444444444,
              "#26828e"
             ],
             [
              0.5555555555555556,
              "#1f9e89"
             ],
             [
              0.6666666666666666,
              "#35b779"
             ],
             [
              0.7777777777777778,
              "#6ece58"
             ],
             [
              0.8888888888888888,
              "#b5de2b"
             ],
             [
              1,
              "#fde725"
             ]
            ],
            "type": "histogram2d"
           }
          ],
          "histogram2dcontour": [
           {
            "colorbar": {
             "outlinewidth": 1,
             "tickcolor": "rgb(36,36,36)",
             "ticks": "outside"
            },
            "colorscale": [
             [
              0,
              "#440154"
             ],
             [
              0.1111111111111111,
              "#482878"
             ],
             [
              0.2222222222222222,
              "#3e4989"
             ],
             [
              0.3333333333333333,
              "#31688e"
             ],
             [
              0.4444444444444444,
              "#26828e"
             ],
             [
              0.5555555555555556,
              "#1f9e89"
             ],
             [
              0.6666666666666666,
              "#35b779"
             ],
             [
              0.7777777777777778,
              "#6ece58"
             ],
             [
              0.8888888888888888,
              "#b5de2b"
             ],
             [
              1,
              "#fde725"
             ]
            ],
            "type": "histogram2dcontour"
           }
          ],
          "mesh3d": [
           {
            "colorbar": {
             "outlinewidth": 1,
             "tickcolor": "rgb(36,36,36)",
             "ticks": "outside"
            },
            "type": "mesh3d"
           }
          ],
          "parcoords": [
           {
            "line": {
             "colorbar": {
              "outlinewidth": 1,
              "tickcolor": "rgb(36,36,36)",
              "ticks": "outside"
             }
            },
            "type": "parcoords"
           }
          ],
          "pie": [
           {
            "automargin": true,
            "type": "pie"
           }
          ],
          "scatter": [
           {
            "fillpattern": {
             "fillmode": "overlay",
             "size": 10,
             "solidity": 0.2
            },
            "type": "scatter"
           }
          ],
          "scatter3d": [
           {
            "line": {
             "colorbar": {
              "outlinewidth": 1,
              "tickcolor": "rgb(36,36,36)",
              "ticks": "outside"
             }
            },
            "marker": {
             "colorbar": {
              "outlinewidth": 1,
              "tickcolor": "rgb(36,36,36)",
              "ticks": "outside"
             }
            },
            "type": "scatter3d"
           }
          ],
          "scattercarpet": [
           {
            "marker": {
             "colorbar": {
              "outlinewidth": 1,
              "tickcolor": "rgb(36,36,36)",
              "ticks": "outside"
             }
            },
            "type": "scattercarpet"
           }
          ],
          "scattergeo": [
           {
            "marker": {
             "colorbar": {
              "outlinewidth": 1,
              "tickcolor": "rgb(36,36,36)",
              "ticks": "outside"
             }
            },
            "type": "scattergeo"
           }
          ],
          "scattergl": [
           {
            "marker": {
             "colorbar": {
              "outlinewidth": 1,
              "tickcolor": "rgb(36,36,36)",
              "ticks": "outside"
             }
            },
            "type": "scattergl"
           }
          ],
          "scattermapbox": [
           {
            "marker": {
             "colorbar": {
              "outlinewidth": 1,
              "tickcolor": "rgb(36,36,36)",
              "ticks": "outside"
             }
            },
            "type": "scattermapbox"
           }
          ],
          "scatterpolar": [
           {
            "marker": {
             "colorbar": {
              "outlinewidth": 1,
              "tickcolor": "rgb(36,36,36)",
              "ticks": "outside"
             }
            },
            "type": "scatterpolar"
           }
          ],
          "scatterpolargl": [
           {
            "marker": {
             "colorbar": {
              "outlinewidth": 1,
              "tickcolor": "rgb(36,36,36)",
              "ticks": "outside"
             }
            },
            "type": "scatterpolargl"
           }
          ],
          "scatterternary": [
           {
            "marker": {
             "colorbar": {
              "outlinewidth": 1,
              "tickcolor": "rgb(36,36,36)",
              "ticks": "outside"
             }
            },
            "type": "scatterternary"
           }
          ],
          "surface": [
           {
            "colorbar": {
             "outlinewidth": 1,
             "tickcolor": "rgb(36,36,36)",
             "ticks": "outside"
            },
            "colorscale": [
             [
              0,
              "#440154"
             ],
             [
              0.1111111111111111,
              "#482878"
             ],
             [
              0.2222222222222222,
              "#3e4989"
             ],
             [
              0.3333333333333333,
              "#31688e"
             ],
             [
              0.4444444444444444,
              "#26828e"
             ],
             [
              0.5555555555555556,
              "#1f9e89"
             ],
             [
              0.6666666666666666,
              "#35b779"
             ],
             [
              0.7777777777777778,
              "#6ece58"
             ],
             [
              0.8888888888888888,
              "#b5de2b"
             ],
             [
              1,
              "#fde725"
             ]
            ],
            "type": "surface"
           }
          ],
          "table": [
           {
            "cells": {
             "fill": {
              "color": "rgb(237,237,237)"
             },
             "line": {
              "color": "white"
             }
            },
            "header": {
             "fill": {
              "color": "rgb(217,217,217)"
             },
             "line": {
              "color": "white"
             }
            },
            "type": "table"
           }
          ]
         },
         "layout": {
          "annotationdefaults": {
           "arrowhead": 0,
           "arrowwidth": 1
          },
          "autotypenumbers": "strict",
          "coloraxis": {
           "colorbar": {
            "outlinewidth": 1,
            "tickcolor": "rgb(36,36,36)",
            "ticks": "outside"
           }
          },
          "colorscale": {
           "diverging": [
            [
             0,
             "rgb(103,0,31)"
            ],
            [
             0.1,
             "rgb(178,24,43)"
            ],
            [
             0.2,
             "rgb(214,96,77)"
            ],
            [
             0.3,
             "rgb(244,165,130)"
            ],
            [
             0.4,
             "rgb(253,219,199)"
            ],
            [
             0.5,
             "rgb(247,247,247)"
            ],
            [
             0.6,
             "rgb(209,229,240)"
            ],
            [
             0.7,
             "rgb(146,197,222)"
            ],
            [
             0.8,
             "rgb(67,147,195)"
            ],
            [
             0.9,
             "rgb(33,102,172)"
            ],
            [
             1,
             "rgb(5,48,97)"
            ]
           ],
           "sequential": [
            [
             0,
             "#440154"
            ],
            [
             0.1111111111111111,
             "#482878"
            ],
            [
             0.2222222222222222,
             "#3e4989"
            ],
            [
             0.3333333333333333,
             "#31688e"
            ],
            [
             0.4444444444444444,
             "#26828e"
            ],
            [
             0.5555555555555556,
             "#1f9e89"
            ],
            [
             0.6666666666666666,
             "#35b779"
            ],
            [
             0.7777777777777778,
             "#6ece58"
            ],
            [
             0.8888888888888888,
             "#b5de2b"
            ],
            [
             1,
             "#fde725"
            ]
           ],
           "sequentialminus": [
            [
             0,
             "#440154"
            ],
            [
             0.1111111111111111,
             "#482878"
            ],
            [
             0.2222222222222222,
             "#3e4989"
            ],
            [
             0.3333333333333333,
             "#31688e"
            ],
            [
             0.4444444444444444,
             "#26828e"
            ],
            [
             0.5555555555555556,
             "#1f9e89"
            ],
            [
             0.6666666666666666,
             "#35b779"
            ],
            [
             0.7777777777777778,
             "#6ece58"
            ],
            [
             0.8888888888888888,
             "#b5de2b"
            ],
            [
             1,
             "#fde725"
            ]
           ]
          },
          "colorway": [
           "#1F77B4",
           "#FF7F0E",
           "#2CA02C",
           "#D62728",
           "#9467BD",
           "#8C564B",
           "#E377C2",
           "#7F7F7F",
           "#BCBD22",
           "#17BECF"
          ],
          "font": {
           "color": "rgb(36,36,36)"
          },
          "geo": {
           "bgcolor": "white",
           "lakecolor": "white",
           "landcolor": "white",
           "showlakes": true,
           "showland": true,
           "subunitcolor": "white"
          },
          "hoverlabel": {
           "align": "left"
          },
          "hovermode": "closest",
          "mapbox": {
           "style": "light"
          },
          "paper_bgcolor": "white",
          "plot_bgcolor": "white",
          "polar": {
           "angularaxis": {
            "gridcolor": "rgb(232,232,232)",
            "linecolor": "rgb(36,36,36)",
            "showgrid": false,
            "showline": true,
            "ticks": "outside"
           },
           "bgcolor": "white",
           "radialaxis": {
            "gridcolor": "rgb(232,232,232)",
            "linecolor": "rgb(36,36,36)",
            "showgrid": false,
            "showline": true,
            "ticks": "outside"
           }
          },
          "scene": {
           "xaxis": {
            "backgroundcolor": "white",
            "gridcolor": "rgb(232,232,232)",
            "gridwidth": 2,
            "linecolor": "rgb(36,36,36)",
            "showbackground": true,
            "showgrid": false,
            "showline": true,
            "ticks": "outside",
            "zeroline": false,
            "zerolinecolor": "rgb(36,36,36)"
           },
           "yaxis": {
            "backgroundcolor": "white",
            "gridcolor": "rgb(232,232,232)",
            "gridwidth": 2,
            "linecolor": "rgb(36,36,36)",
            "showbackground": true,
            "showgrid": false,
            "showline": true,
            "ticks": "outside",
            "zeroline": false,
            "zerolinecolor": "rgb(36,36,36)"
           },
           "zaxis": {
            "backgroundcolor": "white",
            "gridcolor": "rgb(232,232,232)",
            "gridwidth": 2,
            "linecolor": "rgb(36,36,36)",
            "showbackground": true,
            "showgrid": false,
            "showline": true,
            "ticks": "outside",
            "zeroline": false,
            "zerolinecolor": "rgb(36,36,36)"
           }
          },
          "shapedefaults": {
           "fillcolor": "black",
           "line": {
            "width": 0
           },
           "opacity": 0.3
          },
          "ternary": {
           "aaxis": {
            "gridcolor": "rgb(232,232,232)",
            "linecolor": "rgb(36,36,36)",
            "showgrid": false,
            "showline": true,
            "ticks": "outside"
           },
           "baxis": {
            "gridcolor": "rgb(232,232,232)",
            "linecolor": "rgb(36,36,36)",
            "showgrid": false,
            "showline": true,
            "ticks": "outside"
           },
           "bgcolor": "white",
           "caxis": {
            "gridcolor": "rgb(232,232,232)",
            "linecolor": "rgb(36,36,36)",
            "showgrid": false,
            "showline": true,
            "ticks": "outside"
           }
          },
          "title": {
           "x": 0.05
          },
          "xaxis": {
           "automargin": true,
           "gridcolor": "rgb(232,232,232)",
           "linecolor": "rgb(36,36,36)",
           "showgrid": false,
           "showline": true,
           "ticks": "outside",
           "title": {
            "standoff": 15
           },
           "zeroline": false,
           "zerolinecolor": "rgb(36,36,36)"
          },
          "yaxis": {
           "automargin": true,
           "gridcolor": "rgb(232,232,232)",
           "linecolor": "rgb(36,36,36)",
           "showgrid": false,
           "showline": true,
           "ticks": "outside",
           "title": {
            "standoff": 15
           },
           "zeroline": false,
           "zerolinecolor": "rgb(36,36,36)"
          }
         }
        },
        "title": {
         "text": "Horizontal Bar Plot with Two Values",
         "x": 0.5
        },
        "xaxis": {
         "title": {
          "text": "Value"
         }
        },
        "yaxis": {
         "title": {
          "text": "Category"
         }
        }
       }
      }
     },
     "metadata": {},
     "output_type": "display_data"
    }
   ],
   "source": [
    "import plotly.graph_objs as go\n",
    "\n",
    "# sample data\n",
    "x1 = empresa2020.iloc[0].tolist()\n",
    "x2 = empresa2021.iloc[0].tolist()\n",
    "y = ['Importe neto Cifra de Ventas mil EUR', 'Total activo mil EUR', 'Número empleados', 'Rentabilidad económica (%) %']\n",
    "\n",
    "# create the traces\n",
    "trace1 = go.Bar(\n",
    "    x=x1,\n",
    "    y=y,\n",
    "    name='Value 1',\n",
    "    orientation='h'\n",
    ")\n",
    "\n",
    "trace2 = go.Bar(\n",
    "    x=x2,\n",
    "    y=y,\n",
    "    name='Value 2',\n",
    "    orientation='h'\n",
    ")\n",
    "\n",
    "# create the layout\n",
    "layout = go.Layout(\n",
    "    title='Horizontal Bar Plot with Two Values',\n",
    "    xaxis=dict(title='Value'),\n",
    "    yaxis=dict(title='Category'),\n",
    "    barmode='group', template='simple_white', title_x = 0.5\n",
    ")\n",
    "\n",
    "# create the figure\n",
    "fig = go.Figure(data=[trace1, trace2], layout=layout)\n",
    "\n",
    "# show the figure\n",
    "fig.show()"
   ]
  },
  {
   "attachments": {},
   "cell_type": "markdown",
   "metadata": {},
   "source": [
    "##### **ANÁLISIS DE LA VALORACIÓN** #####"
   ]
  },
  {
   "cell_type": "code",
   "execution_count": 74,
   "metadata": {},
   "outputs": [],
   "source": [
    "CARPETA_DATOS_ORIGINALES = 'Datos/Originales/'\n",
    "df_dealroom= pd.read_excel(os.path.join(CARPETA_DATOS_ORIGINALES, 'df_dealroom_modif.xlsx'))"
   ]
  },
  {
   "cell_type": "code",
   "execution_count": 85,
   "metadata": {},
   "outputs": [],
   "source": [
    "top = df_dealroom[['name_dealroom', 'valuation_2022']].dropna()"
   ]
  },
  {
   "cell_type": "code",
   "execution_count": 99,
   "metadata": {},
   "outputs": [
    {
     "data": {
      "text/plain": [
       "[156.4, 138.0, 108.84, 75.9, 63.3]"
      ]
     },
     "execution_count": 99,
     "metadata": {},
     "output_type": "execute_result"
    }
   ],
   "source": [
    "valoracion_2022 = top.nlargest(5, 'valuation_2022')\n",
    "valoracion_2022['name'] = ['Nautilus', 'Lookiero', 'HAWK Biosystems', 'Oncomatryx Biopharma', 'H2site']\n",
    "valoracion_2022 = list(valoracion_2022['valuation_2022'])\n",
    "valoracion_2022"
   ]
  },
  {
   "cell_type": "code",
   "execution_count": 100,
   "metadata": {},
   "outputs": [],
   "source": [
    "valoracion_nombre = ['Nautilus', 'Lookiero', 'HAWK Biosystems', 'Oncomatryx Biopharma', 'H2site']"
   ]
  },
  {
   "cell_type": "code",
   "execution_count": 93,
   "metadata": {},
   "outputs": [
    {
     "data": {
      "text/html": [
       "<div>\n",
       "<style scoped>\n",
       "    .dataframe tbody tr th:only-of-type {\n",
       "        vertical-align: middle;\n",
       "    }\n",
       "\n",
       "    .dataframe tbody tr th {\n",
       "        vertical-align: top;\n",
       "    }\n",
       "\n",
       "    .dataframe thead th {\n",
       "        text-align: right;\n",
       "    }\n",
       "</style>\n",
       "<table border=\"1\" class=\"dataframe\">\n",
       "  <thead>\n",
       "    <tr style=\"text-align: right;\">\n",
       "      <th></th>\n",
       "      <th>Codigo_NIF</th>\n",
       "      <th>Acreedores a L. P. mil EUR_ratio</th>\n",
       "      <th>Acreedores comerciales mil EUR_ratio</th>\n",
       "      <th>Activo circulante mil EUR_ratio</th>\n",
       "      <th>Apalancamiento (%) %_ratio</th>\n",
       "      <th>Capital suscrito mil EUR_ratio</th>\n",
       "      <th>Cash flow mil EUR_ratio</th>\n",
       "      <th>Coeficiente de solvencia (%) %_ratio</th>\n",
       "      <th>Coste medio de los empleados mil_ratio</th>\n",
       "      <th>Costes de los trabajadores / Ingresos de explotacion (%) %_ratio</th>\n",
       "      <th>...</th>\n",
       "      <th>b2b</th>\n",
       "      <th>b2c</th>\n",
       "      <th>startup</th>\n",
       "      <th>Sociedad_anonima</th>\n",
       "      <th>Ratio_endeudamiento</th>\n",
       "      <th>Margen_bruto(costes trabajadores)</th>\n",
       "      <th>Beneficio neto mil EUR</th>\n",
       "      <th>ROA</th>\n",
       "      <th>Margen_EBITDA</th>\n",
       "      <th>Localidad</th>\n",
       "    </tr>\n",
       "  </thead>\n",
       "  <tbody>\n",
       "    <tr>\n",
       "      <th>240</th>\n",
       "      <td>B95586780</td>\n",
       "      <td>1.536858</td>\n",
       "      <td>1.000000</td>\n",
       "      <td>2.684726</td>\n",
       "      <td>0.650442</td>\n",
       "      <td>1.169119</td>\n",
       "      <td>-2.017065</td>\n",
       "      <td>1.292969</td>\n",
       "      <td>1.185883</td>\n",
       "      <td>0.108993</td>\n",
       "      <td>...</td>\n",
       "      <td>1</td>\n",
       "      <td>0</td>\n",
       "      <td>0</td>\n",
       "      <td>0</td>\n",
       "      <td>3.731970</td>\n",
       "      <td>0.009869</td>\n",
       "      <td>3888.01811</td>\n",
       "      <td>0.106768</td>\n",
       "      <td>0.703947</td>\n",
       "      <td>LEGUTIO</td>\n",
       "    </tr>\n",
       "    <tr>\n",
       "      <th>267</th>\n",
       "      <td>B95738803</td>\n",
       "      <td>0.386167</td>\n",
       "      <td>1.000000</td>\n",
       "      <td>1.772269</td>\n",
       "      <td>0.363853</td>\n",
       "      <td>1.203125</td>\n",
       "      <td>1.429131</td>\n",
       "      <td>1.218234</td>\n",
       "      <td>1.396671</td>\n",
       "      <td>0.431985</td>\n",
       "      <td>...</td>\n",
       "      <td>1</td>\n",
       "      <td>0</td>\n",
       "      <td>0</td>\n",
       "      <td>0</td>\n",
       "      <td>4.851067</td>\n",
       "      <td>0.002970</td>\n",
       "      <td>-183.23890</td>\n",
       "      <td>-0.033561</td>\n",
       "      <td>-1.133143</td>\n",
       "      <td>BILBAO</td>\n",
       "    </tr>\n",
       "    <tr>\n",
       "      <th>303</th>\n",
       "      <td>B95810826</td>\n",
       "      <td>1.089020</td>\n",
       "      <td>1.446105</td>\n",
       "      <td>1.949655</td>\n",
       "      <td>0.563098</td>\n",
       "      <td>1.216433</td>\n",
       "      <td>1.685476</td>\n",
       "      <td>1.322939</td>\n",
       "      <td>1.020272</td>\n",
       "      <td>0.717029</td>\n",
       "      <td>...</td>\n",
       "      <td>0</td>\n",
       "      <td>1</td>\n",
       "      <td>0</td>\n",
       "      <td>0</td>\n",
       "      <td>2.743795</td>\n",
       "      <td>0.009994</td>\n",
       "      <td>45093.51200</td>\n",
       "      <td>0.869840</td>\n",
       "      <td>-0.096215</td>\n",
       "      <td>DONOSTIA/SAN SEBASTIAN</td>\n",
       "    </tr>\n",
       "    <tr>\n",
       "      <th>311</th>\n",
       "      <td>B95827903</td>\n",
       "      <td>1.711431</td>\n",
       "      <td>1.000000</td>\n",
       "      <td>1.026259</td>\n",
       "      <td>1.085337</td>\n",
       "      <td>0.835846</td>\n",
       "      <td>-1.658654</td>\n",
       "      <td>0.993123</td>\n",
       "      <td>1.362056</td>\n",
       "      <td>0.329496</td>\n",
       "      <td>...</td>\n",
       "      <td>1</td>\n",
       "      <td>0</td>\n",
       "      <td>0</td>\n",
       "      <td>0</td>\n",
       "      <td>1.759902</td>\n",
       "      <td>0.006007</td>\n",
       "      <td>-150.26695</td>\n",
       "      <td>-0.064544</td>\n",
       "      <td>0.397947</td>\n",
       "      <td>BARAKALDO</td>\n",
       "    </tr>\n",
       "    <tr>\n",
       "      <th>391</th>\n",
       "      <td>B95955316</td>\n",
       "      <td>8.144057</td>\n",
       "      <td>0.118187</td>\n",
       "      <td>1.033262</td>\n",
       "      <td>8.713622</td>\n",
       "      <td>1.000000</td>\n",
       "      <td>-1.082491</td>\n",
       "      <td>0.685203</td>\n",
       "      <td>1.049237</td>\n",
       "      <td>1.531822</td>\n",
       "      <td>...</td>\n",
       "      <td>1</td>\n",
       "      <td>0</td>\n",
       "      <td>1</td>\n",
       "      <td>0</td>\n",
       "      <td>2.426450</td>\n",
       "      <td>0.009326</td>\n",
       "      <td>938.40779</td>\n",
       "      <td>0.129918</td>\n",
       "      <td>-0.159760</td>\n",
       "      <td>ARRASATE/MONDRAGON</td>\n",
       "    </tr>\n",
       "  </tbody>\n",
       "</table>\n",
       "<p>5 rows × 110 columns</p>\n",
       "</div>"
      ],
      "text/plain": [
       "    Codigo_NIF  Acreedores a L. P. mil EUR_ratio  \\\n",
       "240  B95586780                          1.536858   \n",
       "267  B95738803                          0.386167   \n",
       "303  B95810826                          1.089020   \n",
       "311  B95827903                          1.711431   \n",
       "391  B95955316                          8.144057   \n",
       "\n",
       "     Acreedores comerciales mil EUR_ratio  Activo circulante mil EUR_ratio  \\\n",
       "240                              1.000000                         2.684726   \n",
       "267                              1.000000                         1.772269   \n",
       "303                              1.446105                         1.949655   \n",
       "311                              1.000000                         1.026259   \n",
       "391                              0.118187                         1.033262   \n",
       "\n",
       "     Apalancamiento (%) %_ratio  Capital suscrito mil EUR_ratio  \\\n",
       "240                    0.650442                        1.169119   \n",
       "267                    0.363853                        1.203125   \n",
       "303                    0.563098                        1.216433   \n",
       "311                    1.085337                        0.835846   \n",
       "391                    8.713622                        1.000000   \n",
       "\n",
       "     Cash flow mil EUR_ratio  Coeficiente de solvencia (%) %_ratio  \\\n",
       "240                -2.017065                              1.292969   \n",
       "267                 1.429131                              1.218234   \n",
       "303                 1.685476                              1.322939   \n",
       "311                -1.658654                              0.993123   \n",
       "391                -1.082491                              0.685203   \n",
       "\n",
       "     Coste medio de los empleados mil_ratio  \\\n",
       "240                                1.185883   \n",
       "267                                1.396671   \n",
       "303                                1.020272   \n",
       "311                                1.362056   \n",
       "391                                1.049237   \n",
       "\n",
       "     Costes de los trabajadores / Ingresos de explotacion (%) %_ratio  ...  \\\n",
       "240                                           0.108993                 ...   \n",
       "267                                           0.431985                 ...   \n",
       "303                                           0.717029                 ...   \n",
       "311                                           0.329496                 ...   \n",
       "391                                           1.531822                 ...   \n",
       "\n",
       "     b2b  b2c  startup  Sociedad_anonima  Ratio_endeudamiento  \\\n",
       "240    1    0        0                 0             3.731970   \n",
       "267    1    0        0                 0             4.851067   \n",
       "303    0    1        0                 0             2.743795   \n",
       "311    1    0        0                 0             1.759902   \n",
       "391    1    0        1                 0             2.426450   \n",
       "\n",
       "     Margen_bruto(costes trabajadores)  Beneficio neto mil EUR       ROA  \\\n",
       "240                           0.009869              3888.01811  0.106768   \n",
       "267                           0.002970              -183.23890 -0.033561   \n",
       "303                           0.009994             45093.51200  0.869840   \n",
       "311                           0.006007              -150.26695 -0.064544   \n",
       "391                           0.009326               938.40779  0.129918   \n",
       "\n",
       "     Margen_EBITDA               Localidad  \n",
       "240       0.703947                 LEGUTIO  \n",
       "267      -1.133143                  BILBAO  \n",
       "303      -0.096215  DONOSTIA/SAN SEBASTIAN  \n",
       "311       0.397947               BARAKALDO  \n",
       "391      -0.159760      ARRASATE/MONDRAGON  \n",
       "\n",
       "[5 rows x 110 columns]"
      ]
     },
     "execution_count": 93,
     "metadata": {},
     "output_type": "execute_result"
    }
   ],
   "source": [
    "variable = df_graficos[(df_graficos['Nombre_sabi'] == 'NAUTILUS FLOATING SOLUTIONS SOCIEDAD LIMITADA.') | (df_graficos['Nombre_sabi'] == 'LOOKIERO STYLE SOCIEDAD LIMITADA.') | (df_graficos['Nombre_sabi'] == 'FASTBASE SOLUTIONS SOCIEDAD LIMITADA.')\n",
    "                       | (df_graficos['Nombre_sabi'] == 'ONCOMATRYX BIOPHARMA SOCIEDAD LIMITADA.')| (df_graficos['Nombre_sabi'] == 'HYDROGEN ONSITE SOCIEDAD LIMITADA.')]\n",
    "variable"
   ]
  },
  {
   "cell_type": "code",
   "execution_count": 112,
   "metadata": {},
   "outputs": [],
   "source": [
    "variable = variable[['Resultado del Ejercicio mil EUR_2021']]\n",
    "variable = variable.values.flatten().tolist()"
   ]
  },
  {
   "cell_type": "code",
   "execution_count": 113,
   "metadata": {},
   "outputs": [
    {
     "data": {
      "application/vnd.plotly.v1+json": {
       "config": {
        "plotlyServerURL": "https://plot.ly"
       },
       "data": [
        {
         "marker": {
          "color": "#81b29a"
         },
         "name": "Valoración, en (%)",
         "orientation": "h",
         "type": "bar",
         "x": [
          156.4,
          138,
          108.84,
          75.9,
          63.3
         ],
         "xaxis": "x",
         "y": [
          "Nautilus",
          "Lookiero",
          "HAWK Biosystems",
          "Oncomatryx Biopharma",
          "H2site"
         ],
         "yaxis": "y"
        },
        {
         "line": {
          "color": "#3d405b",
          "width": 2
         },
         "marker": {
          "color": "#f2cc8f",
          "size": 8
         },
         "mode": "lines+markers",
         "name": "Resultado del Ejercicio mil EUR",
         "type": "scatter",
         "x": [
          609.35735,
          -200.23095,
          -4914.922,
          186.62585,
          -545.8367
         ],
         "xaxis": "x2",
         "y": [
          "Nautilus",
          "Lookiero",
          "HAWK Biosystems",
          "Oncomatryx Biopharma",
          "H2site"
         ],
         "yaxis": "y2"
        }
       ],
       "layout": {
        "annotations": [
         {
          "font": {
           "color": "#3d405b",
           "family": "Arial",
           "size": 12
          },
          "showarrow": false,
          "text": "609.0K",
          "x": 1409,
          "xref": "x2",
          "y": "Nautilus",
          "yref": "y2"
         },
         {
          "font": {
           "color": "#81b29a",
           "family": "Arial",
           "size": 12
          },
          "showarrow": false,
          "text": "156.4%",
          "x": 181.4,
          "xref": "x",
          "y": "Nautilus",
          "yref": "y"
         },
         {
          "font": {
           "color": "#3d405b",
           "family": "Arial",
           "size": 12
          },
          "showarrow": false,
          "text": "-200.0K",
          "x": 600,
          "xref": "x2",
          "y": "Lookiero",
          "yref": "y2"
         },
         {
          "font": {
           "color": "#81b29a",
           "family": "Arial",
           "size": 12
          },
          "showarrow": false,
          "text": "138.0%",
          "x": 163,
          "xref": "x",
          "y": "Lookiero",
          "yref": "y"
         },
         {
          "font": {
           "color": "#3d405b",
           "family": "Arial",
           "size": 12
          },
          "showarrow": false,
          "text": "-4,915.0K",
          "x": -4115,
          "xref": "x2",
          "y": "HAWK Biosystems",
          "yref": "y2"
         },
         {
          "font": {
           "color": "#81b29a",
           "family": "Arial",
           "size": 12
          },
          "showarrow": false,
          "text": "108.84%",
          "x": 133.84,
          "xref": "x",
          "y": "HAWK Biosystems",
          "yref": "y"
         },
         {
          "font": {
           "color": "#3d405b",
           "family": "Arial",
           "size": 12
          },
          "showarrow": false,
          "text": "187.0K",
          "x": 987,
          "xref": "x2",
          "y": "Oncomatryx Biopharma",
          "yref": "y2"
         },
         {
          "font": {
           "color": "#81b29a",
           "family": "Arial",
           "size": 12
          },
          "showarrow": false,
          "text": "75.9%",
          "x": 100.9,
          "xref": "x",
          "y": "Oncomatryx Biopharma",
          "yref": "y"
         },
         {
          "font": {
           "color": "#3d405b",
           "family": "Arial",
           "size": 12
          },
          "showarrow": false,
          "text": "-546.0K",
          "x": 254,
          "xref": "x2",
          "y": "H2site",
          "yref": "y2"
         },
         {
          "font": {
           "color": "#81b29a",
           "family": "Arial",
           "size": 12
          },
          "showarrow": false,
          "text": "63.3%",
          "x": 88.3,
          "xref": "x",
          "y": "H2site",
          "yref": "y"
         }
        ],
        "images": [
         {
          "sizex": 0.15,
          "sizey": 0.1,
          "source": "data:image/png;base64,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",
          "x": 0.335,
          "xanchor": "right",
          "xref": "paper",
          "y": 0.72,
          "yanchor": "bottom",
          "yref": "paper"
         },
         {
          "sizex": 0.2,
          "sizey": 0.1,
          "source": "https://res.cloudinary.com/spydeals/image/upload/w_230,f_auto,q_auto,c_limit/cdn/dvdwZHRV3nmRp5MiSmUFh2gZzZClJCjarPdyZCZt.png",
          "x": 0.29,
          "xanchor": "right",
          "xref": "paper",
          "y": 0.55,
          "yanchor": "bottom",
          "yref": "paper"
         },
         {
          "sizex": 0.08,
          "sizey": 0.1,
          "source": "https://media.licdn.com/dms/image/D4D0BAQE559x2dCL5Sg/company-logo_200_200/0/1663675865870?e=2147483647&v=beta&t=r98BZ-Yo5a8SyU4oVFZrzg48_RC40iN-Urb_GtOFe_o",
          "x": 0.225,
          "xanchor": "right",
          "xref": "paper",
          "y": 0.375,
          "yanchor": "bottom",
          "yref": "paper"
         },
         {
          "sizex": 0.08,
          "sizey": 0.08,
          "source": "data:image/jpeg;base64,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",
          "x": 0.15,
          "xanchor": "right",
          "xref": "paper",
          "y": 0.22,
          "yanchor": "bottom",
          "yref": "paper"
         },
         {
          "sizex": 0.08,
          "sizey": 0.08,
          "source": "data:image/png;base64,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",
          "x": 0.13,
          "xanchor": "right",
          "xref": "paper",
          "y": 0.04,
          "yanchor": "bottom",
          "yref": "paper"
         }
        ],
        "legend": {
         "bordercolor": "Black",
         "borderwidth": 1,
         "orientation": "h",
         "x": 0.25,
         "y": -0.1
        },
        "margin": {
         "b": 70,
         "l": 100,
         "r": 20,
         "t": 70
        },
        "plot_bgcolor": "white",
        "template": {
         "data": {
          "bar": [
           {
            "error_x": {
             "color": "#2a3f5f"
            },
            "error_y": {
             "color": "#2a3f5f"
            },
            "marker": {
             "line": {
              "color": "#E5ECF6",
              "width": 0.5
             },
             "pattern": {
              "fillmode": "overlay",
              "size": 10,
              "solidity": 0.2
             }
            },
            "type": "bar"
           }
          ],
          "barpolar": [
           {
            "marker": {
             "line": {
              "color": "#E5ECF6",
              "width": 0.5
             },
             "pattern": {
              "fillmode": "overlay",
              "size": 10,
              "solidity": 0.2
             }
            },
            "type": "barpolar"
           }
          ],
          "carpet": [
           {
            "aaxis": {
             "endlinecolor": "#2a3f5f",
             "gridcolor": "white",
             "linecolor": "white",
             "minorgridcolor": "white",
             "startlinecolor": "#2a3f5f"
            },
            "baxis": {
             "endlinecolor": "#2a3f5f",
             "gridcolor": "white",
             "linecolor": "white",
             "minorgridcolor": "white",
             "startlinecolor": "#2a3f5f"
            },
            "type": "carpet"
           }
          ],
          "choropleth": [
           {
            "colorbar": {
             "outlinewidth": 0,
             "ticks": ""
            },
            "type": "choropleth"
           }
          ],
          "contour": [
           {
            "colorbar": {
             "outlinewidth": 0,
             "ticks": ""
            },
            "colorscale": [
             [
              0,
              "#0d0887"
             ],
             [
              0.1111111111111111,
              "#46039f"
             ],
             [
              0.2222222222222222,
              "#7201a8"
             ],
             [
              0.3333333333333333,
              "#9c179e"
             ],
             [
              0.4444444444444444,
              "#bd3786"
             ],
             [
              0.5555555555555556,
              "#d8576b"
             ],
             [
              0.6666666666666666,
              "#ed7953"
             ],
             [
              0.7777777777777778,
              "#fb9f3a"
             ],
             [
              0.8888888888888888,
              "#fdca26"
             ],
             [
              1,
              "#f0f921"
             ]
            ],
            "type": "contour"
           }
          ],
          "contourcarpet": [
           {
            "colorbar": {
             "outlinewidth": 0,
             "ticks": ""
            },
            "type": "contourcarpet"
           }
          ],
          "heatmap": [
           {
            "colorbar": {
             "outlinewidth": 0,
             "ticks": ""
            },
            "colorscale": [
             [
              0,
              "#0d0887"
             ],
             [
              0.1111111111111111,
              "#46039f"
             ],
             [
              0.2222222222222222,
              "#7201a8"
             ],
             [
              0.3333333333333333,
              "#9c179e"
             ],
             [
              0.4444444444444444,
              "#bd3786"
             ],
             [
              0.5555555555555556,
              "#d8576b"
             ],
             [
              0.6666666666666666,
              "#ed7953"
             ],
             [
              0.7777777777777778,
              "#fb9f3a"
             ],
             [
              0.8888888888888888,
              "#fdca26"
             ],
             [
              1,
              "#f0f921"
             ]
            ],
            "type": "heatmap"
           }
          ],
          "heatmapgl": [
           {
            "colorbar": {
             "outlinewidth": 0,
             "ticks": ""
            },
            "colorscale": [
             [
              0,
              "#0d0887"
             ],
             [
              0.1111111111111111,
              "#46039f"
             ],
             [
              0.2222222222222222,
              "#7201a8"
             ],
             [
              0.3333333333333333,
              "#9c179e"
             ],
             [
              0.4444444444444444,
              "#bd3786"
             ],
             [
              0.5555555555555556,
              "#d8576b"
             ],
             [
              0.6666666666666666,
              "#ed7953"
             ],
             [
              0.7777777777777778,
              "#fb9f3a"
             ],
             [
              0.8888888888888888,
              "#fdca26"
             ],
             [
              1,
              "#f0f921"
             ]
            ],
            "type": "heatmapgl"
           }
          ],
          "histogram": [
           {
            "marker": {
             "pattern": {
              "fillmode": "overlay",
              "size": 10,
              "solidity": 0.2
             }
            },
            "type": "histogram"
           }
          ],
          "histogram2d": [
           {
            "colorbar": {
             "outlinewidth": 0,
             "ticks": ""
            },
            "colorscale": [
             [
              0,
              "#0d0887"
             ],
             [
              0.1111111111111111,
              "#46039f"
             ],
             [
              0.2222222222222222,
              "#7201a8"
             ],
             [
              0.3333333333333333,
              "#9c179e"
             ],
             [
              0.4444444444444444,
              "#bd3786"
             ],
             [
              0.5555555555555556,
              "#d8576b"
             ],
             [
              0.6666666666666666,
              "#ed7953"
             ],
             [
              0.7777777777777778,
              "#fb9f3a"
             ],
             [
              0.8888888888888888,
              "#fdca26"
             ],
             [
              1,
              "#f0f921"
             ]
            ],
            "type": "histogram2d"
           }
          ],
          "histogram2dcontour": [
           {
            "colorbar": {
             "outlinewidth": 0,
             "ticks": ""
            },
            "colorscale": [
             [
              0,
              "#0d0887"
             ],
             [
              0.1111111111111111,
              "#46039f"
             ],
             [
              0.2222222222222222,
              "#7201a8"
             ],
             [
              0.3333333333333333,
              "#9c179e"
             ],
             [
              0.4444444444444444,
              "#bd3786"
             ],
             [
              0.5555555555555556,
              "#d8576b"
             ],
             [
              0.6666666666666666,
              "#ed7953"
             ],
             [
              0.7777777777777778,
              "#fb9f3a"
             ],
             [
              0.8888888888888888,
              "#fdca26"
             ],
             [
              1,
              "#f0f921"
             ]
            ],
            "type": "histogram2dcontour"
           }
          ],
          "mesh3d": [
           {
            "colorbar": {
             "outlinewidth": 0,
             "ticks": ""
            },
            "type": "mesh3d"
           }
          ],
          "parcoords": [
           {
            "line": {
             "colorbar": {
              "outlinewidth": 0,
              "ticks": ""
             }
            },
            "type": "parcoords"
           }
          ],
          "pie": [
           {
            "automargin": true,
            "type": "pie"
           }
          ],
          "scatter": [
           {
            "fillpattern": {
             "fillmode": "overlay",
             "size": 10,
             "solidity": 0.2
            },
            "type": "scatter"
           }
          ],
          "scatter3d": [
           {
            "line": {
             "colorbar": {
              "outlinewidth": 0,
              "ticks": ""
             }
            },
            "marker": {
             "colorbar": {
              "outlinewidth": 0,
              "ticks": ""
             }
            },
            "type": "scatter3d"
           }
          ],
          "scattercarpet": [
           {
            "marker": {
             "colorbar": {
              "outlinewidth": 0,
              "ticks": ""
             }
            },
            "type": "scattercarpet"
           }
          ],
          "scattergeo": [
           {
            "marker": {
             "colorbar": {
              "outlinewidth": 0,
              "ticks": ""
             }
            },
            "type": "scattergeo"
           }
          ],
          "scattergl": [
           {
            "marker": {
             "colorbar": {
              "outlinewidth": 0,
              "ticks": ""
             }
            },
            "type": "scattergl"
           }
          ],
          "scattermapbox": [
           {
            "marker": {
             "colorbar": {
              "outlinewidth": 0,
              "ticks": ""
             }
            },
            "type": "scattermapbox"
           }
          ],
          "scatterpolar": [
           {
            "marker": {
             "colorbar": {
              "outlinewidth": 0,
              "ticks": ""
             }
            },
            "type": "scatterpolar"
           }
          ],
          "scatterpolargl": [
           {
            "marker": {
             "colorbar": {
              "outlinewidth": 0,
              "ticks": ""
             }
            },
            "type": "scatterpolargl"
           }
          ],
          "scatterternary": [
           {
            "marker": {
             "colorbar": {
              "outlinewidth": 0,
              "ticks": ""
             }
            },
            "type": "scatterternary"
           }
          ],
          "surface": [
           {
            "colorbar": {
             "outlinewidth": 0,
             "ticks": ""
            },
            "colorscale": [
             [
              0,
              "#0d0887"
             ],
             [
              0.1111111111111111,
              "#46039f"
             ],
             [
              0.2222222222222222,
              "#7201a8"
             ],
             [
              0.3333333333333333,
              "#9c179e"
             ],
             [
              0.4444444444444444,
              "#bd3786"
             ],
             [
              0.5555555555555556,
              "#d8576b"
             ],
             [
              0.6666666666666666,
              "#ed7953"
             ],
             [
              0.7777777777777778,
              "#fb9f3a"
             ],
             [
              0.8888888888888888,
              "#fdca26"
             ],
             [
              1,
              "#f0f921"
             ]
            ],
            "type": "surface"
           }
          ],
          "table": [
           {
            "cells": {
             "fill": {
              "color": "#EBF0F8"
             },
             "line": {
              "color": "white"
             }
            },
            "header": {
             "fill": {
              "color": "#C8D4E3"
             },
             "line": {
              "color": "white"
             }
            },
            "type": "table"
           }
          ]
         },
         "layout": {
          "annotationdefaults": {
           "arrowcolor": "#2a3f5f",
           "arrowhead": 0,
           "arrowwidth": 1
          },
          "autotypenumbers": "strict",
          "coloraxis": {
           "colorbar": {
            "outlinewidth": 0,
            "ticks": ""
           }
          },
          "colorscale": {
           "diverging": [
            [
             0,
             "#8e0152"
            ],
            [
             0.1,
             "#c51b7d"
            ],
            [
             0.2,
             "#de77ae"
            ],
            [
             0.3,
             "#f1b6da"
            ],
            [
             0.4,
             "#fde0ef"
            ],
            [
             0.5,
             "#f7f7f7"
            ],
            [
             0.6,
             "#e6f5d0"
            ],
            [
             0.7,
             "#b8e186"
            ],
            [
             0.8,
             "#7fbc41"
            ],
            [
             0.9,
             "#4d9221"
            ],
            [
             1,
             "#276419"
            ]
           ],
           "sequential": [
            [
             0,
             "#0d0887"
            ],
            [
             0.1111111111111111,
             "#46039f"
            ],
            [
             0.2222222222222222,
             "#7201a8"
            ],
            [
             0.3333333333333333,
             "#9c179e"
            ],
            [
             0.4444444444444444,
             "#bd3786"
            ],
            [
             0.5555555555555556,
             "#d8576b"
            ],
            [
             0.6666666666666666,
             "#ed7953"
            ],
            [
             0.7777777777777778,
             "#fb9f3a"
            ],
            [
             0.8888888888888888,
             "#fdca26"
            ],
            [
             1,
             "#f0f921"
            ]
           ],
           "sequentialminus": [
            [
             0,
             "#0d0887"
            ],
            [
             0.1111111111111111,
             "#46039f"
            ],
            [
             0.2222222222222222,
             "#7201a8"
            ],
            [
             0.3333333333333333,
             "#9c179e"
            ],
            [
             0.4444444444444444,
             "#bd3786"
            ],
            [
             0.5555555555555556,
             "#d8576b"
            ],
            [
             0.6666666666666666,
             "#ed7953"
            ],
            [
             0.7777777777777778,
             "#fb9f3a"
            ],
            [
             0.8888888888888888,
             "#fdca26"
            ],
            [
             1,
             "#f0f921"
            ]
           ]
          },
          "colorway": [
           "#636efa",
           "#EF553B",
           "#00cc96",
           "#ab63fa",
           "#FFA15A",
           "#19d3f3",
           "#FF6692",
           "#B6E880",
           "#FF97FF",
           "#FECB52"
          ],
          "font": {
           "color": "#2a3f5f"
          },
          "geo": {
           "bgcolor": "white",
           "lakecolor": "white",
           "landcolor": "#E5ECF6",
           "showlakes": true,
           "showland": true,
           "subunitcolor": "white"
          },
          "hoverlabel": {
           "align": "left"
          },
          "hovermode": "closest",
          "mapbox": {
           "style": "light"
          },
          "paper_bgcolor": "white",
          "plot_bgcolor": "#E5ECF6",
          "polar": {
           "angularaxis": {
            "gridcolor": "white",
            "linecolor": "white",
            "ticks": ""
           },
           "bgcolor": "#E5ECF6",
           "radialaxis": {
            "gridcolor": "white",
            "linecolor": "white",
            "ticks": ""
           }
          },
          "scene": {
           "xaxis": {
            "backgroundcolor": "#E5ECF6",
            "gridcolor": "white",
            "gridwidth": 2,
            "linecolor": "white",
            "showbackground": true,
            "ticks": "",
            "zerolinecolor": "white"
           },
           "yaxis": {
            "backgroundcolor": "#E5ECF6",
            "gridcolor": "white",
            "gridwidth": 2,
            "linecolor": "white",
            "showbackground": true,
            "ticks": "",
            "zerolinecolor": "white"
           },
           "zaxis": {
            "backgroundcolor": "#E5ECF6",
            "gridcolor": "white",
            "gridwidth": 2,
            "linecolor": "white",
            "showbackground": true,
            "ticks": "",
            "zerolinecolor": "white"
           }
          },
          "shapedefaults": {
           "line": {
            "color": "#2a3f5f"
           }
          },
          "ternary": {
           "aaxis": {
            "gridcolor": "white",
            "linecolor": "white",
            "ticks": ""
           },
           "baxis": {
            "gridcolor": "white",
            "linecolor": "white",
            "ticks": ""
           },
           "bgcolor": "#E5ECF6",
           "caxis": {
            "gridcolor": "white",
            "linecolor": "white",
            "ticks": ""
           }
          },
          "title": {
           "x": 0.05
          },
          "xaxis": {
           "automargin": true,
           "gridcolor": "white",
           "linecolor": "white",
           "ticks": "",
           "title": {
            "standoff": 15
           },
           "zerolinecolor": "white",
           "zerolinewidth": 2
          },
          "yaxis": {
           "automargin": true,
           "gridcolor": "white",
           "linecolor": "white",
           "ticks": "",
           "title": {
            "standoff": 15
           },
           "zerolinecolor": "white",
           "zerolinewidth": 2
          }
         }
        },
        "title": {
         "text": "Valoracion de las startups 2022: TOP 5"
        },
        "xaxis": {
         "anchor": "y",
         "domain": [
          0,
          0.42
         ],
         "showgrid": true,
         "showline": false,
         "showticklabels": true,
         "zeroline": false
        },
        "xaxis2": {
         "anchor": "y2",
         "domain": [
          0.47,
          1
         ],
         "showgrid": true,
         "showline": false,
         "showticklabels": true,
         "side": "top",
         "zeroline": false
        },
        "yaxis": {
         "anchor": "x",
         "autorange": "reversed",
         "domain": [
          0,
          0.85
         ],
         "showgrid": false,
         "showline": false,
         "showticklabels": true
        },
        "yaxis2": {
         "anchor": "x2",
         "domain": [
          0,
          0.85
         ],
         "linecolor": "rgba(102, 102, 102, 0.8)",
         "linewidth": 2,
         "showgrid": false,
         "showline": true,
         "showticklabels": false
        }
       }
      }
     },
     "metadata": {},
     "output_type": "display_data"
    }
   ],
   "source": [
    "\n",
    "# Creating two subplots\n",
    "fig = make_subplots(rows=1, cols=2, specs=[[{}, {}]], shared_xaxes=True,\n",
    "                    shared_yaxes=False, vertical_spacing=0.001)\n",
    "\n",
    "fig.append_trace(go.Bar(\n",
    "    x=valoracion_2022,\n",
    "    y=valoracion_nombre,\n",
    "    marker=dict(color='#81b29a'),\n",
    "    name='Valoración, en (%)',\n",
    "    orientation='h',\n",
    "), 1, 1)\n",
    "\n",
    "fig.append_trace(go.Scatter(\n",
    "    x=variable, y=valoracion_nombre,\n",
    "    mode='lines+markers', line=dict(width=2), marker=dict(color=\"#f2cc8f\", size=8),\n",
    "    line_color='#3d405b',\n",
    "    name='Resultado del Ejercicio mil EUR',\n",
    "), 1, 2)\n",
    "\n",
    "fig.update_layout(\n",
    "    title='Valoracion de las startups 2022: TOP 5',\n",
    "    yaxis=dict(showgrid=False,showline=False,showticklabels=True,domain=[0, 0.85], autorange=\"reversed\"),\n",
    "    yaxis2=dict(showgrid=False,showline=True,showticklabels=False,linecolor='rgba(102, 102, 102, 0.8)',linewidth=2,domain=[0, 0.85]),\n",
    "    xaxis=dict(zeroline=False,showline=False,showticklabels=True,showgrid=True,domain=[0, 0.42]),\n",
    "    xaxis2=dict(zeroline=False,showline=False,showticklabels=True,showgrid=True,domain=[0.47, 1],side='top'),\n",
    "    legend=dict(bordercolor=\"Black\", borderwidth=1, x=0.25, y=-0.1,  orientation=\"h\"),\n",
    "    margin=dict(l=100, r=20, t=70, b=70),\n",
    "    plot_bgcolor='white'\n",
    ")\n",
    "\n",
    "fig.add_layout_image(\n",
    "    dict(\n",
    "        source=\"data:image/png;base64,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\",\n",
    "        x=0.335,\n",
    "        y=0.72,sizex=0.15,sizey=0.1\n",
    "    ))\n",
    "\n",
    "fig.add_layout_image(\n",
    "    dict(\n",
    "        source=\"https://res.cloudinary.com/spydeals/image/upload/w_230,f_auto,q_auto,c_limit/cdn/dvdwZHRV3nmRp5MiSmUFh2gZzZClJCjarPdyZCZt.png\",\n",
    "        x=0.29,\n",
    "        y=0.55,sizex=0.2,sizey=0.1\n",
    "    ))\n",
    "\n",
    "fig.add_layout_image(\n",
    "    dict(\n",
    "        source=\"https://media.licdn.com/dms/image/D4D0BAQE559x2dCL5Sg/company-logo_200_200/0/1663675865870?e=2147483647&v=beta&t=r98BZ-Yo5a8SyU4oVFZrzg48_RC40iN-Urb_GtOFe_o\",\n",
    "        x=0.225,\n",
    "        y=0.375,sizex=0.08,sizey=0.1\n",
    "    ))\n",
    "\n",
    "fig.add_layout_image(\n",
    "    dict(\n",
    "        source=\"data:image/jpeg;base64,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\",\n",
    "        x=0.15,\n",
    "        y=0.22,sizex=0.08,sizey=0.08\n",
    "    ))\n",
    "\n",
    "fig.add_layout_image(\n",
    "    dict(\n",
    "        source=\"data:image/png;base64,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\",\n",
    "        x=0.13,\n",
    "        y=0.04,sizex=0.08,sizey=0.08))\n",
    "\n",
    "fig.update_layout_images(dict(\n",
    "        xref=\"paper\",\n",
    "        yref=\"paper\",\n",
    "        xanchor=\"right\",\n",
    "        yanchor=\"bottom\"))\n",
    "\n",
    "annotations = []\n",
    "\n",
    "y_s = np.round(valoracion_2022, decimals=2)\n",
    "y_nw = np.rint(variable)\n",
    "\n",
    "for ydn, yd, xd in zip(y_nw, y_s, valoracion_nombre):\n",
    "    annotations.append(dict(xref='x2', yref='y2',\n",
    "                            y=xd, x=ydn + 800,\n",
    "                            text='{:,}'.format(ydn) + 'K',\n",
    "                            font=dict(family='Arial', size=12,color='#3d405b'),showarrow=False))\n",
    "    annotations.append(dict(xref='x1', yref='y1',\n",
    "                            y=xd, x=yd + 25,\n",
    "                            text=str(yd) + '%',\n",
    "                            font=dict(family='Arial', size=12,color='#81b29a'),showarrow=False))\n",
    "    \n",
    "fig.update_layout(annotations=annotations)\n",
    "\n",
    "fig.show()"
   ]
  },
  {
   "cell_type": "code",
   "execution_count": null,
   "metadata": {},
   "outputs": [],
   "source": []
  }
 ],
 "metadata": {
  "kernelspec": {
   "display_name": "DM",
   "language": "python",
   "name": "python3"
  },
  "language_info": {
   "codemirror_mode": {
    "name": "ipython",
    "version": 3
   },
   "file_extension": ".py",
   "mimetype": "text/x-python",
   "name": "python",
   "nbconvert_exporter": "python",
   "pygments_lexer": "ipython3",
   "version": "3.9.16"
  },
  "orig_nbformat": 4,
  "vscode": {
   "interpreter": {
    "hash": "af333b3438d09074e13fc4f426617d667447cff21ab4ab81782d774f95aaae7f"
   }
  }
 },
 "nbformat": 4,
 "nbformat_minor": 2
}
