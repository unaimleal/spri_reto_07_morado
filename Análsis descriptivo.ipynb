{
 "cells": [
  {
   "cell_type": "code",
   "execution_count": 19,
   "metadata": {},
   "outputs": [],
   "source": [
    "%matplotlib notebook\n",
    "%matplotlib inline"
   ]
  },
  {
   "cell_type": "code",
   "execution_count": 20,
   "metadata": {},
   "outputs": [],
   "source": [
    "import pandas as pd\n",
    "import os\n",
    "import seaborn as sns\n",
    "import matplotlib.pyplot as plt"
   ]
  },
  {
   "cell_type": "code",
   "execution_count": 21,
   "metadata": {},
   "outputs": [],
   "source": [
    "CARPETA_DATOS_ORIGINALES = 'Datos/Originales/'\n",
    "df_sabi_1= pd.read_excel(os.path.join(CARPETA_DATOS_ORIGINALES, 'df_sabi_modif_1.xlsx'))\n",
    "df_sabi_2= pd.read_excel(os.path.join(CARPETA_DATOS_ORIGINALES, 'df_sabi_modif_2.xlsx'))\n",
    "df_dealroom= pd.read_excel(os.path.join(CARPETA_DATOS_ORIGINALES, 'df_dealroom_modif.xlsx'))"
   ]
  },
  {
   "cell_type": "code",
   "execution_count": 4,
   "metadata": {},
   "outputs": [
    {
     "data": {
      "text/html": [
       "<div>\n",
       "<style scoped>\n",
       "    .dataframe tbody tr th:only-of-type {\n",
       "        vertical-align: middle;\n",
       "    }\n",
       "\n",
       "    .dataframe tbody tr th {\n",
       "        vertical-align: top;\n",
       "    }\n",
       "\n",
       "    .dataframe thead th {\n",
       "        text-align: right;\n",
       "    }\n",
       "</style>\n",
       "<table border=\"1\" class=\"dataframe\">\n",
       "  <thead>\n",
       "    <tr style=\"text-align: right;\">\n",
       "      <th></th>\n",
       "      <th>Codigo_NIF</th>\n",
       "      <th>Nombre_sabi</th>\n",
       "      <th>Localidad</th>\n",
       "      <th>Fecha constitucion</th>\n",
       "      <th>Codigo consolidacion</th>\n",
       "      <th>Codigo primario CNAE 2009</th>\n",
       "      <th>Forma juridica</th>\n",
       "      <th>Forma juridica detallada</th>\n",
       "      <th>Estado</th>\n",
       "      <th>Estado detallado</th>\n",
       "      <th>Capital social mil EUR</th>\n",
       "      <th>Free capital mil EUR</th>\n",
       "      <th>Porcentaje_adquisicion_cat</th>\n",
       "    </tr>\n",
       "  </thead>\n",
       "  <tbody>\n",
       "    <tr>\n",
       "      <th>0</th>\n",
       "      <td>A78053147</td>\n",
       "      <td>TELEFONICA SOLUCIONES DE INFORMATICA Y COMUNIC...</td>\n",
       "      <td>MADRID</td>\n",
       "      <td>1985/06/05</td>\n",
       "      <td>U2</td>\n",
       "      <td>6190</td>\n",
       "      <td>Sociedad anonima</td>\n",
       "      <td>Sociedad anónima unipersonal</td>\n",
       "      <td>Activa</td>\n",
       "      <td>Activa</td>\n",
       "      <td>2000.0</td>\n",
       "      <td>0.0</td>\n",
       "      <td>2</td>\n",
       "    </tr>\n",
       "    <tr>\n",
       "      <th>1</th>\n",
       "      <td>B75103515</td>\n",
       "      <td>IRIZAR E-MOBILITY SL.</td>\n",
       "      <td>ADUNA</td>\n",
       "      <td>2014/01/21</td>\n",
       "      <td>U1</td>\n",
       "      <td>2910</td>\n",
       "      <td>Sociedad limitada</td>\n",
       "      <td>Sociedad limitada</td>\n",
       "      <td>Activa</td>\n",
       "      <td>Activa</td>\n",
       "      <td>20500.0</td>\n",
       "      <td>0.0</td>\n",
       "      <td>1</td>\n",
       "    </tr>\n",
       "  </tbody>\n",
       "</table>\n",
       "</div>"
      ],
      "text/plain": [
       "  Codigo_NIF                                        Nombre_sabi Localidad  \\\n",
       "0  A78053147  TELEFONICA SOLUCIONES DE INFORMATICA Y COMUNIC...    MADRID   \n",
       "1  B75103515                              IRIZAR E-MOBILITY SL.     ADUNA   \n",
       "\n",
       "  Fecha constitucion Codigo consolidacion  Codigo primario CNAE 2009  \\\n",
       "0         1985/06/05                   U2                       6190   \n",
       "1         2014/01/21                   U1                       2910   \n",
       "\n",
       "      Forma juridica      Forma juridica detallada  Estado Estado detallado  \\\n",
       "0   Sociedad anonima  Sociedad anónima unipersonal  Activa           Activa   \n",
       "1  Sociedad limitada             Sociedad limitada  Activa           Activa   \n",
       "\n",
       "   Capital social mil EUR  Free capital mil EUR  Porcentaje_adquisicion_cat  \n",
       "0                  2000.0                   0.0                           2  \n",
       "1                 20500.0                   0.0                           1  "
      ]
     },
     "execution_count": 4,
     "metadata": {},
     "output_type": "execute_result"
    }
   ],
   "source": [
    "df_sabi_1.head(2)"
   ]
  },
  {
   "cell_type": "code",
   "execution_count": 5,
   "metadata": {},
   "outputs": [
    {
     "data": {
      "text/html": [
       "<div>\n",
       "<style scoped>\n",
       "    .dataframe tbody tr th:only-of-type {\n",
       "        vertical-align: middle;\n",
       "    }\n",
       "\n",
       "    .dataframe tbody tr th {\n",
       "        vertical-align: top;\n",
       "    }\n",
       "\n",
       "    .dataframe thead th {\n",
       "        text-align: right;\n",
       "    }\n",
       "</style>\n",
       "<table border=\"1\" class=\"dataframe\">\n",
       "  <thead>\n",
       "    <tr style=\"text-align: right;\">\n",
       "      <th></th>\n",
       "      <th>Codigo_NIF</th>\n",
       "      <th>name_dealroom</th>\n",
       "      <th>profile_url</th>\n",
       "      <th>website</th>\n",
       "      <th>tagline</th>\n",
       "      <th>total_funding</th>\n",
       "      <th>first_funding_date</th>\n",
       "      <th>last_funding_date</th>\n",
       "      <th>last_funding</th>\n",
       "      <th>last_round</th>\n",
       "      <th>total_rounds</th>\n",
       "      <th>n_empleados_dealroom</th>\n",
       "      <th>ownerships</th>\n",
       "      <th>b2b_b2c</th>\n",
       "      <th>revenue_models</th>\n",
       "      <th>growth_stage</th>\n",
       "      <th>company_status</th>\n",
       "      <th>valuation_2022</th>\n",
       "    </tr>\n",
       "  </thead>\n",
       "  <tbody>\n",
       "    <tr>\n",
       "      <th>0</th>\n",
       "      <td>A78053147</td>\n",
       "      <td>Hostalia</td>\n",
       "      <td>https://app.dealroom.co/companies/hostalia</td>\n",
       "      <td>http://hostalia.com</td>\n",
       "      <td>NaN</td>\n",
       "      <td>0.0</td>\n",
       "      <td>NaN</td>\n",
       "      <td>NaN</td>\n",
       "      <td>NaN</td>\n",
       "      <td>NaN</td>\n",
       "      <td>0</td>\n",
       "      <td>NaN</td>\n",
       "      <td>bootstrapped</td>\n",
       "      <td>business</td>\n",
       "      <td>saas</td>\n",
       "      <td>early growth</td>\n",
       "      <td>operational</td>\n",
       "      <td>NaN</td>\n",
       "    </tr>\n",
       "    <tr>\n",
       "      <th>1</th>\n",
       "      <td>B75103515</td>\n",
       "      <td>Irizar E-Mobility</td>\n",
       "      <td>https://app.dealroom.co/companies/irizar_e_mob...</td>\n",
       "      <td>http://irizar-emobility.com</td>\n",
       "      <td>Integral Solutions for Custom Electromobility ...</td>\n",
       "      <td>NaN</td>\n",
       "      <td>jan/2014</td>\n",
       "      <td>jan/2014</td>\n",
       "      <td>NaN</td>\n",
       "      <td>SUPPORT PROGRAM</td>\n",
       "      <td>1</td>\n",
       "      <td>115.0</td>\n",
       "      <td>accelerator</td>\n",
       "      <td>business</td>\n",
       "      <td>NaN</td>\n",
       "      <td>late growth</td>\n",
       "      <td>operational</td>\n",
       "      <td>NaN</td>\n",
       "    </tr>\n",
       "  </tbody>\n",
       "</table>\n",
       "</div>"
      ],
      "text/plain": [
       "  Codigo_NIF      name_dealroom  \\\n",
       "0  A78053147           Hostalia   \n",
       "1  B75103515  Irizar E-Mobility   \n",
       "\n",
       "                                         profile_url  \\\n",
       "0         https://app.dealroom.co/companies/hostalia   \n",
       "1  https://app.dealroom.co/companies/irizar_e_mob...   \n",
       "\n",
       "                       website  \\\n",
       "0          http://hostalia.com   \n",
       "1  http://irizar-emobility.com   \n",
       "\n",
       "                                             tagline  total_funding  \\\n",
       "0                                                NaN            0.0   \n",
       "1  Integral Solutions for Custom Electromobility ...            NaN   \n",
       "\n",
       "  first_funding_date last_funding_date  last_funding       last_round  \\\n",
       "0                NaN               NaN           NaN              NaN   \n",
       "1           jan/2014          jan/2014           NaN  SUPPORT PROGRAM   \n",
       "\n",
       "   total_rounds  n_empleados_dealroom    ownerships   b2b_b2c revenue_models  \\\n",
       "0             0                   NaN  bootstrapped  business           saas   \n",
       "1             1                 115.0   accelerator  business            NaN   \n",
       "\n",
       "   growth_stage company_status  valuation_2022  \n",
       "0  early growth    operational             NaN  \n",
       "1   late growth    operational             NaN  "
      ]
     },
     "execution_count": 5,
     "metadata": {},
     "output_type": "execute_result"
    }
   ],
   "source": [
    "df_dealroom.head(2)"
   ]
  },
  {
   "cell_type": "code",
   "execution_count": 7,
   "metadata": {},
   "outputs": [
    {
     "data": {
      "text/plain": [
       "<seaborn.axisgrid.PairGrid at 0x7fc0702c3100>"
      ]
     },
     "execution_count": 7,
     "metadata": {},
     "output_type": "execute_result"
    }
   ],
   "source": [
    "sns.pairplot(df_dealroom)"
   ]
  },
  {
   "attachments": {},
   "cell_type": "markdown",
   "metadata": {},
   "source": [
    "variable Growth_stage en cada fase cuantas empresas hay"
   ]
  },
  {
   "cell_type": "code",
   "execution_count": 22,
   "metadata": {},
   "outputs": [
    {
     "data": {
      "text/html": [
       "<div>\n",
       "<style scoped>\n",
       "    .dataframe tbody tr th:only-of-type {\n",
       "        vertical-align: middle;\n",
       "    }\n",
       "\n",
       "    .dataframe tbody tr th {\n",
       "        vertical-align: top;\n",
       "    }\n",
       "\n",
       "    .dataframe thead th {\n",
       "        text-align: right;\n",
       "    }\n",
       "</style>\n",
       "<table border=\"1\" class=\"dataframe\">\n",
       "  <thead>\n",
       "    <tr style=\"text-align: right;\">\n",
       "      <th></th>\n",
       "      <th>growth_stage</th>\n",
       "      <th>Codigo_NIF</th>\n",
       "    </tr>\n",
       "  </thead>\n",
       "  <tbody>\n",
       "    <tr>\n",
       "      <th>0</th>\n",
       "      <td>early growth</td>\n",
       "      <td>120</td>\n",
       "    </tr>\n",
       "    <tr>\n",
       "      <th>1</th>\n",
       "      <td>late growth</td>\n",
       "      <td>29</td>\n",
       "    </tr>\n",
       "    <tr>\n",
       "      <th>2</th>\n",
       "      <td>seed</td>\n",
       "      <td>262</td>\n",
       "    </tr>\n",
       "  </tbody>\n",
       "</table>\n",
       "</div>"
      ],
      "text/plain": [
       "   growth_stage  Codigo_NIF\n",
       "0  early growth         120\n",
       "1   late growth          29\n",
       "2          seed         262"
      ]
     },
     "execution_count": 22,
     "metadata": {},
     "output_type": "execute_result"
    }
   ],
   "source": [
    "n_empresas = df_dealroom.groupby('growth_stage')['Codigo_NIF'].count().reset_index()\n",
    "n_empresas"
   ]
  },
  {
   "cell_type": "code",
   "execution_count": 9,
   "metadata": {},
   "outputs": [
    {
     "data": {
      "image/png": "[encoded data removed]",
      "text/plain": [
       "<Figure size 640x480 with 1 Axes>"
      ]
     },
     "metadata": {},
     "output_type": "display_data"
    },
    {
     "data": {
      "text/plain": [
       "<Figure size 640x480 with 0 Axes>"
      ]
     },
     "metadata": {},
     "output_type": "display_data"
    }
   ],
   "source": [
    "def my_autopct(pct):\n",
    "    return ('%.2f %%' % pct) if pct > 1.5 else ''\n",
    "    \n",
    "observaciones_cluster = n_empresas['Codigo_NIF']\n",
    "nombres = [\"early growth\",\"late growth\",\"seed\"]\n",
    "colores = [\"#ba7d5f\",\"#efb284\",\"#bdaca4\"]\n",
    "\n",
    "plt.pie(observaciones_cluster, colors=colores, autopct=my_autopct)\n",
    "plt.title('Distribución de las empresas por fase')\n",
    "plt.axis(\"equal\")\n",
    "plt.legend(nombres, bbox_to_anchor=(1.2, 0.65), borderaxespad=0, edgecolor=\"black\")\n",
    "\n",
    "fig = plt.gcf()\n",
    "plt.show()\n",
    "plt.draw()"
   ]
  },
  {
   "attachments": {},
   "cell_type": "markdown",
   "metadata": {},
   "source": [
    "En cada fase cuantos total de financiacion y en la media en milllones"
   ]
  },
  {
   "cell_type": "code",
   "execution_count": 24,
   "metadata": {},
   "outputs": [],
   "source": [
    "n_total_fund=df_dealroom.groupby('growth_stage')['total_funding'].count().reset_index()"
   ]
  },
  {
   "cell_type": "code",
   "execution_count": 25,
   "metadata": {},
   "outputs": [
    {
     "data": {
      "text/html": [
       "<div>\n",
       "<style scoped>\n",
       "    .dataframe tbody tr th:only-of-type {\n",
       "        vertical-align: middle;\n",
       "    }\n",
       "\n",
       "    .dataframe tbody tr th {\n",
       "        vertical-align: top;\n",
       "    }\n",
       "\n",
       "    .dataframe thead th {\n",
       "        text-align: right;\n",
       "    }\n",
       "</style>\n",
       "<table border=\"1\" class=\"dataframe\">\n",
       "  <thead>\n",
       "    <tr style=\"text-align: right;\">\n",
       "      <th></th>\n",
       "      <th>growth_stage</th>\n",
       "      <th>total_funding</th>\n",
       "    </tr>\n",
       "  </thead>\n",
       "  <tbody>\n",
       "    <tr>\n",
       "      <th>0</th>\n",
       "      <td>early growth</td>\n",
       "      <td>0.668796</td>\n",
       "    </tr>\n",
       "    <tr>\n",
       "      <th>1</th>\n",
       "      <td>late growth</td>\n",
       "      <td>8.679565</td>\n",
       "    </tr>\n",
       "    <tr>\n",
       "      <th>2</th>\n",
       "      <td>seed</td>\n",
       "      <td>0.218052</td>\n",
       "    </tr>\n",
       "  </tbody>\n",
       "</table>\n",
       "</div>"
      ],
      "text/plain": [
       "   growth_stage  total_funding\n",
       "0  early growth       0.668796\n",
       "1   late growth       8.679565\n",
       "2          seed       0.218052"
      ]
     },
     "execution_count": 25,
     "metadata": {},
     "output_type": "execute_result"
    }
   ],
   "source": [
    "df_dealroom.groupby('growth_stage')['total_funding'].mean().reset_index()"
   ]
  },
  {
   "attachments": {},
   "cell_type": "markdown",
   "metadata": {},
   "source": [
    "En cada fase cuantas ultimas financiaciones ha habido y la media en millones"
   ]
  },
  {
   "cell_type": "code",
   "execution_count": 26,
   "metadata": {},
   "outputs": [],
   "source": [
    "n_last_fund=df_dealroom.groupby('growth_stage')['last_funding'].count().reset_index()"
   ]
  },
  {
   "cell_type": "code",
   "execution_count": 27,
   "metadata": {},
   "outputs": [
    {
     "data": {
      "text/html": [
       "<div>\n",
       "<style scoped>\n",
       "    .dataframe tbody tr th:only-of-type {\n",
       "        vertical-align: middle;\n",
       "    }\n",
       "\n",
       "    .dataframe tbody tr th {\n",
       "        vertical-align: top;\n",
       "    }\n",
       "\n",
       "    .dataframe thead th {\n",
       "        text-align: right;\n",
       "    }\n",
       "</style>\n",
       "<table border=\"1\" class=\"dataframe\">\n",
       "  <thead>\n",
       "    <tr style=\"text-align: right;\">\n",
       "      <th></th>\n",
       "      <th>growth_stage</th>\n",
       "      <th>last_funding</th>\n",
       "    </tr>\n",
       "  </thead>\n",
       "  <tbody>\n",
       "    <tr>\n",
       "      <th>0</th>\n",
       "      <td>early growth</td>\n",
       "      <td>0.212903</td>\n",
       "    </tr>\n",
       "    <tr>\n",
       "      <th>1</th>\n",
       "      <td>late growth</td>\n",
       "      <td>9.828000</td>\n",
       "    </tr>\n",
       "    <tr>\n",
       "      <th>2</th>\n",
       "      <td>seed</td>\n",
       "      <td>0.128160</td>\n",
       "    </tr>\n",
       "  </tbody>\n",
       "</table>\n",
       "</div>"
      ],
      "text/plain": [
       "   growth_stage  last_funding\n",
       "0  early growth      0.212903\n",
       "1   late growth      9.828000\n",
       "2          seed      0.128160"
      ]
     },
     "execution_count": 27,
     "metadata": {},
     "output_type": "execute_result"
    }
   ],
   "source": [
    "df_dealroom.groupby('growth_stage')['last_funding'].mean().reset_index()"
   ]
  },
  {
   "cell_type": "code",
   "execution_count": 40,
   "metadata": {},
   "outputs": [
    {
     "ename": "TypeError",
     "evalue": "'RangeIndex' object is not callable",
     "output_type": "error",
     "traceback": [
      "\u001b[1;31m---------------------------------------------------------------------------\u001b[0m",
      "\u001b[1;31mTypeError\u001b[0m                                 Traceback (most recent call last)",
      "Cell \u001b[1;32mIn[40], line 1\u001b[0m\n\u001b[1;32m----> 1\u001b[0m n_last_fund\u001b[39m.\u001b[39;49mloc[:,\u001b[39m'\u001b[39;49m\u001b[39mlast_funding\u001b[39;49m\u001b[39m'\u001b[39;49m]\u001b[39m.\u001b[39;49mindex()\n",
      "\u001b[1;31mTypeError\u001b[0m: 'RangeIndex' object is not callable"
     ]
    }
   ],
   "source": [
    "n_last_fund.loc[:,'last_funding']"
   ]
  },
  {
   "cell_type": "code",
   "execution_count": 45,
   "metadata": {},
   "outputs": [],
   "source": [
    "a=pd.concat([n_total_fund,n_last_fund.loc[:,'last_funding']],axis=1)\n",
    "a['first_funding']=a['total_funding']-a['last_funding']"
   ]
  },
  {
   "cell_type": "code",
   "execution_count": 47,
   "metadata": {},
   "outputs": [
    {
     "data": {
      "text/html": [
       "<div>\n",
       "<style scoped>\n",
       "    .dataframe tbody tr th:only-of-type {\n",
       "        vertical-align: middle;\n",
       "    }\n",
       "\n",
       "    .dataframe tbody tr th {\n",
       "        vertical-align: top;\n",
       "    }\n",
       "\n",
       "    .dataframe thead th {\n",
       "        text-align: right;\n",
       "    }\n",
       "</style>\n",
       "<table border=\"1\" class=\"dataframe\">\n",
       "  <thead>\n",
       "    <tr style=\"text-align: right;\">\n",
       "      <th></th>\n",
       "      <th>growth_stage</th>\n",
       "      <th>total_funding</th>\n",
       "      <th>last_funding</th>\n",
       "      <th>first_funding</th>\n",
       "    </tr>\n",
       "  </thead>\n",
       "  <tbody>\n",
       "    <tr>\n",
       "      <th>0</th>\n",
       "      <td>early growth</td>\n",
       "      <td>108</td>\n",
       "      <td>62</td>\n",
       "      <td>46</td>\n",
       "    </tr>\n",
       "    <tr>\n",
       "      <th>1</th>\n",
       "      <td>late growth</td>\n",
       "      <td>23</td>\n",
       "      <td>15</td>\n",
       "      <td>8</td>\n",
       "    </tr>\n",
       "    <tr>\n",
       "      <th>2</th>\n",
       "      <td>seed</td>\n",
       "      <td>249</td>\n",
       "      <td>119</td>\n",
       "      <td>130</td>\n",
       "    </tr>\n",
       "  </tbody>\n",
       "</table>\n",
       "</div>"
      ],
      "text/plain": [
       "   growth_stage  total_funding  last_funding  first_funding\n",
       "0  early growth            108            62             46\n",
       "1   late growth             23            15              8\n",
       "2          seed            249           119            130"
      ]
     },
     "execution_count": 47,
     "metadata": {},
     "output_type": "execute_result"
    }
   ],
   "source": [
    "a"
   ]
  }
 ],
 "metadata": {
  "kernelspec": {
   "display_name": "Python 3.9.16 ('22-23_R7_Morado')",
   "language": "python",
   "name": "python3"
  },
  "language_info": {
   "codemirror_mode": {
    "name": "ipython",
    "version": 3
   },
   "file_extension": ".py",
   "mimetype": "text/x-python",
   "name": "python",
   "nbconvert_exporter": "python",
   "pygments_lexer": "ipython3",
   "version": "3.9.16"
  },
  "orig_nbformat": 4,
  "vscode": {
   "interpreter": {
    "hash": "ffbf281d2ea35585378c00f017520e01fdcbac388f50593d27b1f007c5e483d7"
   }
  }
 },
 "nbformat": 4,
 "nbformat_minor": 2
}
