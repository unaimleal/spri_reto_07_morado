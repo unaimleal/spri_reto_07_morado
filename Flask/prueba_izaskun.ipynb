{
 "cells": [
  {
   "cell_type": "code",
   "execution_count": 17,
   "metadata": {},
   "outputs": [],
   "source": [
    "import pandas as pd\n",
    "import os\n",
    "import seaborn as sns\n",
    "import matplotlib.pyplot as plt\n",
    "import plotly.express as px\n",
    "import pickle as pkl"
   ]
  },
  {
   "cell_type": "code",
   "execution_count": 19,
   "metadata": {},
   "outputs": [],
   "source": [
    "CARPETA_DATOS_LIMPIOS = '../Datos/Limpios/'\n",
    "df= pd.read_csv(os.path.join(CARPETA_DATOS_LIMPIOS, 'df_adquisicion.csv'))\n",
    "df2= pd.read_csv(os.path.join(CARPETA_DATOS_LIMPIOS, 'df_valoracion.csv'))\n"
   ]
  },
  {
   "cell_type": "code",
   "execution_count": 15,
   "metadata": {},
   "outputs": [
    {
     "data": {
      "text/plain": [
       "['b2b_b2c',\n",
       " 'Nombre_sabi',\n",
       " 'growth_stage',\n",
       " 'startup',\n",
       " 'Anos en Mercado',\n",
       " 'Cash flow mil EUR_2021',\n",
       " 'EBITDA mil EUR_2021',\n",
       " 'Inmovilizado mil EUR_2021',\n",
       " 'Fondos propios mil EUR_2021',\n",
       " 'Valor agregado mil EUR_2021',\n",
       " 'Total pasivo_ratio',\n",
       " 'Inmovilizado mil EUR_ratio',\n",
       " 'Capital suscrito mil EUR_2021',\n",
       " 'Capital social mil EUR',\n",
       " 'Gastos financieros mil EUR_ratio',\n",
       " 'Gastos de personal mil EUR_2021',\n",
       " 'Resultado financiero mil EUR_ratio',\n",
       " 'Total pasivo y capital propio mil EUR_2021',\n",
       " 'Total activo mil EUR_2021',\n",
       " 'Gastos financieros mil EUR_2021',\n",
       " 'Pasivo fijo mil EUR_2021',\n",
       " 'total_funding',\n",
       " 'Porcentaje_adquisicion_cat']"
      ]
     },
     "execution_count": 15,
     "metadata": {},
     "output_type": "execute_result"
    }
   ],
   "source": [
    "list(df.columns)"
   ]
  },
  {
   "cell_type": "code",
   "execution_count": 21,
   "metadata": {},
   "outputs": [
    {
     "data": {
      "text/plain": [
       "['startup',\n",
       " 'growth_stage',\n",
       " 'b2b_b2c',\n",
       " 'Nombre_sabi',\n",
       " 'valuation_2022',\n",
       " 'Precio/Venta',\n",
       " 'Activo circulante mil EUR_2021',\n",
       " 'Fondos propios mil EUR_2021',\n",
       " 'Total activo mil EUR_2021',\n",
       " 'Total pasivo y capital propio mil EUR_2021',\n",
       " 'Fondo de maniobra mil EUR_2021',\n",
       " 'Deudores mil EUR_2021',\n",
       " 'Beneficio neto mil EUR',\n",
       " 'Ingresos de explotacion mil EUR_2021',\n",
       " 'Importe neto Cifra de Ventas mil EUR_2021',\n",
       " 'Pasivo liquido mil EUR_2021',\n",
       " 'Total pasivo_2021',\n",
       " 'total_funding',\n",
       " 'Pasivo fijo mil EUR_2021',\n",
       " 'Gastos financieros mil EUR_2021',\n",
       " 'Resultado Explotacion mil EUR_2021',\n",
       " 'EBIT mil EUR_2021',\n",
       " 'PER',\n",
       " 'Resultado del Ejercicio mil EUR_2021',\n",
       " 'Result. ordinarios antes Impuestos mil EUR_2021',\n",
       " 'Importe neto Cifra de Ventas mil EUR_ratio']"
      ]
     },
     "execution_count": 21,
     "metadata": {},
     "output_type": "execute_result"
    }
   ],
   "source": [
    "columnas_valoracion=list(df2.columns)\n",
    "len(columnas_valoracion)"
   ]
  },
  {
   "cell_type": "code",
   "execution_count": 5,
   "metadata": {},
   "outputs": [
    {
     "data": {
      "text/plain": [
       "0      0\n",
       "1      0\n",
       "2      1\n",
       "3      0\n",
       "4      1\n",
       "      ..\n",
       "111    1\n",
       "112    1\n",
       "113    1\n",
       "114    1\n",
       "115    1\n",
       "Name: startup, Length: 116, dtype: int64"
      ]
     },
     "execution_count": 5,
     "metadata": {},
     "output_type": "execute_result"
    }
   ],
   "source": [
    "df2['startup']"
   ]
  },
  {
   "cell_type": "code",
   "execution_count": 6,
   "metadata": {},
   "outputs": [
    {
     "name": "stdout",
     "output_type": "stream",
     "text": [
      "<class 'pandas.core.series.Series'>\n",
      "RangeIndex: 412 entries, 0 to 411\n",
      "Series name: startup\n",
      "Non-Null Count  Dtype\n",
      "--------------  -----\n",
      "412 non-null    int64\n",
      "dtypes: int64(1)\n",
      "memory usage: 3.3 KB\n"
     ]
    }
   ],
   "source": [
    "df_adquisicion = pd.read_csv('../Datos/Limpios/df_adquisicion.csv')\n",
    "df_adquisicion['startup'].info()\n"
   ]
  },
  {
   "cell_type": "code",
   "execution_count": 13,
   "metadata": {},
   "outputs": [
    {
     "ename": "AttributeError",
     "evalue": "module 'pandas' has no attribute 'astype'",
     "output_type": "error",
     "traceback": [
      "\u001b[1;31m---------------------------------------------------------------------------\u001b[0m",
      "\u001b[1;31mAttributeError\u001b[0m                            Traceback (most recent call last)",
      "Cell \u001b[1;32mIn[13], line 2\u001b[0m\n\u001b[0;32m      1\u001b[0m a\u001b[39m=\u001b[39m\u001b[39m'\u001b[39m\u001b[39m0\u001b[39m\u001b[39m'\u001b[39m\n\u001b[1;32m----> 2\u001b[0m a\u001b[39m=\u001b[39mpd\u001b[39m.\u001b[39;49mastype(\u001b[39m'\u001b[39m\u001b[39mint64\u001b[39m\u001b[39m'\u001b[39m)\n",
      "File \u001b[1;32mc:\\Users\\ibene\\.conda\\envs\\Reto07\\lib\\site-packages\\pandas\\__init__.py:264\u001b[0m, in \u001b[0;36m__getattr__\u001b[1;34m(name)\u001b[0m\n\u001b[0;32m    260\u001b[0m     \u001b[39mfrom\u001b[39;00m \u001b[39mpandas\u001b[39;00m\u001b[39m.\u001b[39;00m\u001b[39mcore\u001b[39;00m\u001b[39m.\u001b[39;00m\u001b[39marrays\u001b[39;00m\u001b[39m.\u001b[39;00m\u001b[39msparse\u001b[39;00m \u001b[39mimport\u001b[39;00m SparseArray \u001b[39mas\u001b[39;00m _SparseArray\n\u001b[0;32m    262\u001b[0m     \u001b[39mreturn\u001b[39;00m _SparseArray\n\u001b[1;32m--> 264\u001b[0m \u001b[39mraise\u001b[39;00m \u001b[39mAttributeError\u001b[39;00m(\u001b[39mf\u001b[39m\u001b[39m\"\u001b[39m\u001b[39mmodule \u001b[39m\u001b[39m'\u001b[39m\u001b[39mpandas\u001b[39m\u001b[39m'\u001b[39m\u001b[39m has no attribute \u001b[39m\u001b[39m'\u001b[39m\u001b[39m{\u001b[39;00mname\u001b[39m}\u001b[39;00m\u001b[39m'\u001b[39m\u001b[39m\"\u001b[39m)\n",
      "\u001b[1;31mAttributeError\u001b[0m: module 'pandas' has no attribute 'astype'"
     ]
    }
   ],
   "source": [
    "a='0'\n",
    "a=pd.astype('int64')"
   ]
  },
  {
   "cell_type": "code",
   "execution_count": 15,
   "metadata": {},
   "outputs": [],
   "source": [
    "CARPETA_MODELOS1 = \"../modelos/clasificacion\"\n",
    "modelo_clasificacion = pkl.load(open(os.path.join(CARPETA_MODELOS1,\"rf_model.sav\"),\"rb\"))"
   ]
  },
  {
   "cell_type": "code",
   "execution_count": 8,
   "metadata": {},
   "outputs": [
    {
     "data": {
      "text/plain": [
       "str"
      ]
     },
     "execution_count": 8,
     "metadata": {},
     "output_type": "execute_result"
    }
   ],
   "source": [
    "a"
   ]
  }
 ],
 "metadata": {
  "kernelspec": {
   "display_name": "Reto07",
   "language": "python",
   "name": "python3"
  },
  "language_info": {
   "codemirror_mode": {
    "name": "ipython",
    "version": 3
   },
   "file_extension": ".py",
   "mimetype": "text/x-python",
   "name": "python",
   "nbconvert_exporter": "python",
   "pygments_lexer": "ipython3",
   "version": "3.9.16"
  },
  "orig_nbformat": 4
 },
 "nbformat": 4,
 "nbformat_minor": 2
}
