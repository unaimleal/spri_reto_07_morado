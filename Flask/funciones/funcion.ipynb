{
 "cells": [
  {
   "cell_type": "code",
   "execution_count": 2,
   "metadata": {},
   "outputs": [],
   "source": [
    "import pandas as pd\n"
   ]
  },
  {
   "cell_type": "code",
   "execution_count": 1,
   "metadata": {},
   "outputs": [],
   "source": [
    "def mi_vista(request):\n",
    "    df = pd.read_csv('./Datos/Limpios/df_adquisicion_final.csv')\n",
    "    # Otras operaciones que quieras hacer con el DataFrame\n",
    "    return render(request, 'prueba.html', {'df_dict': df.to_dict()})"
   ]
  }
 ],
 "metadata": {
  "kernelspec": {
   "display_name": "Reto07",
   "language": "python",
   "name": "python3"
  },
  "language_info": {
   "codemirror_mode": {
    "name": "ipython",
    "version": 3
   },
   "file_extension": ".py",
   "mimetype": "text/x-python",
   "name": "python",
   "nbconvert_exporter": "python",
   "pygments_lexer": "ipython3",
   "version": "3.9.16"
  },
  "orig_nbformat": 4
 },
 "nbformat": 4,
 "nbformat_minor": 2
}
